{
 "cells": [
  {
   "cell_type": "markdown",
   "id": "ea36f3f1",
   "metadata": {},
   "source": [
    "### Topic: Basic Python Function"
   ]
  },
  {
   "cell_type": "markdown",
   "id": "6363b57d",
   "metadata": {},
   "source": [
    "### OUTCOMES\n",
    "\n",
    "- 1. Introduction of Functions.\n",
    "\n",
    "- 2. Type of Python Functions.\n",
    "\n",
    "- 3. Syntax of Functions.\n",
    "\n",
    "- 4. Function Creation and calling.\n",
    "\n",
    "- 5. Parameters vs Arguements.\n",
    "\n",
    "- 6. Return Statement.\n",
    "\n",
    "- 7. Practical Examples."
   ]
  },
  {
   "cell_type": "markdown",
   "id": "20d6d34b",
   "metadata": {},
   "source": [
    "### 1. Introduction of Functions."
   ]
  },
  {
   "cell_type": "markdown",
   "id": "831e95f5",
   "metadata": {},
   "source": [
    "- A Function is a block of code that Performs a specific task.\n",
    "\n",
    "- Function help in organizing code, reusing code and imporving reability."
   ]
  },
  {
   "cell_type": "markdown",
   "id": "f1a5cab3",
   "metadata": {},
   "source": [
    "- Benefits of using function\n",
    "\n",
    "    - Code Modularity\n",
    "\n",
    "    - Code Readibility\n",
    "\n",
    "    - Code Reusability\n",
    "\n",
    "\n",
    "- Function Follow (use) two Principal\n",
    "\n",
    "    - 1. Abstraction\n",
    "        - We can see the function but don't know internal process.\n",
    "\n",
    "    - 2. Decomposition\n",
    "        - Breaks into smaller units."
   ]
  },
  {
   "cell_type": "markdown",
   "id": "fb430a96",
   "metadata": {},
   "source": [
    "### 2. Type of Python Functions."
   ]
  },
  {
   "cell_type": "markdown",
   "id": "c8466c40",
   "metadata": {},
   "source": [
    "- 1. Build-in Function\n",
    "\n",
    "- 2. User-define function (UDF)\n",
    "\n",
    "- 3. Lamba Function\n",
    "\n",
    "- 4. map function\n",
    "\n",
    "- 5. Filter function\n",
    "\n",
    "- 6. Decorators Function\n",
    "\n",
    "- 7. Recursive Function\n",
    "\n",
    "\n",
    "#### Note : We Mainly focus on User define function in this files."
   ]
  },
  {
   "cell_type": "markdown",
   "id": "08dde55e",
   "metadata": {},
   "source": [
    "### 3. Syntax of Functions."
   ]
  },
  {
   "cell_type": "code",
   "execution_count": null,
   "id": "6d5d30e7",
   "metadata": {},
   "outputs": [],
   "source": [
    "# Syntax of User define function\n",
    "# UDF: Create by Programmer.\n",
    "\n",
    "'''\n",
    "## function declaration\n",
    "\n",
    "def func_name(parameters):\n",
    "    \"\"\" Docstring \"\"\"\n",
    "\n",
    "    # body of the function\n",
    "\n",
    "    return Expression\n",
    "\n",
    "\n",
    "\n",
    "### call the function\n",
    "\n",
    "func_name(arguments)\n",
    "\n",
    "\n",
    "'''\n",
    "\n",
    "# Explain the syntax of the function\n",
    "\n",
    "\n",
    "# 1. Function Declaration part\n",
    "'''\n",
    "## function declaration\n",
    "\n",
    "def func_name(parameters):\n",
    "    \"\"\" Docstring \"\"\"\n",
    "\n",
    "    # body of the function\n",
    "\n",
    "    return Expression\n",
    "\n",
    "\n",
    "\n",
    "- def =  keyword\n",
    "\n",
    "- func_name = fucntion name\n",
    "\n",
    "- parameters = when we declare the function then inside the function what are the input is called parameters.\n",
    "\n",
    "'''\n",
    "\n",
    "# 2. Function body\n",
    "''' \n",
    "- Docustring (Documentation String)\n",
    "    - this is optional which tell us about the function like(i/p are required, what wiil the function is return). \n",
    "    - similare to comments.\n",
    "\n",
    "\n",
    "- return:\n",
    "    - this is optional but every function return it's default value which is null.\n",
    "\n",
    "'''\n",
    "\n",
    "# 3. Function Calling\n",
    "\n",
    "'''  \n",
    "- To use the function, then we call it by it's name with arguments.\n",
    "\n",
    "- Arguments:\n",
    "    - Actual values we pass when calling the function.\n",
    "\n",
    "'''\n"
   ]
  },
  {
   "cell_type": "markdown",
   "id": "97ddfe81",
   "metadata": {},
   "source": [
    "### 4. Function Creating and calling."
   ]
  },
  {
   "cell_type": "code",
   "execution_count": 31,
   "id": "16c99304",
   "metadata": {},
   "outputs": [
    {
     "name": "stdout",
     "output_type": "stream",
     "text": [
      "even\n"
     ]
    }
   ],
   "source": [
    "# Example_01: Creating UDF \n",
    "\n",
    "def even_num(num):\n",
    "    \n",
    "    \"\"\"\n",
    "    The function returns if a given number is even or odd.\n",
    "\n",
    "    input - any valid integer.\n",
    "\n",
    "    output - odd/even\n",
    "\n",
    "    created on - 29th Aug 2025\n",
    "\n",
    "    created by - KzRaihan \n",
    "\n",
    "    \"\"\"\n",
    "\n",
    "    if num%2 == 0:\n",
    "        return \"even\"            #  Body of the function\n",
    "    else:\n",
    "        return \"odd\"\n",
    "\n",
    "# call the even_num function\n",
    "\n",
    "result = even_num(24)\n",
    "print(result)\n",
    "\n"
   ]
  },
  {
   "cell_type": "code",
   "execution_count": null,
   "id": "fc05fc4c",
   "metadata": {},
   "outputs": [
    {
     "name": "stdout",
     "output_type": "stream",
     "text": [
      "\n",
      "    The function returns if a given number is even or odd.\n",
      "\n",
      "    input - any valid integer.\n",
      "\n",
      "    output - odd/even\n",
      "\n",
      "    created on - 29th Aug 2025\n",
      "\n",
      "    created by - KzRaihan \n",
      "\n",
      "    \n"
     ]
    }
   ],
   "source": [
    "# How to see or Access any fucntion documentation\n",
    "# syntax: function name.__doc__\n",
    "# __ = double underscore \n",
    "\n",
    "print(even_num.__doc__)\n",
    "\n",
    "\n",
    "# the same to see or access any function documentation\n",
    "# print(print.__doc__)"
   ]
  },
  {
   "cell_type": "code",
   "execution_count": null,
   "id": "b50d4b55",
   "metadata": {},
   "outputs": [
    {
     "name": "stdout",
     "output_type": "stream",
     "text": [
      "1 is odd\n",
      "2 is a even\n",
      "3 is odd\n",
      "4 is a even\n",
      "5 is odd\n",
      "6 is a even\n",
      "7 is odd\n",
      "8 is a even\n",
      "9 is odd\n",
      "10 is a even\n"
     ]
    }
   ],
   "source": [
    "# Example_02: Creating UDF \n",
    "\n",
    "def even_odd(num):\n",
    "    \n",
    "    if num %2 == 0:\n",
    "        print(f\"{num} is a even\")\n",
    "    else:\n",
    "        print(f\"{num} is odd\")\n",
    "\n",
    "for i in range(1,11):\n",
    "    x = even_odd(i)\n",
    "\n",
    "    #print(x) this function is return it's default value (Null)"
   ]
  },
  {
   "cell_type": "code",
   "execution_count": null,
   "id": "b15d0551",
   "metadata": {},
   "outputs": [
    {
     "ename": "TypeError",
     "evalue": "not all arguments converted during string formatting",
     "output_type": "error",
     "traceback": [
      "\u001b[31m---------------------------------------------------------------------------\u001b[39m",
      "\u001b[31mTypeError\u001b[39m                                 Traceback (most recent call last)",
      "\u001b[36mCell\u001b[39m\u001b[36m \u001b[39m\u001b[32mIn[4]\u001b[39m\u001b[32m, line 16\u001b[39m\n\u001b[32m     13\u001b[39m         \u001b[38;5;28;01mreturn\u001b[39;00m \u001b[33m\"\u001b[39m\u001b[33mOdd\u001b[39m\u001b[33m\"\u001b[39m\n\u001b[32m     15\u001b[39m \u001b[38;5;66;03m# calling the fucniton\u001b[39;00m\n\u001b[32m---> \u001b[39m\u001b[32m16\u001b[39m \u001b[38;5;28mprint\u001b[39m(\u001b[43meven_odd\u001b[49m\u001b[43m(\u001b[49m\u001b[33;43m\"\u001b[39;49m\u001b[33;43mHello\u001b[39;49m\u001b[33;43m\"\u001b[39;49m\u001b[43m)\u001b[49m)\n",
      "\u001b[36mCell\u001b[39m\u001b[36m \u001b[39m\u001b[32mIn[4]\u001b[39m\u001b[32m, line 10\u001b[39m, in \u001b[36meven_odd\u001b[39m\u001b[34m(num)\u001b[39m\n\u001b[32m      8\u001b[39m \u001b[38;5;28;01mdef\u001b[39;00m\u001b[38;5;250m \u001b[39m\u001b[34meven_odd\u001b[39m(num):\n\u001b[32m---> \u001b[39m\u001b[32m10\u001b[39m     \u001b[38;5;28;01mif\u001b[39;00m \u001b[43mnum\u001b[49m\u001b[43m \u001b[49m\u001b[43m%\u001b[49m\u001b[43m \u001b[49m\u001b[32;43m2\u001b[39;49m == \u001b[32m0\u001b[39m:\n\u001b[32m     11\u001b[39m         \u001b[38;5;28;01mreturn\u001b[39;00m \u001b[33m\"\u001b[39m\u001b[33mEven\u001b[39m\u001b[33m\"\u001b[39m\n\u001b[32m     12\u001b[39m     \u001b[38;5;28;01melse\u001b[39;00m:\n",
      "\u001b[31mTypeError\u001b[39m: not all arguments converted during string formatting"
     ]
    }
   ],
   "source": [
    "# Example_03: Creating UDF\n",
    "\n",
    "# when we crate a function there two points of views.\n",
    "#   - Developer view (who create the function)\n",
    "#   - user view (they are use the function) \n",
    "\n",
    "# create problme: if the user can't pass the appropate agruments\n",
    "def even_odd(num):\n",
    "\n",
    "    if num % 2 == 0:\n",
    "        return \"Even\"\n",
    "    else:\n",
    "        return \"Odd\"\n",
    "    \n",
    "# calling the fucniton with wrong arguement\n",
    "print(even_odd(\"Hello\"))  # it's generate Erros (TypeError)\n",
    "\n",
    "# Q.n: Who is responsible for these errors?\n",
    "# answer: developer\n",
    "    "
   ]
  },
  {
   "cell_type": "code",
   "execution_count": null,
   "id": "5c78a77d",
   "metadata": {},
   "outputs": [
    {
     "name": "stdout",
     "output_type": "stream",
     "text": [
      "Invalid argement\n"
     ]
    }
   ],
   "source": [
    "# Example_04: Creating UDF\n",
    "\n",
    "# if iam a developer then how to handle this erros\n",
    "\n",
    "# solve problme: if the user can't pass the appropate agruments\n",
    "def even_odd(num):\n",
    "\n",
    "    if (type(num) == int):\n",
    "\n",
    "        if num % 2 == 0:\n",
    "            return \"Even\"\n",
    "        else:\n",
    "            return \"Odd\"\n",
    "    else:\n",
    "        return \"Invalid argement\"\n",
    "\n",
    "print(even_odd(\"Bangla\"))\n",
    "\n"
   ]
  },
  {
   "cell_type": "code",
   "execution_count": 9,
   "id": "80efca32",
   "metadata": {},
   "outputs": [
    {
     "name": "stdout",
     "output_type": "stream",
     "text": [
      "summation: 30\n"
     ]
    }
   ],
   "source": [
    "# Example_04: Creating UDF for multiple parameters\n",
    "\n",
    "def sum_func(num1, num2):\n",
    "    return num1 + num2\n",
    "\n",
    "print(f\"summation: {sum_func(10,20)}\")"
   ]
  },
  {
   "cell_type": "markdown",
   "id": "e8580d3b",
   "metadata": {},
   "source": [
    "### 5. Parameter vs Arguements."
   ]
  },
  {
   "cell_type": "markdown",
   "id": "9d341640",
   "metadata": {},
   "source": [
    "- Parameters:\n",
    "\n",
    "    - what are the input of the fucntion that's parameters.\n",
    "\n",
    "    - When declaring a function, the inside the parentheses are called parameters.\n",
    "\n",
    "- Arguments:\n",
    "\n",
    "    - When we call a function then we pass the value as arguments.\n",
    "\n",
    "    - * Arguements are values given to the parameters."
   ]
  },
  {
   "cell_type": "markdown",
   "id": "09cd21d3",
   "metadata": {},
   "source": [
    "#### Type of Arguments\n",
    "\n",
    "- 1. positional Arguements\n",
    "\n",
    "- 2. Default Argements.\n",
    "\n",
    "- 3. Keyword Argements.\n",
    "\n",
    "- 4. Variable Length Arguments\n",
    "    - * args\n",
    "    - ** kwargs\n"
   ]
  },
  {
   "cell_type": "markdown",
   "id": "6e30fbfd",
   "metadata": {},
   "source": [
    "####  1. positional Arguements\n",
    "\n",
    "- It's a Default behaviors of UDF.\n",
    "\n",
    "- According to the order of pass arguments as the same order catch or store the values in parameters.\n",
    "\n",
    "    - First arguement pass to the value in First parameter\n",
    "    \n",
    "    - then second arguments pass to the value in second parameter\n",
    "\n",
    "    - in this sequence all arguements pass the values into parameters."
   ]
  },
  {
   "cell_type": "code",
   "execution_count": null,
   "id": "c03240eb",
   "metadata": {},
   "outputs": [
    {
     "name": "stdout",
     "output_type": "stream",
     "text": [
      "8\n"
     ]
    }
   ],
   "source": [
    "# Example_01: Positional Arguments\n",
    "\n",
    "def power(num1, num2):\n",
    "    return num1 ** num2  # return square\n",
    "\n",
    "# call power function\n",
    "result = power(2, 3)\n",
    "\n",
    "print(result) # output: 8\n",
    "\n",
    "\n",
    "# Q.n: why the output is 8 why not 9?"
   ]
  },
  {
   "cell_type": "code",
   "execution_count": null,
   "id": "babdc25e",
   "metadata": {},
   "outputs": [],
   "source": [
    "# Answer and explain the above Example_01\n",
    "\n",
    "# Explaination:\n",
    "''' \n",
    "# call fucntion\n",
    "power(2,3) function pass two arguments\n",
    "\n",
    "first argument  = arg1\n",
    "second argument = arg2\n",
    "\n",
    "arg1 = 2 , arg2 = 3\n",
    "\n",
    "\n",
    "# fucntion decalartion \n",
    "\n",
    "power(num1, num2)  # here, two parameter\n",
    "\n",
    "first parameter = num1\n",
    "second parameter = num2\n",
    "\n",
    "\n",
    "num1 = 2 (store the arg1 value)  according the order \n",
    "num2 = 3 (store the arg2 value) \n",
    "\n",
    "\n",
    "# function body or return\n",
    "\n",
    "retun num1 ** num2\n",
    "     2 ** 3\n",
    "     (2*2*2) = 8\n",
    "\n",
    "return this answer into call function and call function print this answer.\n",
    "'''\n",
    "\n",
    "\n",
    "\n",
    "# Answer of the question:\n",
    "# accoding to the order to pass arguement value as the same order store the value into parameter that way the answer is 8.\n",
    "''' \n",
    "OR :\n",
    "- first argument (2) pass to the first parameter (num1).\n",
    "- second argument (3) pass to the second parameter (num2)\n",
    "\n",
    "- return num1 ** num2\n",
    "         2 ** 3 = 8\n",
    "\n",
    "'''"
   ]
  },
  {
   "cell_type": "markdown",
   "id": "ba685558",
   "metadata": {},
   "source": [
    "#### 2. Default Argements.\n",
    "\n",
    "- we can define default pararmeters values if no arguments values is given but required.\n"
   ]
  },
  {
   "cell_type": "code",
   "execution_count": 1,
   "id": "8e5bd1e8",
   "metadata": {},
   "outputs": [
    {
     "ename": "TypeError",
     "evalue": "power() missing 1 required positional argument: 'num2'",
     "output_type": "error",
     "traceback": [
      "\u001b[31m---------------------------------------------------------------------------\u001b[39m",
      "\u001b[31mTypeError\u001b[39m                                 Traceback (most recent call last)",
      "\u001b[36mCell\u001b[39m\u001b[36m \u001b[39m\u001b[32mIn[1]\u001b[39m\u001b[32m, line 8\u001b[39m\n\u001b[32m      5\u001b[39m \u001b[38;5;28;01mdef\u001b[39;00m\u001b[38;5;250m \u001b[39m\u001b[34mpower\u001b[39m(num1, num2):\n\u001b[32m      6\u001b[39m     \u001b[38;5;28;01mreturn\u001b[39;00m num1 ** num2\n\u001b[32m----> \u001b[39m\u001b[32m8\u001b[39m result = \u001b[43mpower\u001b[49m\u001b[43m(\u001b[49m\u001b[32;43m2\u001b[39;49m\u001b[43m)\u001b[49m  \u001b[38;5;66;03m# arguments require two but given one then it's will arise errors\u001b[39;00m\n\u001b[32m     10\u001b[39m \u001b[38;5;28mprint\u001b[39m(result)\n",
      "\u001b[31mTypeError\u001b[39m: power() missing 1 required positional argument: 'num2'"
     ]
    }
   ],
   "source": [
    "# Example_01: Default arguments\n",
    "\n",
    "# Create Problme:\n",
    "\n",
    "def power(num1, num2):\n",
    "    return num1 ** num2\n",
    "\n",
    "result = power(2)  # arguments require two but given one then it's will arise errors\n",
    "\n",
    "print(result)\n"
   ]
  },
  {
   "cell_type": "code",
   "execution_count": null,
   "id": "d0155f18",
   "metadata": {},
   "outputs": [
    {
     "name": "stdout",
     "output_type": "stream",
     "text": [
      "2\n"
     ]
    }
   ],
   "source": [
    "# Solve Problme: using define default parameter\n",
    "\n",
    "def power(num1, num2=1):\n",
    "    return num1 ** num2\n",
    "\n",
    "result = power(2)  # arguments require two but given one \n",
    "print(result)\n",
    "\n",
    "# Note: default parameter define always right side (or at the end parameter)\n",
    "\n",
    "# order :\n",
    "#  positiona argument > default argument"
   ]
  },
  {
   "cell_type": "code",
   "execution_count": 3,
   "id": "a9fbf6bd",
   "metadata": {},
   "outputs": [
    {
     "ename": "SyntaxError",
     "evalue": "parameter without a default follows parameter with a default (2302637127.py, line 2)",
     "output_type": "error",
     "traceback": [
      "  \u001b[36mCell\u001b[39m\u001b[36m \u001b[39m\u001b[32mIn[3]\u001b[39m\u001b[32m, line 2\u001b[39m\n\u001b[31m    \u001b[39m\u001b[31mdef power(num1=1, num2):\u001b[39m\n                      ^\n\u001b[31mSyntaxError\u001b[39m\u001b[31m:\u001b[39m parameter without a default follows parameter with a default\n"
     ]
    }
   ],
   "source": [
    "# if default parameters is not define right side \n",
    "def power(num1=1, num2):\n",
    "    return num1 ** num2\n",
    "\n",
    "result = power(2)  # arguments require two but given one \n",
    "print(result)\n"
   ]
  },
  {
   "cell_type": "code",
   "execution_count": null,
   "id": "bd354052",
   "metadata": {},
   "outputs": [
    {
     "ename": "SyntaxError",
     "evalue": "parameter without a default follows parameter with a default (4223685258.py, line 2)",
     "output_type": "error",
     "traceback": [
      "  \u001b[36mCell\u001b[39m\u001b[36m \u001b[39m\u001b[32mIn[4]\u001b[39m\u001b[32m, line 2\u001b[39m\n\u001b[31m    \u001b[39m\u001b[31mdef power(num1=1, num2):\u001b[39m\n                      ^\n\u001b[31mSyntaxError\u001b[39m\u001b[31m:\u001b[39m parameter without a default follows parameter with a default\n"
     ]
    }
   ],
   "source": [
    "# if we pass the argument is wrong way\n",
    "def power(num1, num2=1):\n",
    "    return num1 ** num2\n",
    "\n",
    "result = power(,2)  # Don't allow to this way pass arguments value\n",
    "print(result)"
   ]
  },
  {
   "cell_type": "code",
   "execution_count": null,
   "id": "0db66848",
   "metadata": {},
   "outputs": [
    {
     "name": "stdout",
     "output_type": "stream",
     "text": [
      "2\n"
     ]
    }
   ],
   "source": [
    "# when the default parameter is approprite position.\n",
    "def power(num1, num2=1):\n",
    "    return num1 ** num2\n",
    "\n",
    "result = power(2,)  # arguments require two but given one \n",
    "print(result)"
   ]
  },
  {
   "cell_type": "code",
   "execution_count": 35,
   "id": "20a84c01",
   "metadata": {},
   "outputs": [
    {
     "name": "stdout",
     "output_type": "stream",
     "text": [
      " First time call : 3\n",
      " second time call: 1\n",
      " Third time call : 25\n"
     ]
    }
   ],
   "source": [
    "# Example_02: for multiple default parameters\n",
    "\n",
    "def power(num1=1, num2=1):\n",
    "    return num1 ** num2\n",
    "\n",
    "# First calling\n",
    "result = power(3,)  # arguments require two but given one \n",
    "print(f\" First time call : {result}\")\n",
    "\n",
    "# call second time\n",
    "print(f\" second time call: {power()}\") # require two argument but pass no argument\n",
    "\n",
    "# call third time\n",
    "print(f\" Third time call : {power(5,2)}\")"
   ]
  },
  {
   "cell_type": "code",
   "execution_count": null,
   "id": "6f934f64",
   "metadata": {},
   "outputs": [
    {
     "ename": "TypeError",
     "evalue": "power() takes from 0 to 2 positional arguments but 3 were given",
     "output_type": "error",
     "traceback": [
      "\u001b[31m---------------------------------------------------------------------------\u001b[39m",
      "\u001b[31mTypeError\u001b[39m                                 Traceback (most recent call last)",
      "\u001b[36mCell\u001b[39m\u001b[36m \u001b[39m\u001b[32mIn[14]\u001b[39m\u001b[32m, line 3\u001b[39m\n\u001b[32m      1\u001b[39m \u001b[38;5;66;03m# if argument require two but given three then\u001b[39;00m\n\u001b[32m      2\u001b[39m \u001b[38;5;66;03m# call four time\u001b[39;00m\n\u001b[32m----> \u001b[39m\u001b[32m3\u001b[39m \u001b[38;5;28mprint\u001b[39m(\u001b[33mf\u001b[39m\u001b[33m\"\u001b[39m\u001b[33m four time call : \u001b[39m\u001b[38;5;132;01m{\u001b[39;00m\u001b[43mpower\u001b[49m\u001b[43m(\u001b[49m\u001b[32;43m1\u001b[39;49m\u001b[43m,\u001b[49m\u001b[32;43m2\u001b[39;49m\u001b[43m,\u001b[49m\u001b[32;43m3\u001b[39;49m\u001b[43m)\u001b[49m\u001b[38;5;132;01m}\u001b[39;00m\u001b[33m\"\u001b[39m)\n",
      "\u001b[31mTypeError\u001b[39m: power() takes from 0 to 2 positional arguments but 3 were given"
     ]
    }
   ],
   "source": [
    "# if argument require two but given three then\n",
    "# call four time\n",
    "print(f\" four time call : {power(1,2,3)}\") # this will be generate errors.\n"
   ]
  },
  {
   "cell_type": "markdown",
   "id": "8a5c6bce",
   "metadata": {},
   "source": [
    "####  3. Keyword Argements.\n",
    "\n",
    "- when we don't know the position of the parameters then we use keyword arguments.\n",
    "\n",
    "- order of keyword and postional argument\n",
    "\n",
    "    - postional (1st) >  keyword (2nd)\n",
    "\n",
    "- we pass the arguments using parameters names but order does't matter."
   ]
  },
  {
   "cell_type": "code",
   "execution_count": 36,
   "id": "a70b2de3",
   "metadata": {},
   "outputs": [
    {
     "name": "stdout",
     "output_type": "stream",
     "text": [
      "8\n"
     ]
    }
   ],
   "source": [
    "# Example_01: Keyword Arguments\n",
    "\n",
    "def power(num1, num2):\n",
    "    return num1 ** num2\n",
    "\n",
    "result = power(num2 = 3, num1 = 2)  \n",
    "print(result)\n"
   ]
  },
  {
   "cell_type": "code",
   "execution_count": null,
   "id": "056d8a46",
   "metadata": {},
   "outputs": [],
   "source": [
    "# Explaination of above example_01: keyword arguments.\n",
    "'''  \n",
    "Why the outpur is 8 why not 9.\n",
    "\n",
    "- arg1 = num2 pass the value (3) into num2 parameter.\n",
    "\n",
    "- arg2 = num1 pass the value (2) into num1 parameter.\n",
    "\n",
    "    return num1 ** num2\n",
    "          = 2 ** 3\n",
    "          = 8\n",
    "output: 8\n",
    "\n",
    "'''"
   ]
  },
  {
   "cell_type": "code",
   "execution_count": null,
   "id": "328fe683",
   "metadata": {},
   "outputs": [
    {
     "name": "stdout",
     "output_type": "stream",
     "text": [
      "9\n",
      "8\n"
     ]
    }
   ],
   "source": [
    "# Example_02: combine positional and keyword arguments\n",
    "\n",
    "def power(num1, num2):\n",
    "    return num1 ** num2\n",
    "\n",
    "# call first time\n",
    "result = power(3,num2=2)  \n",
    "print(result)\n",
    "\n",
    "# call second time\n",
    "\n",
    "# print(power(num2=3, 2)) # generate errors because first positional argument then keyword argument\n"
   ]
  },
  {
   "cell_type": "markdown",
   "id": "103cbf54",
   "metadata": {},
   "source": [
    "#### 4. Variable Length Arguments\n",
    "\n",
    "- When we don't know how many arguments will be passed.\n",
    "- when passed the variable length of arguments.\n",
    "\n",
    "- Two types\n",
    "\n",
    "    - 1. *args : variable length arguments with no keyword.\n",
    "\n",
    "    - 2. **kwargs : variable length arguments with keyword.\n",
    "\n",
    "- Note: The worlds args and kwargs are only convention,we use any name."
   ]
  },
  {
   "cell_type": "markdown",
   "id": "4f5a6976",
   "metadata": {},
   "source": [
    "#####  1. *args : variable length arguments with no keyword.\n",
    "\n",
    "- Allow us to pass a variable number of non-keyword arguments to a function."
   ]
  },
  {
   "cell_type": "code",
   "execution_count": 39,
   "id": "f2172f83",
   "metadata": {},
   "outputs": [
    {
     "ename": "TypeError",
     "evalue": "multiply() takes 3 positional arguments but 10 were given",
     "output_type": "error",
     "traceback": [
      "\u001b[31m---------------------------------------------------------------------------\u001b[39m",
      "\u001b[31mTypeError\u001b[39m                                 Traceback (most recent call last)",
      "\u001b[36mCell\u001b[39m\u001b[36m \u001b[39m\u001b[32mIn[39]\u001b[39m\u001b[32m, line 8\u001b[39m\n\u001b[32m      5\u001b[39m \u001b[38;5;28;01mdef\u001b[39;00m\u001b[38;5;250m \u001b[39m\u001b[34mmultiply\u001b[39m(num1, num2,num3):\n\u001b[32m      6\u001b[39m     \u001b[38;5;28;01mreturn\u001b[39;00m num1 * num2 * num3\n\u001b[32m----> \u001b[39m\u001b[32m8\u001b[39m result = \u001b[43mmultiply\u001b[49m\u001b[43m(\u001b[49m\u001b[32;43m5\u001b[39;49m\u001b[43m,\u001b[49m\u001b[32;43m2\u001b[39;49m\u001b[43m,\u001b[49m\u001b[32;43m2\u001b[39;49m\u001b[43m,\u001b[49m\u001b[32;43m1\u001b[39;49m\u001b[43m,\u001b[49m\u001b[32;43m1\u001b[39;49m\u001b[43m,\u001b[49m\u001b[32;43m1\u001b[39;49m\u001b[43m,\u001b[49m\u001b[32;43m1\u001b[39;49m\u001b[43m,\u001b[49m\u001b[32;43m1\u001b[39;49m\u001b[43m,\u001b[49m\u001b[32;43m1\u001b[39;49m\u001b[43m,\u001b[49m\u001b[32;43m1\u001b[39;49m\u001b[43m)\u001b[49m\n\u001b[32m      9\u001b[39m \u001b[38;5;28mprint\u001b[39m(result)\n\u001b[32m     11\u001b[39m \u001b[38;5;66;03m# this multiply function only multiply two numbers. if we will further need 5 numbers multiplication the how?\u001b[39;00m\n",
      "\u001b[31mTypeError\u001b[39m: multiply() takes 3 positional arguments but 10 were given"
     ]
    }
   ],
   "source": [
    "# Example_01: Variable Length Arguments With no keyword (*args)\n",
    "\n",
    "# Create problem: Write a function tha multiply two numbers\n",
    "\n",
    "def multiply(num1, num2,num3):\n",
    "    return num1 * num2 * num3\n",
    "\n",
    "result = multiply(5,2,2,1,1,1,1,1,1,1)\n",
    "print(result)\n",
    "\n",
    "# this multiply function only multiply two numbers. if we will further need 5 numbers multiplication the how?\n"
   ]
  },
  {
   "cell_type": "code",
   "execution_count": null,
   "id": "b7d74ea6",
   "metadata": {},
   "outputs": [
    {
     "name": "stdout",
     "output_type": "stream",
     "text": [
      "720\n"
     ]
    }
   ],
   "source": [
    "# here introduce *args to solve this problem.\n",
    "\n",
    "# solve this above problem:\n",
    "\n",
    "def multiply(*args):\n",
    "    product = 1\n",
    "\n",
    "    for i in args: # (1,2,3,4,5,6)\n",
    "        product *= i\n",
    "    return product\n",
    "\n",
    "result = multiply(1,2,3,4,5,6)\n",
    "print(result)\n",
    "\n"
   ]
  },
  {
   "cell_type": "code",
   "execution_count": null,
   "id": "3e4e7a2f",
   "metadata": {},
   "outputs": [],
   "source": [
    "# Explain how work *args for above program\n",
    "''' \n",
    "# call function: multiply(1,2,3,4,5,6)\n",
    "# pass all arguments to *agrs parameter\n",
    "\n",
    "first : * = collect all arguments(multiple arguments) into a tuple format . where tuple name args.\n",
    "\n",
    "second: then all remaining work perform normal way.\n",
    "\n",
    "'''"
   ]
  },
  {
   "cell_type": "code",
   "execution_count": 41,
   "id": "01ffb2be",
   "metadata": {},
   "outputs": [
    {
     "name": "stdout",
     "output_type": "stream",
     "text": [
      "(1, 2, 3, 4, 5, 6)\n",
      "<class 'tuple'>\n",
      "720\n"
     ]
    }
   ],
   "source": [
    "# how args is a tuple\n",
    "def multiply(*args):\n",
    "    product = 1\n",
    "\n",
    "    for i in args:\n",
    "        product *= i\n",
    "    \n",
    "    print(args)\n",
    "    print(type(args))\n",
    "    \n",
    "    return product\n",
    "\n",
    "result = multiply(1,2,3,4,5,6)\n",
    "print(result)\n",
    "\n"
   ]
  },
  {
   "cell_type": "code",
   "execution_count": null,
   "id": "49cb13ae",
   "metadata": {},
   "outputs": [],
   "source": [
    "# Explain the above Program\n",
    "\"\"\" \n",
    "\n",
    "step_1: function call\n",
    "- mutltply(1,2,3,4,5,6) pass these value into *args parameters\n",
    "\n",
    "step_2: *args parameter\n",
    "\n",
    "- args parameter packs all arguments into tuple format.\n",
    "\n",
    "- args = (1,2,3,4,5,6)\n",
    "\n",
    "Step_03: inside the function\n",
    "\n",
    "    - init: product = 1\n",
    "    \n",
    "    iteration_01:\n",
    "    -------------\n",
    "    \n",
    "     - for i in args:  \n",
    "     - for i in (1,2,3,4,5,6):\n",
    "     \n",
    "     - here i = 1  here , all time i iteating in args values\n",
    "        product *= i\n",
    "        => product = product * i\n",
    "                   = 1 * 1\n",
    "                   = 1\n",
    "        after 1st iteration product = 1\n",
    "        \n",
    "    iteration_02:\n",
    "    --------------\n",
    "    \n",
    "     - for i in args:  but  args : (1,2,3,4,5,6):\n",
    "     \n",
    "     - for i in (2,3,4,5,6):\n",
    "     \n",
    "     - here i = 2\n",
    "        product *= i\n",
    "        => product = product * i\n",
    "                   = 1 * 2\n",
    "                   = 2\n",
    "        after 2nd iteration product = 2\n",
    "        \n",
    "   iteration_03:\n",
    "   -------------\n",
    "    \n",
    "     - for i in args:  but  args : (1,2,3,4,5,6):\n",
    "     - for i in (3,4,5,6):\n",
    "     \n",
    "     - here i = 3\n",
    "        product *= i\n",
    "        => product = product * i\n",
    "                   = 2 * 3\n",
    "                   = 6\n",
    "        after 3th iteration product = 6\n",
    "        \n",
    "    iteration_04:\n",
    "   -------------\n",
    "    \n",
    "     - for i in args:  but  args : (1,2,3,4,5,6):\n",
    "     - for i in (4,5,6):\n",
    "     \n",
    "     - here i = 4\n",
    "        product *= i\n",
    "        => product = product * i\n",
    "                   = 6 * 4\n",
    "                   = 24\n",
    "        after 4th iteration product = 24\n",
    "        \n",
    "    iteration_05:\n",
    "   -------------\n",
    "    \n",
    "     - for i in args: but  args : (1,2,3,4,5,6):\n",
    "     - for i in (5,6):\n",
    "     \n",
    "     - here i = 5\n",
    "        product *= i\n",
    "        => product = product * i\n",
    "                   = 24 * 5\n",
    "                   = 120\n",
    "        after 5th iteration product = 120\n",
    "        \n",
    "    iteration_06:\n",
    "   -------------\n",
    "    \n",
    "     - for i in args: but  args : (1,2,3,4,5,6):\n",
    "     - for i in (6):\n",
    "     \n",
    "     - here i = 6\n",
    "        product *= i\n",
    "        => product = product * i\n",
    "                   = 120 * 6\n",
    "                   = 720\n",
    "        after 6th iteration product = 720\n",
    "\n",
    "  iteration_07:\n",
    "   -------------\n",
    "    \n",
    "     - for i in args: but  args : (1,2,3,4,5,6):\n",
    "     - for i in (): \n",
    "     - here i iteration all value in args then  out of the loop.\n",
    "\n",
    "\n",
    "    \n",
    "    print(args) #  (1,2,3,4,5,6):\n",
    "    \n",
    "    return product # 720\n",
    " \n",
    "    then go to the call function which is step_1.\n",
    " \n",
    " step_1: function call \n",
    "    result = multiply(1,2,3,4,5,6)\n",
    "\n",
    "    here, \n",
    "    multiply(1,2,3,4,5,6) = 720  and inside multiply operation which is print(args)\n",
    "\n",
    "    result = multiply(1,2,3,4,5,6)  # when we call multiply then output: args values (1,2,3,4,5,6)\n",
    "           = 720\n",
    "\n",
    "    print(result) \n",
    "\n",
    "    output : 720\n",
    "\n",
    "\n",
    "    so the final output:\n",
    "    - (1,2,3,4,5,6)\n",
    "    - 720\n",
    "\n",
    "\n",
    "\"\"\""
   ]
  },
  {
   "cell_type": "markdown",
   "id": "ba74dd7d",
   "metadata": {},
   "source": [
    "#### 2. **kwargs : variable length arguments with keyword.\n",
    "\n",
    "- Allow us to pass any number of keyword arguments\n",
    "\n",
    "- keyword argument mean that they contain a key-value pair, like a python dictionary.\n",
    "\n",
    "- Order of the Arguments matters\n",
    "    - normal (1st) > *args (2nd) > **kwargs (3th)"
   ]
  },
  {
   "cell_type": "code",
   "execution_count": null,
   "id": "b3eb83a2",
   "metadata": {},
   "outputs": [
    {
     "name": "stdout",
     "output_type": "stream",
     "text": [
      "Bangaldesh - Dhaka\n",
      "India - Delhi\n",
      "Pakistan - Islamabad\n",
      "Nepal - Katmandu\n",
      "Srilanka - Colombo\n"
     ]
    }
   ],
   "source": [
    "# Example_01: variable length arguments with keyword (**kwargs )\n",
    "\n",
    "# Write a User Define function that display country and capital \n",
    "\n",
    "def display(**kwargs):\n",
    "    for (key, value) in kwargs.items():\n",
    "        print(f\"{key} - {value}\")\n",
    "\n",
    "    \n",
    "display(Bangaldesh = \"Dhaka\", India = \"Delhi\", Pakistan = \"Islamabad\", Nepal = \"Katmandu\", Srilanka = \"Colombo\")\n",
    "\n",
    "## ** = convert arguments into dictionary format and store into kwargs"
   ]
  },
  {
   "cell_type": "code",
   "execution_count": 42,
   "id": "b6b08fa0",
   "metadata": {},
   "outputs": [
    {
     "name": "stdout",
     "output_type": "stream",
     "text": [
      "{'Bangaldesh': 'Dhaka', 'India': 'Delhi', 'Pakistan': 'Islamabad', 'Nepal': 'Katmandu', 'Srilanka': 'Colombo'}\n",
      "<class 'dict'>\n"
     ]
    }
   ],
   "source": [
    "# we see ** convert into dictionary or not?\n",
    "\n",
    "def display(**kwargs):\n",
    "    \n",
    "    print(kwargs)\n",
    "    print(type(kwargs))\n",
    "    \n",
    "display(Bangaldesh = \"Dhaka\", India = \"Delhi\", Pakistan = \"Islamabad\", Nepal = \"Katmandu\", Srilanka = \"Colombo\")\n",
    "\n",
    "## ** = convert arguments into dictionary format and store into kwargs"
   ]
  },
  {
   "cell_type": "code",
   "execution_count": null,
   "id": "3e8c542c",
   "metadata": {},
   "outputs": [
    {
     "name": "stdout",
     "output_type": "stream",
     "text": [
      "Variable lenght non-keyboard argument:  10\n",
      "Variable lenght non-keyboard argument:  20\n",
      "Variable lenght non-keyboard argument:  30\n",
      "Variable lenght non-keyboard argument:  40\n",
      "Variable lenght non-keyboard argument:  50\n",
      "Variable lenght non-keyboard argument:  60\n",
      "Variable lenght non-keyboard argument:  70\n",
      "Variable lenght non-keyboard argument:  80\n",
      "Variable lenght non-keyboard argument:  90\n",
      "name - KzRaihan\n",
      "country - Bangladesh\n",
      "capital - Dhaka\n"
     ]
    }
   ],
   "source": [
    "# Example_02: Combine Variable Length Arguments (*args and **kwargs)\n",
    "\n",
    "def display_details(*args, **kwargs):\n",
    "    \n",
    "    for val in args:\n",
    "        print(f\"Variable lenght non-keyboard argument:  {val}\")\n",
    "\n",
    "    for (key, value) in kwargs.items():\n",
    "        print(f\"{key} - {value}\")\n",
    "\n",
    "\n",
    "display_details(10,20,30,40,50,60,70,80,90, name = \"KzRaihan\", country = \"Bangladesh\", capital = \"Dhaka\")"
   ]
  },
  {
   "cell_type": "code",
   "execution_count": null,
   "id": "52896408",
   "metadata": {},
   "outputs": [
    {
     "name": "stdout",
     "output_type": "stream",
     "text": [
      "Positional argument:  1 2 3\n",
      "-------------------------------------------------------------------------\n",
      "\n",
      "Variable length non-keyword argument: \n",
      "10\n",
      "20\n",
      "30\n",
      "40\n",
      "50\n",
      "-------------------------------------------------------------------------\n",
      "\n",
      "keyword argument: KzRaihan and 5.6\n",
      "-------------------------------------------------------------------------\n",
      "\n",
      "Default Argument: 1\n",
      "-------------------------------------------------------------------------\n",
      "\n",
      "Variable Length argument with keyword argument: \n",
      "country - Bangldesh\n",
      "capital - Dhaka\n",
      "-------------------------------------------------------------------------\n",
      "\n"
     ]
    }
   ],
   "source": [
    "# Example_03: Combine all Arguments (positional, defalut, keyword, *args and **kwargs)\n",
    "# Correct parameter order: \n",
    "#                      -  positional → keyword  → *args -> default → **kwargs.\n",
    "# Function call: positional arguments before keyword arguments.\n",
    "\n",
    "\n",
    "def all_arguments(num1, num2, num3, *args, name, height, num5 = 1 , **kwargs):\n",
    "\n",
    "    print(\"Positional argument: \", num1, num2, num3)\n",
    "\n",
    "    print(\"-------------------------------------------------------------------------\\n\")\n",
    "\n",
    "    print(f\"Variable length non-keyword argument: \")\n",
    "\n",
    "\n",
    "    for i in args:\n",
    "        print(f\"{i}\")\n",
    "\n",
    "    print(\"-------------------------------------------------------------------------\\n\")\n",
    "\n",
    "    \n",
    "    print(f\"keyword argument: {name} and {height}\")\n",
    "\n",
    "    print(\"-------------------------------------------------------------------------\\n\")\n",
    "\n",
    "\n",
    "    print(f\"Default Argument: {num5}\")\n",
    "\n",
    "    print(\"-------------------------------------------------------------------------\\n\")\n",
    "\n",
    "    print(\"Variable Length argument with keyword argument: \")\n",
    "\n",
    "    for key, val in kwargs.items():\n",
    "        print(f\"{key} - {val}\")\n",
    "\n",
    "    print(\"-------------------------------------------------------------------------\\n\")\n",
    "    \n",
    "all_arguments(\n",
    "              1,2,3,\n",
    "              10,20, 30, 40, 50,\n",
    "            name = \"KzRaihan\", height = \"5.6\",\n",
    "            country = \"Bangldesh\", capital = \"Dhaka\",\n",
    "            )"
   ]
  },
  {
   "cell_type": "markdown",
   "id": "56f7752a",
   "metadata": {},
   "source": [
    "### 6. Return Statement."
   ]
  },
  {
   "cell_type": "markdown",
   "id": "289c0c84",
   "metadata": {},
   "source": [
    "- Return statement for UDF categorized  as:\n",
    "\n",
    "    - 1. Function with no arguments and no return values.\n",
    "    \n",
    "    - 2. Function with no arguments and with a return values.\n",
    "    \n",
    "    - 3. Function with arguments and no return values.\n",
    "\n",
    "    - 4. Function with arguments and with return values.\n"
   ]
  },
  {
   "cell_type": "code",
   "execution_count": 10,
   "id": "5b70ab29",
   "metadata": {},
   "outputs": [
    {
     "name": "stdout",
     "output_type": "stream",
     "text": [
      "module: 1\n"
     ]
    }
   ],
   "source": [
    "# 1. Function with no arguments and no return values.\n",
    "\n",
    "def mod_fun():\n",
    "    mod = 3%2\n",
    "    print(f\"module: {mod}\")\n",
    "\n",
    "mod_fun()"
   ]
  },
  {
   "cell_type": "code",
   "execution_count": 11,
   "id": "e568c1d8",
   "metadata": {},
   "outputs": [
    {
     "name": "stdout",
     "output_type": "stream",
     "text": [
      "30\n"
     ]
    }
   ],
   "source": [
    "# 2. Function with no arguments and with a return values.\n",
    "\n",
    "def add_two():\n",
    "    num1 = 10\n",
    "    num2 = 20\n",
    "\n",
    "    add = num1 + num2\n",
    "\n",
    "    return add\n",
    "\n",
    "print(add_two())"
   ]
  },
  {
   "cell_type": "code",
   "execution_count": 44,
   "id": "4b923043",
   "metadata": {},
   "outputs": [
    {
     "name": "stdout",
     "output_type": "stream",
     "text": [
      "Hello KzRaihan welcome to the Paradise\n"
     ]
    }
   ],
   "source": [
    "# 3. Function with arguments and no return values.\n",
    "\n",
    "def greet(name):\n",
    "    print(f\"Hello {name} welcome to the Paradise\")\n",
    "\n",
    "greet(name = \"KzRaihan\")\n"
   ]
  },
  {
   "cell_type": "code",
   "execution_count": 22,
   "id": "0a3856fc",
   "metadata": {},
   "outputs": [
    {
     "name": "stdout",
     "output_type": "stream",
     "text": [
      "120\n"
     ]
    }
   ],
   "source": [
    "# 4. Function with arguments and with return values.\n",
    "\n",
    "# factorial of a number\n",
    "\n",
    "def fact_num(num):\n",
    "    \n",
    "    fact1 = 1\n",
    "\n",
    "    for i in range(1,num+1):\n",
    "        fact1 *= i\n",
    "        \n",
    "\n",
    "    return fact1\n",
    "\n",
    "print(fact_num(5))\n",
    "\n"
   ]
  },
  {
   "cell_type": "markdown",
   "id": "ac7a4cd7",
   "metadata": {},
   "source": [
    "#### Q.N: if a function doesn't use return statment then what's the output of function?\n",
    "\n",
    "- answer: By default every function return there defautl value which is Null. if a function not use return then that function return it's default value (Null)"
   ]
  },
  {
   "cell_type": "code",
   "execution_count": 45,
   "id": "42c965c4",
   "metadata": {},
   "outputs": [
    {
     "name": "stdout",
     "output_type": "stream",
     "text": [
      "My name is KzRaihan\n",
      "None\n"
     ]
    }
   ],
   "source": [
    "# Proved the answer:\n",
    "def return_null():\n",
    "    print(\"My name is KzRaihan\")\n",
    "\n",
    "result = return_null()\n",
    "print(result)  \n",
    "\n",
    "# return_null() return it's default value which is null. when call return_null() then it's return it's default value.\n",
    "\n",
    "# result = return_null()\n",
    "#        = null\n",
    "# when print result the it's display null "
   ]
  },
  {
   "cell_type": "markdown",
   "id": "75b8f0e0",
   "metadata": {},
   "source": [
    "### 7. Practical Examples."
   ]
  },
  {
   "cell_type": "code",
   "execution_count": null,
   "id": "ac8ef567",
   "metadata": {},
   "outputs": [
    {
     "name": "stdout",
     "output_type": "stream",
     "text": [
      "Sum of values: 360\n",
      "Total  values: 8\n"
     ]
    },
    {
     "data": {
      "text/plain": [
       "45.0"
      ]
     },
     "execution_count": 25,
     "metadata": {},
     "output_type": "execute_result"
    }
   ],
   "source": [
    "# WAF to calculation n numbers of average\n",
    "\n",
    "def average(*args):\n",
    "    total = 0\n",
    "\n",
    "    for i in args:\n",
    "        sum1 = sum(args)\n",
    "        total += 1\n",
    "\n",
    "    print(f\"Sum of values: {sum1}\")\n",
    "    print(f\"Total  values: {total}\")\n",
    "    avg = (sum1)/total\n",
    "\n",
    "    return avg\n",
    "    \n",
    "\n",
    "average(10,20, 30, 40, 50, 60, 70, 80)\n",
    "\n",
    "\n"
   ]
  },
  {
   "cell_type": "code",
   "execution_count": null,
   "id": "6416fcdc",
   "metadata": {},
   "outputs": [
    {
     "name": "stdout",
     "output_type": "stream",
     "text": [
      "77.0\n",
      "95.0\n",
      "25.0\n",
      "35.0\n"
     ]
    }
   ],
   "source": [
    "# Example_02: Write a function for temperature conversion\n",
    "\n",
    "def convert_temperature(temp, unit):\n",
    "    \n",
    "    '''This function convert temperature between celsius and Fahrenheit '''\n",
    "\n",
    "    if unit == \"C\" or unit == \"c\":\n",
    "        # convert Celsius to Fahrenheit\n",
    "        cel_to_fahren = temp * 9/5 + 32\n",
    "        \n",
    "        return cel_to_fahren\n",
    "    \n",
    "    elif unit == \"F\" or unit == \"f\":\n",
    "        # convert Fahrenheit to Celsius\n",
    "        fahren_to_cel = (temp-32) * 5/9\n",
    "        \n",
    "        return fahren_to_cel\n",
    "    \n",
    "    else:\n",
    "        return None\n",
    "\n",
    "print(convert_temperature(25, \"C\")) # given Fahrenheit temperature\n",
    "\n",
    "print(convert_temperature(35, \"c\")) # given Fahrenheit temperature\n",
    "\n",
    "\n",
    "print(convert_temperature(77, \"F\")) # given celsius temperature\n",
    "\n",
    "print(convert_temperature(95, \"f\")) # given celsius temperature\n",
    "\n",
    "\n"
   ]
  },
  {
   "cell_type": "code",
   "execution_count": 35,
   "id": "2ffc4de0",
   "metadata": {},
   "outputs": [
    {
     "name": "stdout",
     "output_type": "stream",
     "text": [
      "Password require at least one digit\n",
      "Password required ate least one upper case character\n",
      "Password required ate least one Special  character\n",
      "Your Password is super strong\n"
     ]
    }
   ],
   "source": [
    "# Example_03: Write a function to check Password Strength\n",
    "\n",
    "def is_strong_password(password):\n",
    "\n",
    "    if len(password) < 8:\n",
    "        return \"Password length at least 8\"\n",
    "    \n",
    "    if not any(char.isdigit() for char in password):\n",
    "        return \"Password require at least one digit\"\n",
    "    \n",
    "    if not any(char.islower() for char in password):\n",
    "        return \"Password required ate least one lower case character\"\n",
    "    \n",
    "\n",
    "    if not any(char.isupper() for char in password):\n",
    "        return \"Password required ate least one upper case character\"\n",
    "    \n",
    "    if not any(char in \"!@#$%^&*_+=.,\" for char in password):\n",
    "        return \"Password required ate least one Special  character\"\n",
    "    \n",
    "    else:\n",
    "        return \"Your Password is super strong\"\n",
    "\n",
    "print(is_strong_password(\"easiypassword\"))\n",
    "print(is_strong_password(\"easiy1password\"))\n",
    "print(is_strong_password(\"Easiy1password\"))\n",
    "print(is_strong_password(\"Strong1@password\"))"
   ]
  },
  {
   "cell_type": "code",
   "execution_count": null,
   "id": "5d666285",
   "metadata": {},
   "outputs": [
    {
     "name": "stdout",
     "output_type": "stream",
     "text": [
      "Your Total Cost: 1540\n"
     ]
    }
   ],
   "source": [
    "# Example_04: calculate the total cost of items in a shopping cart\n",
    "\n",
    "def calculate_total_cost(cart):\n",
    "    total_cost = 0\n",
    "\n",
    "    for item in cart:\n",
    "        total_cost += item[\"Price\"] * item[\"quantity\"]\n",
    "\n",
    "    return total_cost\n",
    "\n",
    "\n",
    "# Inside the cart data\n",
    "cart = [\n",
    "    {\"name\": \"Apple\", \"Price\": 50, \"quantity\": 10},  # this are my will buy item\n",
    "    {\"name\": \"Banana\", \"Price\": 20, \"quantity\": 20},\n",
    "    {\"name\": \"Orange\", \"Price\": 80, \"quantity\": 8},\n",
    "]\n",
    "\n",
    "# Calling the function\n",
    "total_cost = calculate_total_cost(cart)\n",
    "\n",
    "print(f\"Your Total Cost: {total_cost}\")"
   ]
  },
  {
   "cell_type": "code",
   "execution_count": null,
   "id": "c2531f14",
   "metadata": {},
   "outputs": [
    {
     "name": "stdout",
     "output_type": "stream",
     "text": [
      "True\n",
      "False\n"
     ]
    }
   ],
   "source": [
    "# Example_05: Write a function to check a string is Palindrome or not\n",
    "\n",
    "# aba - True\n",
    "# abc - False\n",
    "\n",
    "def is_palindrome(s):\n",
    "    s = s.lower().replace(\" \", \"\")\n",
    "\n",
    "    return s == s[::-1]\n",
    "\n",
    "print(is_palindrome(\"A man a plan a canal Panama\"))\n",
    "print(is_palindrome(\"Hello\"))\n",
    "\n"
   ]
  }
 ],
 "metadata": {
  "kernelspec": {
   "display_name": "venv",
   "language": "python",
   "name": "python3"
  },
  "language_info": {
   "codemirror_mode": {
    "name": "ipython",
    "version": 3
   },
   "file_extension": ".py",
   "mimetype": "text/x-python",
   "name": "python",
   "nbconvert_exporter": "python",
   "pygments_lexer": "ipython3",
   "version": "3.12.11"
  }
 },
 "nbformat": 4,
 "nbformat_minor": 5
}
