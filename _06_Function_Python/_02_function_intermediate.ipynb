{
 "cells": [
  {
   "cell_type": "markdown",
   "id": "41237f2d",
   "metadata": {},
   "source": [
    "### Topic: Function of Python"
   ]
  },
  {
   "cell_type": "markdown",
   "id": "38aeb763",
   "metadata": {},
   "source": [
    "### OUTCOMES\n",
    "\n",
    "- 1. How to Function Execute in Memory\n",
    "\n",
    "- 2. Variable Scope\n",
    "\n",
    "- 3. Nested Function\n",
    "\n",
    "- 4. Function are 1st class citizens\n",
    "\n",
    "- 5. Lambda Function\n",
    "\n",
    "- 6. Map Function\n",
    "\n",
    "- 7. Filter Function\n",
    "\n",
    "- 8. Decorators\n",
    "\n",
    "- 9. * Practical Examples"
   ]
  },
  {
   "cell_type": "markdown",
   "id": "acbf0163",
   "metadata": {},
   "source": [
    "###  1. How to Function Execute in Memory\n",
    "\n",
    "- Function act as a individual program in memory.\n",
    "\n",
    "- The lifetime of the function is between when it is called and when it returns the values. as the same life-spam of variable in a function.\n",
    "\n",
    "\n",
    "#### Steps of the function how to Execute in Memory\n",
    "\n",
    "- Step_01: Declaration portation of function\n",
    "\n",
    "    - when interpreter see def keyword then interpreter understand it's a function. so skip this function and go to next portion of the codes.\n",
    "\n",
    "- Step_02: Call portation of function\n",
    "\n",
    "    - when call the function the interpreter go to the function Declaration portation (Step_01)\n",
    "\n",
    "    - Catch the answer from Step_03(in this time the function is destroy) and output the answer.\n",
    "\n",
    "- Step_03: inside the Step_01:\n",
    "     \n",
    "    - Then function create a individual block of memory inside the RAM. inside this memory block function Perform all operations then return the answer into calling portation (step_02)."
   ]
  },
  {
   "cell_type": "markdown",
   "id": "704d35d6",
   "metadata": {},
   "source": [
    "### 2. Variable Scope"
   ]
  },
  {
   "cell_type": "markdown",
   "id": "8060bdab",
   "metadata": {},
   "source": [
    "- There are two variable scope\n",
    "\n",
    "    - 1. Global Variable Scope.\n",
    "    - 2. Local Variable Scope.\n",
    "\n",
    "- 1. Global Variable Scope:\n",
    "\n",
    "    - Global variable are those variable that inside the main program.\n",
    "    \n",
    "    - Global variables can't access the local variables.\n",
    "\n",
    "- 2. Local Variable Scope.\n",
    "\n",
    "    - Local variable are those variable that inside the function/class.\n",
    "\n",
    "    - Local variables can access the Global variable but can't modify or change the value (if can't use global keyword in local scope)."
   ]
  },
  {
   "cell_type": "code",
   "execution_count": null,
   "id": "68b07300",
   "metadata": {},
   "outputs": [
    {
     "name": "stdout",
     "output_type": "stream",
     "text": [
      "10\n"
     ]
    }
   ],
   "source": [
    "# Example_01: Global vairable \n",
    "\n",
    "num = 10  # Global variable and scope\n",
    "\n",
    "def show():\n",
    "    print(num)  # this is local scope\n",
    "\n",
    "show()\n",
    "\n",
    "# Note: local Scope only access the global variable"
   ]
  },
  {
   "cell_type": "code",
   "execution_count": null,
   "id": "4be0e6b2",
   "metadata": {},
   "outputs": [],
   "source": [
    "# what happen above program?\n",
    "'''  \n",
    "# Global scope\n",
    "num = 10\n",
    "\n",
    "def show():\n",
    "    # local scope\n",
    "    print(num)\n",
    "\n",
    "show()\n",
    "\n",
    "\n",
    "How to Execute:\n",
    "\n",
    "first: interpreter see num = 10 then store in memory (RAM)\n",
    "\n",
    "second: when see def keyword the ignore the function (show())\n",
    "\n",
    "thrid: show() call the function then go to second part \n",
    "\n",
    "\n",
    "after second part:\n",
    "    print(num)\n",
    "\n",
    "    - here print() search... in local scope (if there any num variable). \n",
    "    - print() can't find the num variable in local scope.\n",
    "    - then print() go to the global scope and find the num variable and display.\n",
    "\n",
    "\n",
    "in this process the output of the above program : 10\n",
    "'''"
   ]
  },
  {
   "cell_type": "code",
   "execution_count": null,
   "id": "b4feee4c",
   "metadata": {},
   "outputs": [
    {
     "name": "stdout",
     "output_type": "stream",
     "text": [
      "10\n"
     ]
    }
   ],
   "source": [
    "# Example_02: Local vairable \n",
    "\n",
    "def show():\n",
    "    num = 10  # local variable and scope\n",
    "    print(num)  # this is local scope\n",
    "\n",
    "show()\n",
    "\n"
   ]
  },
  {
   "cell_type": "code",
   "execution_count": null,
   "id": "b5d67f14",
   "metadata": {},
   "outputs": [
    {
     "name": "stdout",
     "output_type": "stream",
     "text": [
      "10\n"
     ]
    }
   ],
   "source": [
    "# Example_03: Global and Local variables\n",
    "\n",
    "num = 15 # Global variable\n",
    "\n",
    "def show():\n",
    "    num = 10  # local variable and scope\n",
    "    print(num)  \n",
    "show()\n",
    "\n",
    "# What is the output in above program if 10 then why 10?\n",
    "# Because first print() search num in local scope then find and display. can't not need to go global scope."
   ]
  },
  {
   "cell_type": "code",
   "execution_count": 2,
   "id": "825b3dcb",
   "metadata": {},
   "outputs": [
    {
     "name": "stdout",
     "output_type": "stream",
     "text": [
      "21\n",
      "15\n"
     ]
    }
   ],
   "source": [
    "# Example_04: Global and Local variables\n",
    "\n",
    "num = 15 # Global variable\n",
    "\n",
    "def show():\n",
    "    num = 20  # local variable and scope\n",
    "    \n",
    "    def display():\n",
    "        print(num+1)\n",
    "    \n",
    "    display()\n",
    "\n",
    "show()\n",
    "\n",
    "print(num)\n"
   ]
  },
  {
   "cell_type": "code",
   "execution_count": null,
   "id": "deb7fc40",
   "metadata": {},
   "outputs": [],
   "source": [
    "# Example_05: Global and Local variables\n",
    "\n",
    "def g(y):\n",
    "    print(x)  # local scope\n",
    "    print(x+1)\n",
    "\n",
    "# Gloable scope\n",
    "x = 5  \n",
    "g(x)\n",
    "\n",
    "print(x)\n",
    "\n",
    "# output:\n",
    "# 5\n",
    "# 6\n",
    "# 5"
   ]
  },
  {
   "cell_type": "code",
   "execution_count": null,
   "id": "2250bf1d",
   "metadata": {},
   "outputs": [],
   "source": [
    "# Explain the above Example_05\n",
    "'''  \n",
    "step_01: function declaration portation\n",
    "    when interpreter see the def keyword the interpreter ignore function. and go to step_02\n",
    "\n",
    "    after calling function g(x) , where x = 5\n",
    "    ---------------------------\n",
    "    def g(y):  # here, y = 5\n",
    "        \n",
    "        - print(x) \n",
    "\n",
    "        # now print() secarch... x inside the g(y) fucntion or local scope. when it's can't find x then it's go outside of the function or gobla scope (if there any x variable). yes find x = 5 and display 5\n",
    "\n",
    "        - print(x+1) where x = 5 \n",
    "                           x + 1\n",
    "                           5 + 1\n",
    "                           = 6 \n",
    "        display 6\n",
    "\n",
    "        - interpreter go outside of the g(y) function go to step_02\n",
    "\n",
    "step_02: Global scope\n",
    "    - x = 5   # create a memory  for x and store 5.\n",
    "\n",
    "    # calling function g(x)\n",
    "    - g(x)    # create a memory for g(x) where x = 5 and go to step_01 (declaration portaion)\n",
    "\n",
    "    # after come interpreter here,\n",
    "    print(x) \n",
    "    # now print() search... x in the global scope and find the x = 5 and display : 5\n",
    "\n",
    "\n",
    " output: \n",
    "    5\n",
    "    6\n",
    "    5\n",
    "\n",
    "\n",
    "'''"
   ]
  },
  {
   "cell_type": "code",
   "execution_count": 4,
   "id": "6a368306",
   "metadata": {},
   "outputs": [
    {
     "name": "stdout",
     "output_type": "stream",
     "text": [
      "10\n",
      "11\n",
      "5\n",
      "6\n",
      "5\n"
     ]
    }
   ],
   "source": [
    "# Example_05_i: Global and Local variables\n",
    "x = 10\n",
    "\n",
    "def g(y):\n",
    "    # print(y)\n",
    "    print(x)  # local scope\n",
    "    print(x+1)\n",
    "\n",
    "# Gloable scope\n",
    "\n",
    "g(x)\n",
    "\n",
    "x = 5 \n",
    "g(x)\n",
    "\n",
    "print(x)\n"
   ]
  },
  {
   "cell_type": "code",
   "execution_count": null,
   "id": "68094d14",
   "metadata": {},
   "outputs": [
    {
     "name": "stdout",
     "output_type": "stream",
     "text": [
      "2\n",
      "5\n"
     ]
    }
   ],
   "source": [
    "# Example_06: Global and Local variables\n",
    "def f(y):\n",
    "    x = 1\n",
    "    x += 1\n",
    "\n",
    "    print(x)\n",
    "\n",
    "x = 5 \n",
    "f(x)\n",
    "print(x)"
   ]
  },
  {
   "cell_type": "code",
   "execution_count": null,
   "id": "36ba3a54",
   "metadata": {},
   "outputs": [],
   "source": [
    "# * Example_07: Global and Local variables\n",
    "# Local variable only access the global variable but can't modify the variable value (if global keyword is not use)\n",
    "\n",
    "def h(y):\n",
    "    x += 1  # local variable or scope\n",
    "\n",
    "x = 5  # global variable or scope\n",
    "h(x)\n",
    "\n",
    "print(x)\n",
    "\n",
    "# What is the output?"
   ]
  },
  {
   "cell_type": "code",
   "execution_count": null,
   "id": "546843dc",
   "metadata": {},
   "outputs": [
    {
     "name": "stdout",
     "output_type": "stream",
     "text": [
      "in f(x): x =  4\n",
      "in main program scope: z =  4\n",
      "in main program scope: x =  3\n"
     ]
    }
   ],
   "source": [
    "# Example_08: Global and local variables\n",
    "\n",
    "def f(x):\n",
    "    x = x + 1   # x = 3 + 1\n",
    "    print(\"in f(x): x = \", x) # x = 4 output_01\n",
    "\n",
    "    return x\n",
    "\n",
    "x = 3\n",
    "z = f(x)  # f(x) = 4\n",
    "\n",
    "print(\"in main program scope: z = \", z) # z = 4 output_02\n",
    "\n",
    "print(\"in main program scope: x = \", x)  # x = 3 output_03"
   ]
  },
  {
   "cell_type": "code",
   "execution_count": null,
   "id": "21d33593",
   "metadata": {},
   "outputs": [
    {
     "name": "stdout",
     "output_type": "stream",
     "text": [
      "6\n",
      "6\n"
     ]
    }
   ],
   "source": [
    "# * Example_07_1: Global and Local variables\n",
    "# Local variable only access the global variable but can't modify the variable value (if global keyword is not use)\n",
    "\n",
    "def h(y):\n",
    "    global x\n",
    "    x += 1  # local variable or scope\n",
    "    print(x)\n",
    "\n",
    "x = 5  # global variable or scope\n",
    "h(x)\n",
    "\n",
    "print(x)\n",
    "\n",
    "# What is the output?"
   ]
  },
  {
   "cell_type": "markdown",
   "id": "dc96d000",
   "metadata": {},
   "source": [
    "### 3. Nested Function"
   ]
  },
  {
   "cell_type": "markdown",
   "id": "c05ed2a5",
   "metadata": {},
   "source": [
    "-  A Function inside another function called Nested Functions.\n",
    "\n",
    "- Nested function is hidden from main function\n",
    "\n",
    "- we can't directly access the nested function from the main function."
   ]
  },
  {
   "cell_type": "code",
   "execution_count": 12,
   "id": "2b8e10b5",
   "metadata": {},
   "outputs": [
    {
     "name": "stdout",
     "output_type": "stream",
     "text": [
      "inside the function inner\n",
      "inside the function outter\n"
     ]
    }
   ],
   "source": [
    "# Example_01: Nested Function\n",
    "\n",
    "def outter_function():\n",
    "\n",
    "    def inner_function():\n",
    "        print(\"inside the function inner\")\n",
    "\n",
    "    inner_function()\n",
    "\n",
    "    print(\"inside the function outter\")\n",
    "\n",
    "outter_function()"
   ]
  },
  {
   "cell_type": "code",
   "execution_count": null,
   "id": "211f4e4b",
   "metadata": {},
   "outputs": [
    {
     "ename": "NameError",
     "evalue": "name 'inner_function' is not defined",
     "output_type": "error",
     "traceback": [
      "\u001b[31m---------------------------------------------------------------------------\u001b[39m",
      "\u001b[31mNameError\u001b[39m                                 Traceback (most recent call last)",
      "\u001b[36mCell\u001b[39m\u001b[36m \u001b[39m\u001b[32mIn[13]\u001b[39m\u001b[32m, line 1\u001b[39m\n\u001b[32m----> \u001b[39m\u001b[32m1\u001b[39m \u001b[43minner_function\u001b[49m()\n",
      "\u001b[31mNameError\u001b[39m: name 'inner_function' is not defined"
     ]
    }
   ],
   "source": [
    "# we can't directly access the nested function from the main function.\n",
    "inner_function()"
   ]
  },
  {
   "cell_type": "code",
   "execution_count": 8,
   "id": "bb142ef5",
   "metadata": {},
   "outputs": [
    {
     "name": "stdout",
     "output_type": "stream",
     "text": [
      "in g(x) : x =  4\n",
      "4\n"
     ]
    }
   ],
   "source": [
    "# Example_02: Nested Functions\n",
    "\n",
    "def g(x): # x = 3\n",
    "\n",
    "    def h(y):\n",
    "        x = \"abc\"\n",
    "\n",
    "    x = x + 1  # x = 3 + 1 => 4\n",
    "    print(\"in g(x) : x = \", x)  # output_01: 4\n",
    "\n",
    "    h(x) # x = 4 and h(x) = None\n",
    "\n",
    "    return x # x = 4\n",
    "\n",
    "x = 3\n",
    "\n",
    "z = g(x)  # g(x) = 4\n",
    "\n",
    "print(z)  # output_02: 4\n",
    "    "
   ]
  },
  {
   "cell_type": "code",
   "execution_count": null,
   "id": "1121c55f",
   "metadata": {},
   "outputs": [
    {
     "name": "stdout",
     "output_type": "stream",
     "text": [
      "in g(h): x =  4\n",
      "in h(x) : x =  5\n",
      "in main Program Scope: x =  3\n",
      "in main Program Scope: z =  4\n"
     ]
    }
   ],
   "source": [
    "# Example_03: Nested Functions\n",
    "\n",
    "def g(x):  # x = 3\n",
    "\n",
    "    def h(x): # x = 4\n",
    "\n",
    "        x = x + 1 # x = 4 + 1 => 5\n",
    "        print(\"in h(x) : x = \",x) # output_2: 5\n",
    "        # return x\n",
    "\n",
    "    x = x + 1  # x = 3 + 1 => 4\n",
    "    print(\"in g(h): x = \", x)  # output_1: 4\n",
    "\n",
    "    h(x) # x = 4 , and h(x) = None\n",
    "\n",
    "    return x # x = 4\n",
    "\n",
    "x = 3 \n",
    "\n",
    "z = g(x)  # x = 3 |  g(x) = 4 or z = 4\n",
    "\n",
    "print(\"in main Program Scope: x = \", x) # output_03: x = 3\n",
    "print(\"in main Program Scope: z = \", z) # output_04: z = 4"
   ]
  },
  {
   "cell_type": "markdown",
   "id": "9dcfe7d6",
   "metadata": {},
   "source": [
    "- Function in a python is a data type like int, float, string, tuple, list etc.\n",
    "\n",
    "- Function are 1st class citizens"
   ]
  },
  {
   "cell_type": "code",
   "execution_count": 19,
   "id": "f00a83e5",
   "metadata": {},
   "outputs": [
    {
     "name": "stdout",
     "output_type": "stream",
     "text": [
      "9\n",
      "<class 'function'>\n",
      "1972975593696\n"
     ]
    }
   ],
   "source": [
    "# how function is a data type like int, float, string, tuple, list etc.\n",
    "\n",
    "# Example_01: type and id check\n",
    "\n",
    "def square(num):\n",
    "     return num ** 2\n",
    "\n",
    "\n",
    "print(square(3))\n",
    "\n",
    "print(type(square))\n",
    "\n",
    "print(id(square))\n",
    "\n"
   ]
  },
  {
   "cell_type": "code",
   "execution_count": 22,
   "id": "19827c3b",
   "metadata": {},
   "outputs": [
    {
     "name": "stdout",
     "output_type": "stream",
     "text": [
      "<class 'function'>\n",
      "1972975593696\n",
      "9\n"
     ]
    }
   ],
   "source": [
    "# Example_02: Reassign the function\n",
    "\n",
    "reassign_function = square\n",
    "\n",
    "\n",
    "print(type(reassign_function))\n",
    "\n",
    "print(id(reassign_function))\n",
    "\n",
    "print(reassign_function(3))\n",
    "\n"
   ]
  },
  {
   "cell_type": "code",
   "execution_count": 23,
   "id": "93a897f3",
   "metadata": {},
   "outputs": [],
   "source": [
    "# Example_03: Delete the function \n",
    "\n",
    "del square"
   ]
  },
  {
   "cell_type": "code",
   "execution_count": null,
   "id": "3146cd94",
   "metadata": {},
   "outputs": [
    {
     "ename": "NameError",
     "evalue": "name 'square' is not defined",
     "output_type": "error",
     "traceback": [
      "\u001b[31m---------------------------------------------------------------------------\u001b[39m",
      "\u001b[31mNameError\u001b[39m                                 Traceback (most recent call last)",
      "\u001b[36mCell\u001b[39m\u001b[36m \u001b[39m\u001b[32mIn[24]\u001b[39m\u001b[32m, line 1\u001b[39m\n\u001b[32m----> \u001b[39m\u001b[32m1\u001b[39m \u001b[38;5;28mprint\u001b[39m(\u001b[43msquare\u001b[49m(\u001b[32m3\u001b[39m))\n",
      "\u001b[31mNameError\u001b[39m: name 'square' is not defined"
     ]
    }
   ],
   "source": [
    "print(square(3))  # errors"
   ]
  },
  {
   "cell_type": "code",
   "execution_count": 25,
   "id": "83741e99",
   "metadata": {},
   "outputs": [
    {
     "name": "stdout",
     "output_type": "stream",
     "text": [
      "9\n"
     ]
    }
   ],
   "source": [
    "def square(num):\n",
    "     return num ** 2\n",
    "\n",
    "\n",
    "print(square(3))"
   ]
  },
  {
   "cell_type": "code",
   "execution_count": 28,
   "id": "0e05e8b2",
   "metadata": {},
   "outputs": [
    {
     "name": "stdout",
     "output_type": "stream",
     "text": [
      "[1, 2, 3, 4, 5, <function square at 0x000001CB5E847920>]\n",
      "<function square at 0x000001CB5E847920>\n",
      "9\n"
     ]
    }
   ],
   "source": [
    "# Example_04: storing in list\n",
    "\n",
    "lst = [1,2,3,4,5,square]\n",
    "\n",
    "print(lst)\n",
    "\n",
    "print(lst[-1])\n",
    "\n",
    "print(lst[-1](3))"
   ]
  },
  {
   "cell_type": "code",
   "execution_count": 29,
   "id": "de881ae4",
   "metadata": {},
   "outputs": [
    {
     "name": "stdout",
     "output_type": "stream",
     "text": [
      "7\n"
     ]
    }
   ],
   "source": [
    "# Example_05: returning a function\n",
    "\n",
    "def f():\n",
    "\n",
    "    def x(a,b):  # a = 3, b = 4\n",
    "        return a + b  # 3 + 4 => 7\n",
    "    \n",
    "    return x\n",
    "\n",
    "val = f()(3,4) # here f() = x and x(3,4) = 7 or val = 7\n",
    "\n",
    "print(val) # 7\n"
   ]
  },
  {
   "cell_type": "code",
   "execution_count": 12,
   "id": "b3a067ae",
   "metadata": {},
   "outputs": [
    {
     "name": "stdout",
     "output_type": "stream",
     "text": [
      "inside func_a\n",
      "inside func_b\n",
      "None\n"
     ]
    }
   ],
   "source": [
    "# Example_06: Function as Argument\n",
    "\n",
    "def func_a():\n",
    "    print(\"inside func_a\")  # output_01 and func_a return None\n",
    "\n",
    "def func_b(z):\n",
    "    # print(z) # o/p: None\n",
    "    print(\"inside func_b\")  # output_02\n",
    "   \n",
    "\n",
    "    return z  # z = None\n",
    "\n",
    "print(func_b(func_a())) # func_a = None"
   ]
  },
  {
   "cell_type": "markdown",
   "id": "79536fa1",
   "metadata": {},
   "source": [
    "### 4. Lambda Function"
   ]
  },
  {
   "cell_type": "markdown",
   "id": "d0d54df7",
   "metadata": {},
   "source": [
    "- What is Lamba function\n",
    "\n",
    "- why use lamba function\n",
    "\n",
    "- Where use lamba function\n",
    "\n",
    "- syntax of lamba function\n",
    "\n",
    "- various example of lamba fucntion"
   ]
  },
  {
   "cell_type": "code",
   "execution_count": null,
   "id": "a2baac4d",
   "metadata": {},
   "outputs": [],
   "source": []
  },
  {
   "cell_type": "code",
   "execution_count": null,
   "id": "c6639a2c",
   "metadata": {},
   "outputs": [],
   "source": []
  },
  {
   "cell_type": "code",
   "execution_count": null,
   "id": "a3eca737",
   "metadata": {},
   "outputs": [],
   "source": []
  },
  {
   "cell_type": "code",
   "execution_count": null,
   "id": "196270bc",
   "metadata": {},
   "outputs": [],
   "source": []
  }
 ],
 "metadata": {
  "kernelspec": {
   "display_name": "venv",
   "language": "python",
   "name": "python3"
  },
  "language_info": {
   "codemirror_mode": {
    "name": "ipython",
    "version": 3
   },
   "file_extension": ".py",
   "mimetype": "text/x-python",
   "name": "python",
   "nbconvert_exporter": "python",
   "pygments_lexer": "ipython3",
   "version": "3.12.11"
  }
 },
 "nbformat": 4,
 "nbformat_minor": 5
}
