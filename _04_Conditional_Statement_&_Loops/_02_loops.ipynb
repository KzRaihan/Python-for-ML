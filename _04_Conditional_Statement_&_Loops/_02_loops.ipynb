{
  "cells": [
    {
      "cell_type": "markdown",
      "id": "0af6d7d2",
      "metadata": {
        "id": "0af6d7d2"
      },
      "source": [
        "## Topic: Loops"
      ]
    },
    {
      "cell_type": "markdown",
      "id": "623baec6",
      "metadata": {
        "id": "623baec6"
      },
      "source": [
        "#### OUTCOMES\n",
        "\n",
        "- 1. Introduction to loops\n",
        "\n",
        "- 2. for loops\n",
        "    - Iteration over a range().\n",
        "    - Iteration over a string.\n",
        "    - Iteration over a list.\n",
        "    - Iteration over a tuple.\n",
        "\n",
        "- 3. while loops\n",
        "\n",
        "- 4. loop control statements\n",
        "    - break\n",
        "    - continue\n",
        "    - pass\n",
        "\n",
        "- 5. Nested Loops\n",
        "\n",
        "- 6. Practical Examples\n"
      ]
    },
    {
      "cell_type": "markdown",
      "id": "1a6926ab",
      "metadata": {
        "id": "1a6926ab"
      },
      "source": [
        "### 1. Introduction to loops\n",
        "\n",
        "- Loops are use to repeat instuctions.\n",
        "\n",
        "- Repeat a block of code, until a specified condition is met.\n",
        "\n",
        "- Type of loops\n",
        "   \n",
        "    - for loop\n",
        " \n",
        "    - while loop\n"
      ]
    },
    {
      "cell_type": "markdown",
      "id": "5750b67a",
      "metadata": {},
      "source": [
        "### 2. for loops\n",
        "\n",
        "- Used to iterate over a sequence (like a list, tuple, string, etc.)\n",
        "\n",
        "- Used for sequential Traversal.\n"
      ]
    },
    {
      "cell_type": "code",
      "execution_count": null,
      "id": "617ecc46",
      "metadata": {},
      "outputs": [],
      "source": [
        "#### syntax of for loop\n",
        "\"\"\"\n",
        "for item in sequence:\n",
        "    # body of for loop\n",
        "\n",
        "\"\"\""
      ]
    },
    {
      "cell_type": "markdown",
      "id": "ff034814",
      "metadata": {},
      "source": [
        "#### for loop Iteration over a range()."
      ]
    },
    {
      "cell_type": "markdown",
      "id": "adb24185",
      "metadata": {},
      "source": [
        "#### range() function\n",
        " function returns a sequenc of number.\n",
        "- range()\n"
      ]
    },
    {
      "cell_type": "code",
      "execution_count": null,
      "id": "bd6a2be5",
      "metadata": {},
      "outputs": [],
      "source": [
        "# Syntax of range()\n",
        "\n",
        "\"\"\"\n",
        "range(start, stop, step)  # three arguments\n",
        "\n",
        "here,\n",
        "   - start = 0 (By default) and it's optional\n",
        "\n",
        "   - stop = a specified number based on condition (must be assign) and it's not inclusive\n",
        "\n",
        "   - step = 1 (By default) and it's optional\n",
        "\n",
        "\"\"\""
      ]
    },
    {
      "cell_type": "code",
      "execution_count": null,
      "id": "f28114d4",
      "metadata": {},
      "outputs": [
        {
          "data": {
            "text/plain": [
              "range(1, 4)"
            ]
          },
          "execution_count": 2,
          "metadata": {},
          "output_type": "execute_result"
        }
      ],
      "source": [
        "# Example_01 of range()\n",
        "# it's maintain 0-idx.\n",
        "\n",
        "range(1,4,1)\n"
      ]
    },
    {
      "cell_type": "code",
      "execution_count": 3,
      "id": "3c59ef46",
      "metadata": {},
      "outputs": [
        {
          "data": {
            "text/plain": [
              "[1, 2, 3]"
            ]
          },
          "execution_count": 3,
          "metadata": {},
          "output_type": "execute_result"
        }
      ],
      "source": [
        "# type casting\n",
        "list(range(1,4,1))"
      ]
    },
    {
      "cell_type": "code",
      "execution_count": null,
      "id": "a8b513e2",
      "metadata": {},
      "outputs": [
        {
          "name": "stdout",
          "output_type": "stream",
          "text": [
            "1\n",
            "2\n",
            "3\n",
            "4\n",
            "5\n",
            "6\n",
            "7\n",
            "8\n",
            "9\n"
          ]
        }
      ],
      "source": [
        "\n",
        "# Example_02 of range()\n",
        "\n",
        "for i in range(1,10):  # star = 1 and end = before 10\n",
        "    print(i)\n"
      ]
    },
    {
      "cell_type": "code",
      "execution_count": 30,
      "id": "2d681249",
      "metadata": {},
      "outputs": [
        {
          "name": "stdout",
          "output_type": "stream",
          "text": [
            "0\n",
            "1\n",
            "2\n",
            "3\n",
            "4\n",
            "5\n",
            "6\n",
            "7\n",
            "8\n",
            "9\n",
            "10\n",
            "11\n",
            "12\n",
            "13\n",
            "14\n"
          ]
        }
      ],
      "source": [
        "\n",
        "# Example_03 of range()\n",
        "\n",
        "for i in range(15):  # start = 0(default value) and end = 15 -1 , step size = 1 (by default)\n",
        "    print(i)"
      ]
    },
    {
      "cell_type": "code",
      "execution_count": 31,
      "id": "77d23b2a",
      "metadata": {},
      "outputs": [
        {
          "name": "stdout",
          "output_type": "stream",
          "text": [
            "5\n",
            "7\n",
            "9\n",
            "11\n",
            "13\n",
            "15\n",
            "17\n",
            "19\n"
          ]
        }
      ],
      "source": [
        "# Example_04 of range()\n",
        "\n",
        "for i in range(5, 20, 2):  # start = 1 and end = 19 and step = 2\n",
        "    print(i)\n",
        "\n"
      ]
    },
    {
      "cell_type": "markdown",
      "id": "3ae232de",
      "metadata": {},
      "source": [
        "#### for loop Iteration over a string."
      ]
    },
    {
      "cell_type": "code",
      "execution_count": 7,
      "id": "7621c1c0",
      "metadata": {},
      "outputs": [
        {
          "name": "stdout",
          "output_type": "stream",
          "text": [
            "M\n",
            "y\n",
            " \n",
            "n\n",
            "a\n",
            "m\n",
            "e\n",
            " \n",
            "i\n",
            "s\n",
            " \n",
            "K\n",
            "z\n",
            "R\n",
            "a\n",
            "i\n",
            "h\n",
            "a\n",
            "n\n"
          ]
        }
      ],
      "source": [
        "name = \"My name is KzRaihan\"\n",
        "\n",
        "for item in name:\n",
        "    print(item)"
      ]
    },
    {
      "cell_type": "markdown",
      "id": "c5336b53",
      "metadata": {},
      "source": [
        "#### for loop Iteration over a list."
      ]
    },
    {
      "cell_type": "code",
      "execution_count": 9,
      "id": "30ae08ca",
      "metadata": {},
      "outputs": [
        {
          "name": "stdout",
          "output_type": "stream",
          "text": [
            "10\n",
            "20\n",
            "30\n",
            "40\n",
            "50\n",
            "<class 'list'>\n"
          ]
        }
      ],
      "source": [
        "# Example of for loop with list\n",
        "lst = [10,20,30,40,50]\n",
        "\n",
        "for item in lst:\n",
        "    print(item)\n",
        "\n",
        "print(type(lst))\n"
      ]
    },
    {
      "cell_type": "markdown",
      "id": "54ff41ae",
      "metadata": {},
      "source": [
        "#### for loop Iteration over a tuple."
      ]
    },
    {
      "cell_type": "code",
      "execution_count": 10,
      "id": "9788c949",
      "metadata": {},
      "outputs": [
        {
          "name": "stdout",
          "output_type": "stream",
          "text": [
            "Patato\n",
            "Tamato\n",
            "Brinjal\n",
            "ladyfinger\n",
            "Cucumber\n",
            "<class 'tuple'>\n"
          ]
        }
      ],
      "source": [
        "# Example of for loop with tuple\n",
        "\n",
        "veg = (\"Patato\", \"Tamato\", \"Brinjal\", \"ladyfinger\", \"Cucumber\")\n",
        "\n",
        "for item in veg:\n",
        "    print(item)\n",
        "\n",
        "print(type(veg))\n"
      ]
    },
    {
      "cell_type": "code",
      "execution_count": 1,
      "id": "7e2da843",
      "metadata": {},
      "outputs": [
        {
          "name": "stdout",
          "output_type": "stream",
          "text": [
            "(10, 20, 30, 40, 50, 60, 70, 80, 90)\n",
            "(10, 20, 30, 40, 50, 60, 70, 80, 90)\n",
            "(10, 20, 30, 40, 50, 60, 70, 80, 90)\n",
            "(10, 20, 30, 40, 50, 60, 70, 80, 90)\n",
            "(10, 20, 30, 40, 50, 60, 70, 80, 90)\n",
            "(10, 20, 30, 40, 50, 60, 70, 80, 90)\n",
            "(10, 20, 30, 40, 50, 60, 70, 80, 90)\n",
            "(10, 20, 30, 40, 50, 60, 70, 80, 90)\n",
            "(10, 20, 30, 40, 50, 60, 70, 80, 90)\n",
            "91\n"
          ]
        }
      ],
      "source": [
        "# example of for loop\n",
        "var = (10, 20, 30,40, 50, 60, 70, 80, 90)\n",
        "\n",
        "i = 1\n",
        "\n",
        "for i in var:\n",
        "    print(var)\n",
        "    i +=1\n",
        "\n",
        "print(i)\n"
      ]
    },
    {
      "cell_type": "markdown",
      "id": "e5e2bde3",
      "metadata": {
        "id": "e5e2bde3",
        "outputId": "3fc39279-bc5c-41ed-f1a0-6cb43a5d8d34"
      },
      "source": [
        "#### 3. While loop\n",
        "\n",
        "-  A while loop is useful when we don’t know how many times to repeat (or loop are executes).\n",
        "\n",
        "-  The while loop continues to execute as long the conditions is True.\n",
        "\n"
      ]
    },
    {
      "cell_type": "code",
      "execution_count": null,
      "id": "da2f2ee7",
      "metadata": {},
      "outputs": [],
      "source": [
        "\"\"\"\n",
        "- Syntax of While loop\n",
        "\n",
        "    initialization\n",
        "\n",
        "      while condition:\n",
        "\n",
        "        - do something if the condition is true     # this is the body of while loop\n",
        "\n",
        "        - increment/decrement\n",
        "\n",
        "\"\"\"\n",
        "# cds \n",
        "# - single type value\n",
        "#- comparision type value"
      ]
    },
    {
      "cell_type": "code",
      "execution_count": null,
      "id": "c79b25eb",
      "metadata": {
        "id": "c79b25eb"
      },
      "outputs": [],
      "source": [
        "# Example of while loop\n",
        "\n",
        "while True:\n",
        "    print(\"KzRaihan\")  # this is infinite loop"
      ]
    },
    {
      "cell_type": "code",
      "execution_count": null,
      "id": "c01a2bec",
      "metadata": {
        "id": "c01a2bec"
      },
      "outputs": [],
      "source": [
        "# Example_02:\n",
        "\n",
        "while 1:\n",
        "    print(\"Good\") # this is also infinite loop\n",
        "\n",
        "\n"
      ]
    },
    {
      "cell_type": "markdown",
      "id": "edef41c1",
      "metadata": {},
      "source": [
        "### Note: Except for 'zero (0)' or 'False,' all conditions are True by default."
      ]
    },
    {
      "cell_type": "code",
      "execution_count": null,
      "id": "fe978651",
      "metadata": {
        "id": "fe978651",
        "outputId": "84f97df5-02be-4909-851a-e66de7168de8"
      },
      "outputs": [
        {
          "name": "stdout",
          "output_type": "stream",
          "text": [
            "KzRaihan\n",
            "KzRaihan\n",
            "KzRaihan\n",
            "KzRaihan\n",
            "KzRaihan\n",
            "KzRaihan\n",
            "KzRaihan\n",
            "KzRaihan\n",
            "KzRaihan\n",
            "KzRaihan\n"
          ]
        }
      ],
      "source": [
        "## Example 03:\n",
        "i = 1 # initialization\n",
        "\n",
        "while i<=10: # cds\n",
        "    print(\"KzRaihan\")  # while loop body\n",
        "    i += 1 # increment i = i + 1 \n",
        "                       # i = 1 + 1\n",
        "                       #    = 2\n",
        "\n"
      ]
    },
    {
      "cell_type": "code",
      "execution_count": null,
      "id": "7a64a362",
      "metadata": {
        "id": "7a64a362"
      },
      "outputs": [],
      "source": [
        "### infinite loops \n",
        "# if start value(initialization) is greater then or equal to the end value and loop counter is increment then it is inifinite loop.\n",
        "\n",
        "i = 2\n",
        "\n",
        "while i >= 1:\n",
        "    print(i)\n",
        "    i += 1\n"
      ]
    },
    {
      "cell_type": "code",
      "execution_count": null,
      "id": "53418649",
      "metadata": {
        "id": "53418649"
      },
      "outputs": [],
      "source": [
        "# infinite loop using decrement\n",
        "\n",
        "i = 1\n",
        "\n",
        "while i <= 2:  # Every iteration i is decrement\n",
        "    print(i)\n",
        "\n",
        "    i -= 1"
      ]
    },
    {
      "cell_type": "code",
      "execution_count": 13,
      "id": "99872cdc",
      "metadata": {
        "id": "99872cdc",
        "outputId": "f4534262-60fe-4ed4-c989-cbdcfdd26c65"
      },
      "outputs": [
        {
          "name": "stdout",
          "output_type": "stream",
          "text": [
            "1\n",
            "2\n",
            "3\n",
            "4\n",
            "5\n",
            "6\n",
            "7\n",
            "8\n",
            "9\n",
            "10\n",
            "11\n",
            "12\n",
            "13\n",
            "14\n",
            "15\n",
            "16\n",
            "17\n",
            "18\n",
            "19\n",
            "20\n"
          ]
        }
      ],
      "source": [
        "### Actual use of while loop\n",
        "# print numbers from 1 to 20\n",
        "\n",
        "i = 1\n",
        "\n",
        "while i<=20:\n",
        "    print(i)\n",
        "\n",
        "    i +=1"
      ]
    },
    {
      "cell_type": "markdown",
      "id": "bd8c6b44",
      "metadata": {
        "id": "bd8c6b44"
      },
      "source": [
        "### 4. loop control statements\n",
        "\n",
        "- use to teminate the loop when encounterd.\n",
        "\n",
        "    - break\n",
        "    - continue\n",
        "    - pass"
      ]
    },
    {
      "cell_type": "markdown",
      "id": "f598a4fd",
      "metadata": {
        "id": "f598a4fd"
      },
      "source": [
        "#### break statement\n",
        "\n",
        "- The break statement exits the loop prematurely."
      ]
    },
    {
      "cell_type": "code",
      "execution_count": null,
      "id": "53fd6550",
      "metadata": {
        "id": "53fd6550",
        "outputId": "420ee15f-d2a2-4636-eaeb-d59e95116587"
      },
      "outputs": [
        {
          "name": "stdout",
          "output_type": "stream",
          "text": [
            "1\n",
            "2\n",
            "3\n",
            "4\n"
          ]
        }
      ],
      "source": [
        "### break control statement\n",
        "\n",
        "i = 1\n",
        "\n",
        "while i <= 10:\n",
        "    if (i==5): # when i becomes 5 then exit this while loop.\n",
        "        break\n",
        "    \n",
        "    print(i)\n",
        "\n",
        "    i += 1\n"
      ]
    },
    {
      "cell_type": "markdown",
      "id": "18015453",
      "metadata": {
        "id": "18015453"
      },
      "source": [
        "#### Continue statement"
      ]
    },
    {
      "cell_type": "code",
      "execution_count": 38,
      "id": "617c311e",
      "metadata": {
        "id": "617c311e",
        "outputId": "93f5c757-1050-4d9b-daa1-511fa1e62c19"
      },
      "outputs": [
        {
          "name": "stdout",
          "output_type": "stream",
          "text": [
            "1\n",
            "2\n",
            "3\n",
            "4\n",
            "6\n",
            "7\n",
            "8\n",
            "9\n",
            "10\n"
          ]
        }
      ],
      "source": [
        "#  The continue statement skips the current iteration and continues with the next.\n",
        "\n",
        "#  skip the pariticular set of line.\n",
        "\n",
        "i = 1\n",
        "\n",
        "while i <= 10:\n",
        "    if i == 5:  # skip only 5\n",
        "        i += 1\n",
        "        continue\n",
        "    print(i)\n",
        "    i += 1"
      ]
    },
    {
      "cell_type": "code",
      "execution_count": null,
      "id": "0c332907",
      "metadata": {
        "id": "0c332907",
        "outputId": "568814b0-7974-493e-f998-4bf086155b4a"
      },
      "outputs": [
        {
          "name": "stdout",
          "output_type": "stream",
          "text": [
            "1\n",
            "3\n",
            "5\n",
            "7\n",
            "9\n",
            "11\n"
          ]
        }
      ],
      "source": [
        "# example of continue statement\n",
        "\n",
        "i = 1\n",
        "\n",
        "while i <= 10:\n",
        "\n",
        "    if i%2 == 0:   # skip all even numbers\n",
        "        i += 1\n",
        "        continue\n",
        "    print(i)\n",
        "    i += 1\n",
        "\n",
        "print(i)\n"
      ]
    },
    {
      "cell_type": "markdown",
      "id": "1c6335b3",
      "metadata": {
        "id": "1c6335b3"
      },
      "source": [
        "#### pass statement"
      ]
    },
    {
      "cell_type": "code",
      "execution_count": 42,
      "id": "70dcbedc",
      "metadata": {
        "id": "70dcbedc",
        "outputId": "9c136ab9-52dc-46b1-e690-21f02d52f1de"
      },
      "outputs": [
        {
          "name": "stdout",
          "output_type": "stream",
          "text": [
            "some useful work\n"
          ]
        }
      ],
      "source": [
        "## pass statement\n",
        "# pass is a null statement. it's does nothing.\n",
        "# - use as placeholder for future code.\n",
        "\n",
        "for el in range(10):\n",
        "    pass\n",
        "\n",
        "  \n",
        "\n",
        "print(\"some useful work\")"
      ]
    },
    {
      "cell_type": "markdown",
      "id": "2frZmnYndaGG",
      "metadata": {
        "id": "2frZmnYndaGG"
      },
      "source": [
        "### 5. Nested Loops\n",
        "- refers to using loop statement inside another loops statements.\n",
        "- loop inside another loops."
      ]
    },
    {
      "cell_type": "code",
      "execution_count": null,
      "id": "30a99d5f",
      "metadata": {},
      "outputs": [],
      "source": [
        "#### Syntax of Nested Loop statements\n",
        "'''\n",
        "for item in sequence:       # outter loop statement\n",
        "\n",
        "  if (condition): \n",
        " \n",
        "    -----------             # body of outter if statment\n",
        "    -----------\n",
        "    \n",
        "    while item <= 100:        # inner loop statement\n",
        "\n",
        "        if (condition):  \n",
        "            -----------\n",
        "            ----------       # body of the inner loop statement\n",
        "    \n",
        "        else:   # inner else\n",
        "            ----------\n",
        "            ----------- # inner else statement\n",
        "\n",
        "else:                         # outter else it posible\n",
        "    \n",
        "    ------body of the outter else statement-----\n",
        "    --------------------------------------------\n",
        "    \n",
        "'''"
      ]
    },
    {
      "cell_type": "code",
      "execution_count": 3,
      "id": "3eedb9d3",
      "metadata": {},
      "outputs": [
        {
          "name": "stdout",
          "output_type": "stream",
          "text": [
            "i: 1 and j: 1\n",
            "i: 1 and j: 2\n",
            "i: 2 and j: 1\n",
            "i: 2 and j: 2\n",
            "i: 3 and j: 1\n",
            "i: 3 and j: 2\n",
            "i: 4 and j: 1\n",
            "i: 4 and j: 2\n"
          ]
        }
      ],
      "source": [
        "# Example of Nested loop\n",
        "\n",
        "for i in range(1,5):\n",
        "    for j in range(1,3): # inner loop\n",
        "        print(f\"i: {i} and j: {j}\")"
      ]
    },
    {
      "cell_type": "markdown",
      "id": "769f9139",
      "metadata": {},
      "source": [
        "### 6. Practical Examples"
      ]
    },
    {
      "cell_type": "markdown",
      "id": "fea77eaa",
      "metadata": {},
      "source": [
        "- 1. calculate the sum of n natural numbers using while and for loops\n",
        "- 0 + 1 + 2 + ...........+ n."
      ]
    },
    {
      "cell_type": "code",
      "execution_count": null,
      "id": "612e5872",
      "metadata": {},
      "outputs": [
        {
          "name": "stdout",
          "output_type": "stream",
          "text": [
            "Sum of First 10 natural number:  55\n"
          ]
        }
      ],
      "source": [
        "# Solve_01: using while loop\n",
        "\n",
        "num = 10  \n",
        "\n",
        "sum = 0\n",
        "\n",
        "counter = 1 # (initialization value)\n",
        "\n",
        "while counter <= num:\n",
        "    sum = sum + counter # sum = 6 (1st iteration)\n",
        "\n",
        "    counter += 1\n",
        "\n",
        "print(\"Sum of First 10 natural number: \", sum)\n"
      ]
    },
    {
      "cell_type": "code",
      "execution_count": 4,
      "id": "787e004d",
      "metadata": {},
      "outputs": [
        {
          "name": "stdout",
          "output_type": "stream",
          "text": [
            "Sum of First 10 natural number:  55\n"
          ]
        }
      ],
      "source": [
        "# Solve_01: using for loop\n",
        "\n",
        "sum = 0\n",
        "\n",
        "for i in range(1,11):\n",
        "    sum += i\n",
        "\n",
        "print(\"Sum of First 10 natural number: \", sum)"
      ]
    },
    {
      "cell_type": "markdown",
      "id": "8eba75a6",
      "metadata": {},
      "source": [
        "- 2. Write a python program to display prime numbers bewteen 1 to 100.\n",
        "\n",
        "hint:\n",
        "- A prime number greater than 1.\n",
        "- it's must be divisible only by 1 and itself."
      ]
    },
    {
      "cell_type": "code",
      "execution_count": 7,
      "id": "1d8cece1",
      "metadata": {},
      "outputs": [
        {
          "name": "stdout",
          "output_type": "stream",
          "text": [
            "2\n",
            "3\n",
            "5\n",
            "7\n",
            "11\n",
            "13\n",
            "17\n",
            "19\n",
            "23\n",
            "29\n",
            "31\n",
            "37\n",
            "41\n",
            "43\n",
            "47\n",
            "53\n",
            "59\n",
            "61\n",
            "67\n",
            "71\n",
            "73\n",
            "79\n",
            "83\n",
            "89\n",
            "97\n"
          ]
        }
      ],
      "source": [
        "# sovle_02:\n",
        "\n",
        "for num in range(1, 101):\n",
        "\n",
        "    if num > 1:\n",
        "        for i in range(2,num):\n",
        "\n",
        "            if num % i == 0:\n",
        "                break\n",
        "        \n",
        "        else:\n",
        "            print(num)\n"
      ]
    }
  ],
  "metadata": {
    "colab": {
      "provenance": []
    },
    "kernelspec": {
      "display_name": "venv",
      "language": "python",
      "name": "python3"
    },
    "language_info": {
      "codemirror_mode": {
        "name": "ipython",
        "version": 3
      },
      "file_extension": ".py",
      "mimetype": "text/x-python",
      "name": "python",
      "nbconvert_exporter": "python",
      "pygments_lexer": "ipython3",
      "version": "3.12.11"
    }
  },
  "nbformat": 4,
  "nbformat_minor": 5
}
