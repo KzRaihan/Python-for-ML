{
 "cells": [
  {
   "cell_type": "markdown",
   "id": "5c9d6924",
   "metadata": {},
   "source": [
    "### Topic: Python Conditional Statements"
   ]
  },
  {
   "cell_type": "markdown",
   "id": "0d772bba",
   "metadata": {},
   "source": [
    "#### OUTCOMES\n",
    "- 1. Introduction of conditional Statements\n",
    "\n",
    "- 2. if Statement \n",
    "\n",
    "- 3. else Statement\n",
    "\n",
    "- 4. elif Statement\n",
    "\n",
    "- 5. Nested Conditional Statements\n",
    "\n",
    "- 6. Practical Examples\n",
    "\n",
    "- 7. Common Errors and Best Practices."
   ]
  },
  {
   "cell_type": "markdown",
   "id": "19a862b9",
   "metadata": {},
   "source": [
    "#### 1. Introduction of Conditional Statemtns\n",
    "\n",
    "- Controlling the flow of execution in a program.\n",
    "\n",
    "- Use conditional statements to make decisions in our code."
   ]
  },
  {
   "cell_type": "markdown",
   "id": "a2bdb919",
   "metadata": {},
   "source": [
    "#### 2. if cds statements\n",
    "- Evaluation a Condition Execuates a block of code within it if the condition is true."
   ]
  },
  {
   "cell_type": "code",
   "execution_count": null,
   "id": "e3a4de21",
   "metadata": {},
   "outputs": [],
   "source": [
    "#  Syntax of if-else Cds:\n",
    "\n",
    "\"\"\"\n",
    "if condition:\n",
    "    block of code to execute if cds true\n",
    "\n",
    "else:\n",
    "    block of code to execute if cds is false.\n",
    "\n",
    "\"\"\""
   ]
  },
  {
   "cell_type": "markdown",
   "id": "15817f4e",
   "metadata": {},
   "source": [
    "#### Type of condition \n",
    "- 1. single value\n",
    "- 2. comparision value"
   ]
  },
  {
   "cell_type": "code",
   "execution_count": null,
   "id": "d88c74d0",
   "metadata": {},
   "outputs": [
    {
     "name": "stdout",
     "output_type": "stream",
     "text": [
      "This is true block of code\n"
     ]
    }
   ],
   "source": [
    "# Example-01: if conditional statement with single value\n",
    "\n",
    "###  Any Non-Zero is True for the condition.\n",
    "# Except 'Zero' and 'False' all other values are considered as True. \n",
    "\n",
    "var = 10\n",
    "\n",
    "if var:  # var = 10 . so the cds is true\n",
    "    print(\"This is true condition\")"
   ]
  },
  {
   "cell_type": "markdown",
   "id": "43ac6e93",
   "metadata": {},
   "source": [
    "### 3. else Statements\n",
    "- The else statement executes a block of code if the cds in the if is False."
   ]
  },
  {
   "cell_type": "code",
   "execution_count": null,
   "id": "b2b7f88c",
   "metadata": {},
   "outputs": [
    {
     "name": "stdout",
     "output_type": "stream",
     "text": [
      "Hi, Kz\n"
     ]
    }
   ],
   "source": [
    "## when the cds false \n",
    "\n",
    "var = 0\n",
    "\n",
    "if var:   # var = 0 . so the cds is false\n",
    "    print(\"Hello, Kz\")\n",
    "\n",
    "else:\n",
    "    print(\"Hi, Kz\")\n",
    "\n"
   ]
  },
  {
   "cell_type": "code",
   "execution_count": 5,
   "id": "60419db0",
   "metadata": {},
   "outputs": [
    {
     "name": "stdout",
     "output_type": "stream",
     "text": [
      "Your age is eligible for voting.\n"
     ]
    }
   ],
   "source": [
    "# Example_02: if-else Conditional statement with comparison value\n",
    "\n",
    "age = 24\n",
    "\n",
    "if age >=18:\n",
    "    print(\"Your age is eligible for voting.\")\n",
    "    \n",
    "else:\n",
    "    print(\"Your are minor.\")\n"
   ]
  },
  {
   "cell_type": "markdown",
   "id": "801441d2",
   "metadata": {},
   "source": [
    "### 4. elif Statement\n",
    "- Allows to Check multiple conditions \n",
    "- elif stands for else if."
   ]
  },
  {
   "cell_type": "code",
   "execution_count": 7,
   "id": "9fc640a8",
   "metadata": {},
   "outputs": [
    {
     "name": "stdout",
     "output_type": "stream",
     "text": [
      "You are a teenager\n"
     ]
    }
   ],
   "source": [
    "# Example_01: if-elif-else Conditional statement with comparison value.\n",
    "\n",
    "age = 17\n",
    "\n",
    "if age < 13:\n",
    "    print(\"You are a child\")\n",
    "    \n",
    "elif age < 18:\n",
    "    print(\"You are a teenager\")\n",
    "    \n",
    "else:\n",
    "    print(\"You are an adult\")"
   ]
  },
  {
   "cell_type": "markdown",
   "id": "c5bae780",
   "metadata": {},
   "source": [
    "### Note : At the same time only one statement (if or elif or else) in run but not simultaneouly.\n",
    "\n",
    "- When if statement condition is true then only execute if statement body. never go to the elif, else statements.\n",
    "\n",
    "- when if statment condition is false then go to the elif statement and execute it. never to go the else statememt (when elif is present)\n",
    "\n",
    "- At last go to else statement when both (if, elif) is false."
   ]
  },
  {
   "cell_type": "markdown",
   "id": "00d0797d",
   "metadata": {},
   "source": [
    "### 5. Nested Conditional Statements\n",
    "\n",
    "- refers to using conditional statements inside another condition statements."
   ]
  },
  {
   "cell_type": "code",
   "execution_count": null,
   "id": "91c284f1",
   "metadata": {},
   "outputs": [],
   "source": [
    "#### Syntax of Nested Conditional statements\n",
    "'''\n",
    " if (condition): # outter if statement\n",
    " \n",
    "    -----------   # body of outter if statment\n",
    "    -----------\n",
    "\n",
    "    if (condition)  # inner if statement\n",
    "        -----------\n",
    "        ----------- # body of the inner if statement\n",
    "    \n",
    "    else:   # inner else\n",
    "        -----------\n",
    "        ----------- # inner else statement\n",
    "\n",
    "else: # outter else \n",
    "    ------body of the outter else statement-----\n",
    "    --------------------------------------------\n",
    "    \n",
    "'''"
   ]
  },
  {
   "cell_type": "code",
   "execution_count": null,
   "id": "a20f7f92",
   "metadata": {},
   "outputs": [
    {
     "name": "stdout",
     "output_type": "stream",
     "text": [
      "-1210 is a negative number\n"
     ]
    }
   ],
   "source": [
    "# Example of Nested Conditional Statements\n",
    "\n",
    "# check the given numbers is even or odd or negative.\n",
    "\n",
    "num = int(input(\"Enter a number: \"))\n",
    "\n",
    "if num > 0:\n",
    "    print(num, \"is a positive number\")\n",
    "    \n",
    "    if num % 2 == 0:\n",
    "        print(num, \"is an even number\")\n",
    "        \n",
    "    else:\n",
    "        print(num, \"is an odd number\")\n",
    "        \n",
    "else:\n",
    "    print(num, \"is a negative number\")\n",
    "\n",
    "\n",
    "# Note: A prime number is a natural number greater than 1 that has exactly two distinct positive divisors(1 and itself)."
   ]
  },
  {
   "cell_type": "code",
   "execution_count": 35,
   "id": "4041a9c9",
   "metadata": {},
   "outputs": [
    {
     "name": "stdout",
     "output_type": "stream",
     "text": [
      "2020 is a leap year\n"
     ]
    }
   ],
   "source": [
    "### 6. Practical Examples\n",
    "# Determine if a year is a leap year using nested conditional statement\n",
    "\n",
    "# if a year is divisible by 4\n",
    "# and not divisible by 100, then it is a leap year\n",
    "# if a year is divisible by 400, then it is a leap year\n",
    "\n",
    "year = int(input(\"Enter a year: \"))\n",
    "\n",
    "if year % 4 == 0:  \n",
    "    if year % 100 == 0:  \n",
    "        if year % 400 == 0:  \n",
    "            print(year, \"is a leap year\")  \n",
    "        else:  \n",
    "            print(year, \"is not a leap year\")  \n",
    "    else:  \n",
    "        print(year, \"is a leap year\")  \n",
    "else:  \n",
    "    print(year, \"is not a leap year\")\n"
   ]
  },
  {
   "cell_type": "markdown",
   "id": "373369e0",
   "metadata": {},
   "source": [
    "7. Common Errors and Best Practices."
   ]
  },
  {
   "cell_type": "code",
   "execution_count": 7,
   "id": "39d124d6",
   "metadata": {},
   "outputs": [
    {
     "name": "stdout",
     "output_type": "stream",
     "text": [
      "Cannot divide by zero\n"
     ]
    }
   ],
   "source": [
    "# Create a simple calculator using conditional statements\n",
    "\n",
    "num1 = float(input(\"Enter First number: \"))\n",
    "num2 = float(input(\"Enter Second number: \"))\n",
    "operator = input(\"Enter your operator (+, -, *, /): \")\n",
    "\n",
    "# Initialize result as None\n",
    "result = None\n",
    "\n",
    "if operator == '+':\n",
    "    result = num1 + num2\n",
    "\n",
    "elif operator == '-':\n",
    "    result = num1 - num2\n",
    "\n",
    "elif operator == '*':\n",
    "    result = num1 * num2\n",
    "\n",
    "elif operator == '/':\n",
    "    if num2 != 0:\n",
    "        result = num1 / num2\n",
    "    else:\n",
    "        print(\"Cannot divide by zero\")\n",
    "\n",
    "else:\n",
    "    print(\"Invalid operator\")\n",
    "\n",
    "# Only print result if it's calculated\n",
    "if result is not None:\n",
    "    print(f\"{num1} {operator} {num2} = {result}\")\n",
    " "
   ]
  },
  {
   "cell_type": "code",
   "execution_count": null,
   "id": "241aaa29",
   "metadata": {},
   "outputs": [
    {
     "name": "stdout",
     "output_type": "stream",
     "text": [
      "Ticket Price :  $18\n"
     ]
    }
   ],
   "source": [
    "# Determine the ticket price based on age and whether the person is a student. \n",
    "\n",
    "# Ticket pricing based on age and student status.\n",
    "\n",
    "age = int(input(\"Enter you age: \"))\n",
    "\n",
    "is_student = input(\"Are you student? Yes/No\").lower()\n",
    "\n",
    "\n",
    "if age < 5:\n",
    "    price = \"$0\"\n",
    "\n",
    "elif age < 17:\n",
    "    if is_student == 'yes':\n",
    "        price = \"$10\"\n",
    "    else:\n",
    "        price = \"$12\"\n",
    "elif age <=25:\n",
    "    if is_student == \"yes\":\n",
    "        price = \"$18\"\n",
    "    else:\n",
    "        price = \"$20\"\n",
    "\n",
    "elif age <= 40:\n",
    "    if is_student == 'yes':\n",
    "        price = \"$22\"\n",
    "    else:\n",
    "        price = \"$24\"\n",
    "else:\n",
    "    price = \"$30\"\n",
    "\n",
    "\n",
    "print(\"Ticket Price : \", price)\n",
    "\n"
   ]
  }
 ],
 "metadata": {
  "kernelspec": {
   "display_name": "venv",
   "language": "python",
   "name": "python3"
  },
  "language_info": {
   "codemirror_mode": {
    "name": "ipython",
    "version": 3
   },
   "file_extension": ".py",
   "mimetype": "text/x-python",
   "name": "python",
   "nbconvert_exporter": "python",
   "pygments_lexer": "ipython3",
   "version": "3.12.11"
  }
 },
 "nbformat": 4,
 "nbformat_minor": 5
}
