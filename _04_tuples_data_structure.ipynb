{
 "cells": [
  {
   "cell_type": "markdown",
   "id": "4b5acde3",
   "metadata": {},
   "source": [
    "### Tuples in Python"
   ]
  },
  {
   "cell_type": "markdown",
   "id": "08134905",
   "metadata": {},
   "source": [
    "### OUTCOMES\n",
    "\n",
    "- 1. Introduction to Tuples.\n",
    "\n",
    "- 2. Creatign Tuples\n",
    "\n",
    "- 3. Accessing tuples elements\n",
    "\n",
    "- 4. Immutable Nature of Tuples.\n",
    "\n",
    "- 5. Tuples Operations.\n",
    "\n",
    "- 6. Tuples Methods.\n",
    "\n",
    "- 7. Packing and Unpacking Tuples.\n",
    "\n",
    "- 8. Nested Tuples\n",
    "\n",
    "- 9. Practical Examples and Common Errors."
   ]
  },
  {
   "cell_type": "markdown",
   "id": "1bcb8890",
   "metadata": {},
   "source": [
    "###  1. Introduction to Tuples.\n",
    "\n",
    "- Tuples are ordered collection of items that are immutable."
   ]
  },
  {
   "cell_type": "markdown",
   "id": "c4eb92b6",
   "metadata": {},
   "source": [
    "### 2. Creatign Tuples"
   ]
  },
  {
   "cell_type": "code",
   "execution_count": null,
   "id": "a8eabfc2",
   "metadata": {},
   "outputs": [],
   "source": [
    "# Syntax of Tuples\n",
    "\n",
    "''' \n",
    "tuple_name = (element1, element2,....)      # parentheses \n",
    "\n",
    "\n",
    "'''"
   ]
  },
  {
   "cell_type": "code",
   "execution_count": null,
   "id": "84f32915",
   "metadata": {},
   "outputs": [
    {
     "name": "stdout",
     "output_type": "stream",
     "text": [
      "()\n",
      "<class 'tuple'>\n"
     ]
    }
   ],
   "source": [
    "# Create Empty or Null Tuples\n",
    "\n",
    "# Example_01:  first way to create empty tuples\n",
    "empty_tpl = ()  \n",
    "\n",
    "print(empty_tpl)\n",
    "\n",
    "print(type(empty_tpl))"
   ]
  },
  {
   "cell_type": "code",
   "execution_count": null,
   "id": "282c2ac8",
   "metadata": {},
   "outputs": [
    {
     "name": "stdout",
     "output_type": "stream",
     "text": [
      "()\n",
      "<class 'tuple'>\n"
     ]
    }
   ],
   "source": [
    "# Example_02: second way to create empty or null tuples\n",
    "\n",
    "null_tpl = tuple()\n",
    "\n",
    "print(null_tpl)\n",
    "\n",
    "print(type(null_tpl))"
   ]
  },
  {
   "cell_type": "code",
   "execution_count": null,
   "id": "bfbf66f0",
   "metadata": {},
   "outputs": [
    {
     "name": "stdout",
     "output_type": "stream",
     "text": [
      "(10, 20, 30, 40, 50, 60, 70, 80, 90, 100)\n",
      "<class 'tuple'>\n"
     ]
    }
   ],
   "source": [
    "# Example_03: Creating tuple of same data types elements\n",
    "nums = (10,20, 30, 40, 50, 60, 70, 80, 90, 100)\n",
    "\n",
    "print(nums)\n",
    "\n",
    "print(type(nums))"
   ]
  },
  {
   "cell_type": "code",
   "execution_count": 6,
   "id": "fea31b96",
   "metadata": {},
   "outputs": [
    {
     "name": "stdout",
     "output_type": "stream",
     "text": [
      "('Kz', 24, 99.99, 'Python', [10, 20, 30], ('Raihan', 3.1416, 50), {'name': 'KzRaihan', 'age': 25}, True)\n",
      "<class 'tuple'>\n"
     ]
    }
   ],
   "source": [
    "# Example_04: Creating tuple difference data types elements\n",
    "\n",
    "\n",
    "mixed_tpl = (\"Kz\", 24, 99.99, \"Python\",[10, 20, 30], (\"Raihan\", 3.1416, 50), {\"name\": \"KzRaihan\", \"age\": 25}, True )\n",
    "\n",
    "print(mixed_tpl)\n",
    "\n",
    "print(type(mixed_tpl))"
   ]
  },
  {
   "cell_type": "markdown",
   "id": "dae7c0ab",
   "metadata": {},
   "source": [
    "### 3. Accessing tuples elements"
   ]
  },
  {
   "cell_type": "code",
   "execution_count": null,
   "id": "7b5bbeca",
   "metadata": {},
   "outputs": [
    {
     "name": "stdout",
     "output_type": "stream",
     "text": [
      "Kz\n",
      "CSE\n"
     ]
    }
   ],
   "source": [
    "# Example_01: Accessing tuples elements using indexing\n",
    "\n",
    "tpl = (\"Kz\", 24, 3.14,True, \"CSE\")\n",
    "\n",
    "# Access Tuple elements by indexing\n",
    "\n",
    "first_element = tpl[0]  # positive idxing\n",
    "lst_element = tpl[-1]   # Negative idxing\n",
    "\n",
    "print(first_element)\n",
    "\n",
    "print(lst_element)\n",
    "\n"
   ]
  },
  {
   "cell_type": "code",
   "execution_count": null,
   "id": "26849cc1",
   "metadata": {},
   "outputs": [],
   "source": [
    "''' \n",
    "\n",
    "--------------------------------------\n",
    " 0   |   1 |    2  |    3  |    4  |    # Positive idx\n",
    "-------------------------------------\n",
    "(\"Kz\" , 24  , 3.14  , True,  \"CSE\")     # tuple elements\n",
    "--------------------------------------\n",
    "-5   |   -4 |    -3  |   -2  |   -1  |    # Negative idx\n",
    "--------------------------------------\n",
    "\n",
    "\n",
    "'''\n"
   ]
  },
  {
   "cell_type": "code",
   "execution_count": null,
   "id": "7eb15444",
   "metadata": {},
   "outputs": [
    {
     "ename": "IndexError",
     "evalue": "tuple index out of range",
     "output_type": "error",
     "traceback": [
      "\u001b[31m---------------------------------------------------------------------------\u001b[39m",
      "\u001b[31mIndexError\u001b[39m                                Traceback (most recent call last)",
      "\u001b[36mCell\u001b[39m\u001b[36m \u001b[39m\u001b[32mIn[10]\u001b[39m\u001b[32m, line 1\u001b[39m\n\u001b[32m----> \u001b[39m\u001b[32m1\u001b[39m \u001b[38;5;28mprint\u001b[39m(\u001b[43mtpl\u001b[49m\u001b[43m[\u001b[49m\u001b[32;43m9\u001b[39;49m\u001b[43m]\u001b[49m)\n",
      "\u001b[31mIndexError\u001b[39m: tuple index out of range"
     ]
    }
   ],
   "source": [
    "# if the idx is not valid then it's generated errors(IndexError)\n",
    "print(tpl[9])"
   ]
  },
  {
   "cell_type": "code",
   "execution_count": null,
   "id": "263a0cef",
   "metadata": {},
   "outputs": [
    {
     "name": "stdout",
     "output_type": "stream",
     "text": [
      "('Kz', 24, 3.14, True, 'CSE')\n",
      "('Kz', 24, 3.14, True)\n",
      "(3.14, True)\n",
      "('Kz', 24, 3.14, True, 'CSE')\n",
      "('Kz', 24, 3.14, True)\n"
     ]
    }
   ],
   "source": [
    "# Example_02: Accessing tuples elements using Slcing.\n",
    "# slicing -> Accessing a part of tuple\n",
    "\n",
    "print(tpl)\n",
    "\n",
    "print(tpl[0:4])\n",
    "\n",
    "print(tpl[2:4])\n",
    "\n",
    "print(tpl[:])\n",
    "\n",
    "print(tpl[:-1]) # note : here, start = 0 idx , end = -1 (before -1 idx) or -1 is exclusive, and step = 1 (positive)"
   ]
  },
  {
   "cell_type": "code",
   "execution_count": null,
   "id": "985aeece",
   "metadata": {},
   "outputs": [
    {
     "name": "stdout",
     "output_type": "stream",
     "text": [
      "('CSE', True, 3.14, 24, 'Kz')\n"
     ]
    }
   ],
   "source": [
    "# More example\n",
    "print(tpl[::-1])  #  Reserve the tuple"
   ]
  },
  {
   "cell_type": "markdown",
   "id": "b3abd176",
   "metadata": {},
   "source": [
    "### 4. Immutable Nature of Tuples.\n"
   ]
  },
  {
   "cell_type": "markdown",
   "id": "dc32867f",
   "metadata": {},
   "source": [
    "- Tuple are immutable, meaning their element can not be changed once assigned."
   ]
  },
  {
   "cell_type": "code",
   "execution_count": null,
   "id": "979db43f",
   "metadata": {},
   "outputs": [
    {
     "name": "stdout",
     "output_type": "stream",
     "text": [
      "[10, 20, 30, 40, 50]\n",
      "10\n",
      "100\n",
      "[100, 20, 30, 40, 50]\n"
     ]
    }
   ],
   "source": [
    "# Example_01: mutable nature of list\n",
    "\n",
    "lst = [10, 20, 30, 40, 50]\n",
    "\n",
    "print(lst)\n",
    "# access\n",
    "print(lst[0])  \n",
    "\n",
    "# change \n",
    "lst[0] = 100\n",
    "\n",
    "print(lst[0])\n",
    "\n",
    "print(lst)"
   ]
  },
  {
   "cell_type": "code",
   "execution_count": 24,
   "id": "006cee57",
   "metadata": {},
   "outputs": [
    {
     "name": "stdout",
     "output_type": "stream",
     "text": [
      "('Kz', 10, 20, 30, 'python', 'tuple')\n",
      "Kz\n"
     ]
    },
    {
     "ename": "TypeError",
     "evalue": "'tuple' object does not support item assignment",
     "output_type": "error",
     "traceback": [
      "\u001b[31m---------------------------------------------------------------------------\u001b[39m",
      "\u001b[31mTypeError\u001b[39m                                 Traceback (most recent call last)",
      "\u001b[36mCell\u001b[39m\u001b[36m \u001b[39m\u001b[32mIn[24]\u001b[39m\u001b[32m, line 10\u001b[39m\n\u001b[32m      7\u001b[39m \u001b[38;5;28mprint\u001b[39m(nums[\u001b[32m0\u001b[39m])\n\u001b[32m      9\u001b[39m \u001b[38;5;66;03m# if we try to modify. it can't modify\u001b[39;00m\n\u001b[32m---> \u001b[39m\u001b[32m10\u001b[39m \u001b[43mnums\u001b[49m\u001b[43m[\u001b[49m\u001b[32;43m0\u001b[39;49m\u001b[43m]\u001b[49m = \u001b[33m\"\u001b[39m\u001b[33mRaihan\u001b[39m\u001b[33m\"\u001b[39m\n\u001b[32m     12\u001b[39m \u001b[38;5;28mprint\u001b[39m(nums[\u001b[32m0\u001b[39m])\n\u001b[32m     14\u001b[39m \u001b[38;5;28mprint\u001b[39m(nums)\n",
      "\u001b[31mTypeError\u001b[39m: 'tuple' object does not support item assignment"
     ]
    }
   ],
   "source": [
    "# Example_02: Immutable Nature of Tuples.\n",
    "nums = (\"Kz\", 10, 20, 30, \"python\", \"tuple\")\n",
    "\n",
    "print(nums)\n",
    "\n",
    "# access\n",
    "print(nums[0])\n",
    "\n",
    "# if we try to modify. it can't modify\n",
    "nums[0] = \"Raihan\"\n",
    "\n",
    "print(nums[0])\n",
    "\n",
    "print(nums)"
   ]
  },
  {
   "cell_type": "code",
   "execution_count": 28,
   "id": "0f1f0a72",
   "metadata": {},
   "outputs": [
    {
     "name": "stdout",
     "output_type": "stream",
     "text": [
      "['Kz', 10, 20, 30, 'python', 'tuple']\n",
      "<class 'list'>\n",
      "['Raihan', 10, 20, 3.1416, 'python', 'tuple']\n",
      "('Raihan', 10, 20, 3.1416, 'python', 'tuple')\n"
     ]
    }
   ],
   "source": [
    "# if we want to change tuple element \n",
    "\n",
    "# step_01: first convert tuple into list.\n",
    "# step_02: modify the list elements.\n",
    "# step_03: again convert list to tuple.\n",
    "\n",
    "nums = (\"Kz\", 10, 20, 30, \"python\", \"tuple\")\n",
    "\n",
    "# step_01: first convert tuple into list.\n",
    "\n",
    "lst = list(nums)\n",
    "print(lst)\n",
    "print(type(lst))\n",
    "\n",
    "# step_02: modify the list elements.\n",
    "lst[0] = \"Raihan\"\n",
    "lst[3] = 3.1416\n",
    "\n",
    "print(lst)\n",
    "\n",
    "# step_03: again convert list to tuple.\n",
    "\n",
    "nums = tuple(lst)\n",
    "\n",
    "print(nums)\n",
    "\n",
    "# "
   ]
  },
  {
   "cell_type": "markdown",
   "id": "60f61641",
   "metadata": {},
   "source": [
    "### 5. Tuples Operations."
   ]
  },
  {
   "cell_type": "code",
   "execution_count": null,
   "id": "c21e33b3",
   "metadata": {},
   "outputs": [
    {
     "name": "stdout",
     "output_type": "stream",
     "text": [
      "(1, 2, 3, 4, 5, 5, 6, 7, 8, 9)\n",
      "(1, 2, 3, 4, 5, 5, 6, 7, 8, 9, 1, 2, 3, 4, 5)\n"
     ]
    }
   ],
   "source": [
    "# Example_01: Tuple concatenation operation\n",
    "\n",
    "# concatenation: combine two or more tuples.\n",
    "\n",
    "num1 = (1,2,3,4,5)\n",
    "\n",
    "num2 = (5,6,7,8,9)\n",
    "\n",
    "# concatenation opration\n",
    "num3 = num1 + num2\n",
    "print(num3)\n",
    "\n",
    "# again concatenation\n",
    "print(num3 + num1)"
   ]
  },
  {
   "cell_type": "code",
   "execution_count": null,
   "id": "7a7d86ac",
   "metadata": {},
   "outputs": [
    {
     "name": "stdout",
     "output_type": "stream",
     "text": [
      "(1, 2, 3, 4, 5)\n",
      "(1, 2, 3, 4, 5, 1, 2, 3, 4, 5)\n",
      "(1, 2, 3, 4, 5, 1, 2, 3, 4, 5, 1, 2, 3, 4, 5)\n",
      "(1, 2, 3, 4, 5)\n",
      "(1, 2, 3, 4, 5, 1, 2, 3, 4, 5, 1, 2, 3, 4, 5, 1, 2, 3, 4, 5)\n"
     ]
    }
   ],
   "source": [
    "# Example_02: Tuple repetition operation\n",
    "\n",
    "print(num1)\n",
    "\n",
    "print(num1 * 2)  # two times repetition\n",
    "\n",
    "print(num1 * 3)\n",
    "\n",
    "print(num1)  # main num1 is not change\n",
    "\n",
    "# if we want to change\n",
    "\n",
    "num1 = num1 * 4\n",
    "\n",
    "print(num1)"
   ]
  },
  {
   "cell_type": "markdown",
   "id": "e74cb300",
   "metadata": {},
   "source": [
    "### 6. Tuples Methods."
   ]
  },
  {
   "cell_type": "code",
   "execution_count": 41,
   "id": "7b22c3de",
   "metadata": {},
   "outputs": [
    {
     "name": "stdout",
     "output_type": "stream",
     "text": [
      "(1, 2, 3, 4, 5, 1, 2, 3, 4, 5, 1, 2, 3, 4, 5, 1, 2, 3, 4, 5)\n",
      "4\n",
      "5\n",
      "1\n"
     ]
    }
   ],
   "source": [
    "# Example_01: tpl.index(element)\n",
    "# return the idx of first occurence\n",
    "\n",
    "print(num1)\n",
    "\n",
    "idx_of_5 = num1.index(5)\n",
    "print(idx_of_5)  # return the idx of 5 first occurence.\n",
    "\n",
    "print(num1[idx_of_5]) # access the element.\n",
    "\n",
    "print(num1.index(2)) "
   ]
  },
  {
   "cell_type": "code",
   "execution_count": 44,
   "id": "98d636bf",
   "metadata": {},
   "outputs": [
    {
     "name": "stdout",
     "output_type": "stream",
     "text": [
      "(1, 2, 3, 4, 5, 1, 2, 3, 4, 5, 1, 2, 3, 4, 5, 1, 2, 3, 4, 5)\n",
      "4\n",
      "4\n"
     ]
    }
   ],
   "source": [
    "# Example_02: tpl.count(element)\n",
    "# return how many times elment are present inside the tuple.(count total occurrences)\n",
    "\n",
    "print(num1)\n",
    "\n",
    "element_1_total = num1.count(1)\n",
    "\n",
    "print(element_1_total)\n",
    "\n",
    "print(num1.count(5))"
   ]
  },
  {
   "cell_type": "markdown",
   "id": "4fa9b142",
   "metadata": {},
   "source": [
    "### 7. Packing and Unpacking Tuples."
   ]
  },
  {
   "cell_type": "code",
   "execution_count": null,
   "id": "4f8e74d5",
   "metadata": {},
   "outputs": [
    {
     "name": "stdout",
     "output_type": "stream",
     "text": [
      "<class 'int'>\n",
      "<class 'tuple'>\n"
     ]
    }
   ],
   "source": [
    "# Example_01: single element store in tuple\n",
    "\n",
    "var = (1)  # what is the type of num?\n",
    "\n",
    "# solve\n",
    "print(type(var))\n",
    "\n",
    "# so in this num = (1) way that is not tuple initialization.\n",
    "\n",
    "# only one (single) value for tuple initialization.\n",
    "\n",
    "num = (1,) # it's a tuple\n",
    "\n",
    "print(type(num))\n",
    "\n"
   ]
  },
  {
   "cell_type": "code",
   "execution_count": 49,
   "id": "12749dc5",
   "metadata": {},
   "outputs": [
    {
     "name": "stdout",
     "output_type": "stream",
     "text": [
      "('Kz', 24, 3.14, 'python')\n",
      "<class 'tuple'>\n"
     ]
    }
   ],
   "source": [
    "# Example_02: Packing of tuples\n",
    "# don’t need to specify parentheses always, Python automatically packs values into a tuple.\n",
    "\n",
    "pack_tpl = \"Kz\", 24, 3.14, \"python\"  # tuple combine this values in a tuple.\n",
    "\n",
    "print(pack_tpl)\n",
    "\n",
    "print(type(pack_tpl))"
   ]
  },
  {
   "cell_type": "code",
   "execution_count": null,
   "id": "65b3f479",
   "metadata": {},
   "outputs": [
    {
     "name": "stdout",
     "output_type": "stream",
     "text": [
      "Name:  Kz\n",
      "age :  24\n",
      "PI value:  3.14\n",
      "subject:  python\n",
      "<class 'str'>\n"
     ]
    }
   ],
   "source": [
    "# Example_03: Unpacking of tuples\n",
    "# Splitting a tuple into individual variables.\n",
    "\n",
    "\n",
    "name, age, pi, subject = pack_tpl\n",
    "\n",
    "print(\"Name: \", name)\n",
    "print(\"age : \", age)\n",
    "\n",
    "print(\"PI value: \", pi)\n",
    "print(\"subject: \", subject)\n",
    "\n",
    "print(type(name))\n",
    "\n",
    "# Note: The number of variables on the left must match the number of elements in the tuple."
   ]
  },
  {
   "cell_type": "code",
   "execution_count": null,
   "id": "d705109d",
   "metadata": {},
   "outputs": [
    {
     "name": "stdout",
     "output_type": "stream",
     "text": [
      "('Raihan', 25, 'Bangladesh', 'CSE')\n"
     ]
    },
    {
     "ename": "ValueError",
     "evalue": "too many values to unpack (expected 3)",
     "output_type": "error",
     "traceback": [
      "\u001b[31m---------------------------------------------------------------------------\u001b[39m",
      "\u001b[31mValueError\u001b[39m                                Traceback (most recent call last)",
      "\u001b[36mCell\u001b[39m\u001b[36m \u001b[39m\u001b[32mIn[53]\u001b[39m\u001b[32m, line 9\u001b[39m\n\u001b[32m      6\u001b[39m \u001b[38;5;28mprint\u001b[39m(student_info)\n\u001b[32m      8\u001b[39m \u001b[38;5;66;03m# unpacking\u001b[39;00m\n\u001b[32m----> \u001b[39m\u001b[32m9\u001b[39m name, age, country = student_info\n\u001b[32m     10\u001b[39m \u001b[38;5;28mprint\u001b[39m(name)\n",
      "\u001b[31mValueError\u001b[39m: too many values to unpack (expected 3)"
     ]
    }
   ],
   "source": [
    "# Example_04:Packing and Unpacking of tuple when the number are not same\n",
    "\n",
    "# packing\n",
    "student_info = \"Raihan\", 25, \"Bangladesh\", \"CSE\"\n",
    "\n",
    "print(student_info)\n",
    "\n",
    "# unpacking\n",
    "name, age, country = student_info   # here, the number of variable is not equal to the student_info tuples element\n",
    "\n",
    "print(name) \n"
   ]
  },
  {
   "cell_type": "code",
   "execution_count": 56,
   "id": "40cf82c1",
   "metadata": {},
   "outputs": [
    {
     "name": "stdout",
     "output_type": "stream",
     "text": [
      "10 20\n",
      "20 10\n"
     ]
    }
   ],
   "source": [
    "# Example_05 : Packing and Unpacking of tuple swap two number\n",
    "\n",
    "num1, num2 = 10, 20\n",
    "\n",
    "print(num1, num2)\n",
    "\n",
    "num1, num2 = num2, num1\n",
    "\n",
    "print(num1 , num2)"
   ]
  },
  {
   "cell_type": "markdown",
   "id": "9f7efc6b",
   "metadata": {},
   "source": [
    "### 8. Nested Tuples"
   ]
  },
  {
   "cell_type": "code",
   "execution_count": null,
   "id": "466febaf",
   "metadata": {},
   "outputs": [
    {
     "name": "stdout",
     "output_type": "stream",
     "text": [
      "((10, 20, 30), ('Kz', 'Rai', 'KzRaiahn'), (True, False))\n"
     ]
    }
   ],
   "source": [
    "# Tuple inside tuples in called nested tuple\n",
    "\n",
    "nested_tpl = ((10,20,30), (\"Kz\", \"Rai\", \"KzRaiahn\"), (True, False))\n",
    "\n",
    "print(nested_tpl)\n"
   ]
  },
  {
   "cell_type": "code",
   "execution_count": null,
   "id": "2a8bfafa",
   "metadata": {},
   "outputs": [],
   "source": [
    "''' \n",
    "--------------------------------------------------------\n",
    "   0           |         1               |       2\n",
    "--------------------------------------------------------\n",
    "((10,20,30),    (\"Kz\", \"Rai\", \"KzRaiahn\"), (True, False))\n",
    "--------------------------------------------------------\n",
    " 0,0 | 0,1 | 0,2| 1.0  | 1.1  |  1.2    |   2.0  | 2.1 |\n",
    " --------------------------------------------------------\n",
    "\n",
    "'''"
   ]
  },
  {
   "cell_type": "code",
   "execution_count": 60,
   "id": "e40bfc3a",
   "metadata": {},
   "outputs": [
    {
     "name": "stdout",
     "output_type": "stream",
     "text": [
      "(10, 20, 30)\n",
      "('Kz', 'Rai', 'KzRaiahn')\n"
     ]
    }
   ],
   "source": [
    "# Access the nested tuple\n",
    "\n",
    "print(nested_tpl[0])\n",
    "\n",
    "print(nested_tpl[1])"
   ]
  },
  {
   "cell_type": "code",
   "execution_count": 63,
   "id": "0b0b6ec7",
   "metadata": {},
   "outputs": [
    {
     "name": "stdout",
     "output_type": "stream",
     "text": [
      "10\n",
      "KzRaiahn\n",
      "True\n"
     ]
    }
   ],
   "source": [
    "# Access nested elements\n",
    "\n",
    "print(nested_tpl[0][0])  # 10\n",
    "print(nested_tpl[1][2])  # KzRaihan\n",
    "print(nested_tpl[2][0])  # True"
   ]
  },
  {
   "cell_type": "code",
   "execution_count": 65,
   "id": "8c610700",
   "metadata": {},
   "outputs": [
    {
     "name": "stdout",
     "output_type": "stream",
     "text": [
      "(10, 20, 30)\n",
      "('KzRaiahn', 'Rai', 'Kz')\n"
     ]
    }
   ],
   "source": [
    "# access nested all element\n",
    "print(nested_tpl[0][:])  # print the 0 idx all elements\n",
    "\n",
    "print(nested_tpl[1][::-1])"
   ]
  },
  {
   "cell_type": "markdown",
   "id": "69d78bdf",
   "metadata": {},
   "source": [
    "### 9. Iteration over tuples and Practical Examples"
   ]
  },
  {
   "cell_type": "code",
   "execution_count": 68,
   "id": "6dd49953",
   "metadata": {},
   "outputs": [
    {
     "name": "stdout",
     "output_type": "stream",
     "text": [
      "((10, 20, 30), ('Kz', 'Rai', 'KzRaiahn'), (True, False))\n",
      "10 20 30 \n",
      "Kz Rai KzRaiahn \n",
      "True False \n"
     ]
    }
   ],
   "source": [
    "# Example_01: Iteration over tuples\n",
    "print(nested_tpl)\n",
    "\n",
    "for sub_tpl in nested_tpl:\n",
    "    for item in sub_tpl:\n",
    "        print(item, end = \" \")\n",
    "\n",
    "    print()"
   ]
  },
  {
   "cell_type": "code",
   "execution_count": 77,
   "id": "db410b6a",
   "metadata": {},
   "outputs": [
    {
     "name": "stdout",
     "output_type": "stream",
     "text": [
      "(10, 20, 30)\n",
      "10 20 30 \n",
      "\n",
      "\n"
     ]
    }
   ],
   "source": [
    "# Example_02: Iteration over tuples only print 0 idx elements in tuple\n",
    "\n",
    "print(nested_tpl[0])\n",
    "\n",
    "lst1 = (10,20,30)\n",
    "\n",
    "for sub_tpl in nested_tpl:\n",
    "    for item in sub_tpl:\n",
    "        if item in lst1:\n",
    "            print(item, end = \" \")\n",
    "        else:\n",
    "            continue\n",
    "      \n",
    "    print()"
   ]
  },
  {
   "cell_type": "code",
   "execution_count": 79,
   "id": "0794b152",
   "metadata": {},
   "outputs": [
    {
     "name": "stdout",
     "output_type": "stream",
     "text": [
      "Total zero in the tuple : 3\n"
     ]
    }
   ],
   "source": [
    "### WAP to count the numbers of zeros in the following tuple\n",
    "# (7,0,5,0,3,0,4,9)\n",
    "\n",
    "tpl = (7,0,5,0,3,0,4,9)\n",
    "\n",
    "count_total_zero = tpl.count(0)\n",
    "\n",
    "print(f\"Total zero in the tuple : {count_total_zero}\")"
   ]
  },
  {
   "cell_type": "code",
   "execution_count": 81,
   "id": "beaeebad",
   "metadata": {},
   "outputs": [
    {
     "name": "stdout",
     "output_type": "stream",
     "text": [
      "Total zero: 3\n"
     ]
    }
   ],
   "source": [
    "# another way to iteration over tuple\n",
    "count_zero = 0\n",
    "\n",
    "for item in tpl:\n",
    "    if item == 0:\n",
    "        count_zero += 1\n",
    "    else:\n",
    "        continue\n",
    "print(f\"Total zero: {count_zero}\")\n"
   ]
  },
  {
   "cell_type": "markdown",
   "id": "7edd8537",
   "metadata": {},
   "source": [
    "#### Conclusion of Tuple:\n",
    "\n",
    "- Tuples are versatile and useful in many real-world secnarios where an immutable and ordered collection of items is required. They are commanly used in date structue, function argument and return values and as dictionary keys.\n",
    "\n",
    "- Understanding how to leverage tuples effectively can imporove the efficiency and readability of our python code."
   ]
  }
 ],
 "metadata": {
  "kernelspec": {
   "display_name": "venv",
   "language": "python",
   "name": "python3"
  },
  "language_info": {
   "codemirror_mode": {
    "name": "ipython",
    "version": 3
   },
   "file_extension": ".py",
   "mimetype": "text/x-python",
   "name": "python",
   "nbconvert_exporter": "python",
   "pygments_lexer": "ipython3",
   "version": "3.12.11"
  }
 },
 "nbformat": 4,
 "nbformat_minor": 5
}
