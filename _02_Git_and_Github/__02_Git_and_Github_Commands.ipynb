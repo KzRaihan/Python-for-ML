{
 "cells": [
  {
   "cell_type": "markdown",
   "id": "5e63510f",
   "metadata": {},
   "source": [
    "                           ### Topics: Git and Github \n",
    "                               --------------------------\n",
    "Git :\n",
    "\n",
    " #### Git is a Open Source software that allows to track the history of the directory/file and collaborate with others.\n",
    "\n",
    " - 1. Download the git \n",
    "    - steps_01: Go to any Browser and search - download git for windows then according to os download\n",
    "                - Download for windows\n",
    "                - click here to donwnload the latest version of git for windows\n",
    "\n",
    "- 2. Install the git: \n",
    "    - in general way to install the git. Thicken the additional icons only three changes(rest of setting as it is)\n",
    "           \n",
    "            - Additional icons(Thick).\n",
    "            - override the default branch name for new repositoies(thick this icnon).\n",
    "            - Use git and optional unix tools from the Command prompt(Thick this icon).\n",
    "\n",
    "-  3. After install git to check go to git-base or terminal and run\n",
    "            - git --version\n",
    "              - If the answer shows git \"version 2.50.1.windows.1\", then it is successfully installed.\n",
    "\n",
    "- To configure Git:\n",
    " \n",
    "   - Go to bash/terminal\n",
    "        - git config --global user.email \"kamruzzamanraihan00@gmail.com\" \n",
    "        \n",
    "        - git config --global user.name \"KzRaihan\" \n",
    "                    \n",
    "     Note: Here, the email address and name match those in the created GitHub account.\n",
    "  \n",
    "  - To check configured:\n",
    "      - git config --list\n",
    "    \n",
    "                    \n",
    "                   "
   ]
  },
  {
   "cell_type": "markdown",
   "id": "24c55dfd",
   "metadata": {},
   "source": [
    "- 4. Git Architecture:\n",
    "   --------------------\n",
    "\n",
    "1. Working Directory --------> git add ....................-> 2. Staging Area \n",
    "                                                                   .\n",
    "                                                                   .\n",
    "                                                                   .\n",
    "                                                                   .\n",
    "                                                                   v\n",
    "                                                               git commit\n",
    "                                                                   .\n",
    "                                                                   .\n",
    "                                                                   .\n",
    "                                                                   .\n",
    "                                                                   v\n",
    "4. Remote repo <............ git push......................<..3. Local repository   "
   ]
  },
  {
   "cell_type": "markdown",
   "id": "c8df401f",
   "metadata": {},
   "source": [
    "Github: \n",
    "#### Github is a web-based hosting service for git repositories.\n",
    "- website that allows developers to store and manage their code using git.\n",
    "- Create an Account on Github."
   ]
  },
  {
   "cell_type": "markdown",
   "id": "ddfd1036",
   "metadata": {},
   "source": [
    "### Some Commands for Connection from Working to remote repository\n"
   ]
  },
  {
   "cell_type": "markdown",
   "id": "26197cb8",
   "metadata": {},
   "source": [
    "### Step_01[add]: For commands from the Working Directory to the staging area(Working to Staging).\n",
    "\n",
    "\n",
    "  - Commands                        |   Purpose\n",
    "  ---------------------------------------------------------------------------------------------\n",
    "  - 1. git add -- all or git add -A | For all directory/file go to staging area.\n",
    "  \n",
    "  - 2. git add .                    | go to all directory/file staging area in the current\n",
    "                                      directory.\n",
    "\n",
    "  - 3. git add *                    | All files are moved to the staging area except the\n",
    "                                      deleted file.\n",
    "\n",
    "  - 4. git add one.py               | only one.py file is move to the staging area.\n",
    "\n",
    "  - 5. git add *.py                 | All py files are move to the staging area.             \n",
    "\n",
    "  - 6. git reset                    | return working repo(staging to working directory)."
   ]
  },
  {
   "cell_type": "markdown",
   "id": "286929c5",
   "metadata": {},
   "source": [
    "### Step_02[Commit]: For commands from the Staging area to Local repo.(Staging to Local repo).\n",
    "  \n",
    "  - Commands                          |   Purpose\n",
    "  ---------------------------------------------------------------------------------------------\n",
    "  - 1. git commit -m \"Commit Message\" |  move directory/files to Local repo.s\n",
    "  \n",
    "  - 2. git add .                    | go to all directory/file staging area in the current\n",
    "                                      directory\n",
    "  - 3. git reset                    | return working repo(staging to working directory)\n",
    "                "
   ]
  },
  {
   "cell_type": "markdown",
   "id": "c36036f9",
   "metadata": {},
   "source": [
    "### Step_03[Push]: For commands from the local repo  to Remote.(local repo to Remote).\n",
    "\n",
    "  - 1. git push origin main (main is the branch name).\n",
    "\n",
    "  - 2. git checkout development  (to switch the development branch).\n",
    "\n",
    "  - 3. git push origin development  (here, development branch files are move to remote)."
   ]
  },
  {
   "cell_type": "markdown",
   "id": "19220aea",
   "metadata": {},
   "source": [
    "### More Additional Commands \n",
    "\n",
    "- 1. Branch Concepts and related commands.\n",
    "     \n",
    "      -------\n",
    "      -------\n",
    "      -------\n",
    "\n",
    "\n",
    "- 2. Merge concepts and related commands.\n",
    "     ---------\n",
    "     --------\n",
    "     --------\n",
    "\n",
    "- 3. git ignore concepts and related commands.\n",
    "     ---------\n",
    "     --------\n",
    "     --------"
   ]
  },
  {
   "cell_type": "markdown",
   "id": "b86e9c1c",
   "metadata": {},
   "source": []
  }
 ],
 "metadata": {
  "kernelspec": {
   "display_name": "venv",
   "language": "python",
   "name": "python3"
  },
  "language_info": {
   "name": "python",
   "version": "3.12.11"
  }
 },
 "nbformat": 4,
 "nbformat_minor": 5
}
