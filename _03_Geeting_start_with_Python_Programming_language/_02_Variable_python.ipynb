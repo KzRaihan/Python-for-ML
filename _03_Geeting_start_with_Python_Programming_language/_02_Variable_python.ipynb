{
 "cells": [
  {
   "cell_type": "markdown",
   "id": "9aa0f8b8",
   "metadata": {},
   "source": [
    "### Topic: Python Variable "
   ]
  },
  {
   "cell_type": "markdown",
   "id": "e07a4454",
   "metadata": {},
   "source": [
    "OUTCOME OF THE VARIABLE\n",
    "\n",
    "1. What is Variable and Introduction to Variable\n",
    "\n",
    "2. Declaring and Assigning Variables\n",
    "\n",
    "3. Object Identity\n",
    "\n",
    "4. Rules of Variable Declare \n",
    "\n",
    "5. Type Checking and Conversion\n",
    "\n",
    "6. Naming conventions\n",
    "\n",
    "7. Understanding Variable type and Type Checking \n",
    "\n",
    "8. Dynamic Typing (input form user)\n",
    "\n",
    "9. Output and Formatting\n",
    "10. Practical Example "
   ]
  },
  {
   "cell_type": "markdown",
   "id": "3da235bd",
   "metadata": {},
   "source": [
    "#### 1. What is Variable and Introduction to Variable"
   ]
  },
  {
   "cell_type": "markdown",
   "id": "c33eb200",
   "metadata": {},
   "source": [
    "##### Definition of Variable:\n",
    "A variable is name given to a memory location in a program.\n",
    "or A Variable is a container that store the data.\n",
    "\n",
    "\n",
    "##### Introduction \n",
    "- Variable are used to store data that can referenced and manipulated in a program.\n",
    "- Variable name should be simple, short and meaningful or (Descriptive).\n",
    "- Variable names case-sensitive.\n"
   ]
  },
  {
   "cell_type": "markdown",
   "id": "3aee8440",
   "metadata": {},
   "source": [
    "#### 2. Declaring and Assigning Variables"
   ]
  },
  {
   "cell_type": "code",
   "execution_count": 2,
   "id": "d5ba34cc",
   "metadata": {},
   "outputs": [
    {
     "name": "stdout",
     "output_type": "stream",
     "text": [
      "Kz\n",
      "24\n",
      "5.6\n",
      "True\n"
     ]
    }
   ],
   "source": [
    "# syntax -> variable name = variable value\n",
    "\n",
    "# Declare with Assign value\n",
    "name = \"Kz\"   # here, name is variable name and Kz is variable value\n",
    "age = 24\n",
    "height = 5.6\n",
    "is_student = True\n",
    "\n",
    "# printing variable value\n",
    "print(name)\n",
    "print(age)\n",
    "print(height)\n",
    "print(is_student)\n"
   ]
  },
  {
   "cell_type": "markdown",
   "id": "ff94693b",
   "metadata": {},
   "source": [
    "#### 3. Object Identity"
   ]
  },
  {
   "cell_type": "code",
   "execution_count": null,
   "id": "2a5fcb88",
   "metadata": {},
   "outputs": [
    {
     "name": "stdout",
     "output_type": "stream",
     "text": [
      "140709775895256\n",
      "140709775895576\n",
      "140709775895256\n"
     ]
    }
   ],
   "source": [
    "# object identity is a unique and constant identifier assigned to each object when it is created.\n",
    "# * Python Store Data in memory to optimize way.\n",
    "\n",
    "num1 = 10   # for num1 variable is created a memory location\n",
    "num2 = 20\n",
    "num3 = 10   # for num3 variable is not created a memory location. It only references the same memory location as num1.\n",
    "\n",
    "print(id(num1))\n",
    "print(id(num2))\n",
    "print(id(num3)) # here, num1 and num3 are reference to the same memory location.\n"
   ]
  },
  {
   "cell_type": "markdown",
   "id": "d65500f3",
   "metadata": {},
   "source": [
    "#### 4. Rules of Variable Declare "
   ]
  },
  {
   "cell_type": "markdown",
   "id": "961a18f8",
   "metadata": {},
   "source": [
    "##### Rule \n",
    "- 01: A variable name can only contain alpha-numeric characters(A-Z, a-z, 0-9) and underscores(_).\n",
    "\n",
    "- 02 : Variable must start with character is alphabet (letter) or Underscore(_) || can't start with a number or digit (0-9).\n",
    "\n",
    "- 03 : Variable name can't be same of data type name or can't be reserved keyword(if, else, for, while, etc).\n",
    "\n",
    "- 04 : can't use special symbol || No blank space.\n",
    "\n",
    "- 05 : Variable are case sensitive. \n",
    "\n",
    "- 06 : Identifier can be at most 255 characters long."
   ]
  },
  {
   "cell_type": "code",
   "execution_count": 6,
   "id": "8fc89af4",
   "metadata": {},
   "outputs": [
    {
     "name": "stdout",
     "output_type": "stream",
     "text": [
      "First name: Kz\n",
      "Last name: Raihan\n",
      "Ra\n",
      "kz\n",
      "KR\n",
      "False\n"
     ]
    }
   ],
   "source": [
    "# Valid Variable \n",
    "\n",
    "# 01: A variable name can only contain alpha-numeric characters(A-Z, a-z, 0-9) and underscores(_).\n",
    "first_name = \"Kz\"\n",
    "last__name = \"Raihan\"\n",
    "\n",
    "print(\"First name:\", first_name)\n",
    "print(\"Last name:\", last__name)\n",
    "\n",
    "\n",
    "# 05 : Variable are case sensitive. \n",
    "Name = \"kz\"\n",
    "name = \"Ra\"  # these are the different variable\n",
    "NAME = \"KR\"\n",
    "\n",
    "print(name)\n",
    "print(Name)\n",
    "print(NAME)\n",
    "\n",
    "print(Name == name) # False (means Name and name are different variables)\n"
   ]
  },
  {
   "cell_type": "code",
   "execution_count": null,
   "id": "c16825ae",
   "metadata": {},
   "outputs": [
    {
     "ename": "SyntaxError",
     "evalue": "invalid decimal literal (2811641386.py, line 4)",
     "output_type": "error",
     "traceback": [
      "  \u001b[36mCell\u001b[39m\u001b[36m \u001b[39m\u001b[32mIn[7]\u001b[39m\u001b[32m, line 4\u001b[39m\n\u001b[31m    \u001b[39m\u001b[31m1st_name = \"Kz\" # Error\u001b[39m\n    ^\n\u001b[31mSyntaxError\u001b[39m\u001b[31m:\u001b[39m invalid decimal literal\n"
     ]
    }
   ],
   "source": [
    "# Invalid Variable\n",
    "\n",
    "# 02 : A variable name cannot start with a number.\n",
    "1st_name = \"Kz\" # Error\n",
    "\n",
    "\n",
    "#  03 : Variable name can't be same of data type name or can't be reserved keyword(if, else, for, while, etc).\n",
    "int = 20 # invalid variable\n",
    "if = \"Kz\" # Error for can't be reserved keyword\n",
    "\n",
    "\n",
    "# 04 : can't use special symbol || No blank space.\n",
    "@name = \"Kz\" # can't start with @\n",
    "kz&Ra = 88,33 # can't contain & in between\n",
    "$name = \"Kz\" # Error for can't start with $\n",
    "first name = \"Kz\" # Error for can't contain space\n",
    "last,name = \"Rz\" # Error for can't contain comma\n",
    "\n",
    "\n"
   ]
  },
  {
   "cell_type": "code",
   "execution_count": 5,
   "id": "60ea58b2",
   "metadata": {},
   "outputs": [
    {
     "name": "stdout",
     "output_type": "stream",
     "text": [
      "Rz\n",
      "100\n"
     ]
    }
   ],
   "source": [
    "# multiple variable declaration in one line\n",
    "name, age = \"Rz\", 100\n",
    "print(name)\n",
    "print(age)"
   ]
  },
  {
   "cell_type": "markdown",
   "id": "92fe0af4",
   "metadata": {},
   "source": [
    "### 5. Understanding Variable type and Type Checking \n",
    "\n",
    "  - Python is dynamically type (type of a variable is determinate at runtime)."
   ]
  },
  {
   "cell_type": "code",
   "execution_count": 12,
   "id": "e24efde0",
   "metadata": {},
   "outputs": [
    {
     "name": "stdout",
     "output_type": "stream",
     "text": [
      "24 <class 'int'>\n",
      "5.6 <class 'float'>\n",
      "John <class 'str'>\n",
      "True <class 'bool'>\n"
     ]
    }
   ],
   "source": [
    "# Common Type of Variable\n",
    "\n",
    "# integer\n",
    "age = 24\n",
    "print(age, type(age))\n",
    "\n",
    "# float\n",
    "height = 5.6\n",
    "print(height, type(height))\n",
    "\n",
    "# string\n",
    "name = \"John\"\n",
    "print(name, type(name))\n",
    "\n",
    "# boolean\n",
    "is_student = True\n",
    "print(is_student, type(is_student))\n"
   ]
  },
  {
   "cell_type": "markdown",
   "id": "82890fb5",
   "metadata": {},
   "source": [
    "#### 6. Naming conventions\n",
    "\n",
    "##### Different ways to create multi-word variable names in Python \n",
    "- Commonly use:\n",
    "    - 1. snake_case Variable (most use) \n",
    "    - 2. camelCase  Variable \n",
    "    - 3. PascalCase variable"
   ]
  },
  {
   "cell_type": "code",
   "execution_count": 9,
   "id": "988821ca",
   "metadata": {},
   "outputs": [
    {
     "name": "stdout",
     "output_type": "stream",
     "text": [
      "My name :  Kz\n",
      "Language :  Python\n",
      "Book\n",
      "500\n",
      "White\n",
      "1050.5\n"
     ]
    }
   ],
   "source": [
    "# Example of Naming Conventions\n",
    "\n",
    "# 1. snake_case\n",
    "my_name = \"Kz\"\n",
    "language_01 = \"Python\"\n",
    "\n",
    "# 2. camelCase\n",
    "myVariable = \"Book\"\n",
    "fixedPrice = 500\n",
    "\n",
    "# 3. PascalCase\n",
    "MyFVColor = \"White\"\n",
    "TotalPrice = 1050.50\n",
    "\n",
    "\n",
    "# printing the variable value\n",
    "print(\"My name : \", my_name)\n",
    "print(\"Language : \", language_01)\n",
    "print( myVariable)\n",
    "print(fixedPrice)\n",
    "print(MyFVColor)\n",
    "print(TotalPrice)"
   ]
  },
  {
   "cell_type": "markdown",
   "id": "b0eb6c4b",
   "metadata": {},
   "source": [
    "#### 7. Conversion(Type casting)\n",
    "- To converting a variable from one data type to another.\n",
    "\n",
    "- There are two common type conversion use\n",
    "    - 1. Implicit Type conversion(Automatic) :\n",
    "      -  Python automatically converts one data type to another.(smaller type(int) convert to bigger type(float)).\n",
    "\n",
    "    - 2. Explicit Type Conversion (Manual)\n",
    "        - User can only convert  Manually in code.\n",
    "            \n",
    "\n",
    "- syntax: \n",
    "  - target data type(source variable name)"
   ]
  },
  {
   "cell_type": "code",
   "execution_count": null,
   "id": "ee11882b",
   "metadata": {},
   "outputs": [
    {
     "name": "stdout",
     "output_type": "stream",
     "text": [
      "30.11\n",
      "24 <class 'int'>\n",
      "24 <class 'str'>\n",
      "5.6 <class 'float'>\n",
      "5 <class 'int'>\n",
      "100.0 <class 'float'>\n"
     ]
    }
   ],
   "source": [
    "# 1. Implicit Type conversion(Automatic) \n",
    "\n",
    "num1 = 10.11\n",
    "num2 = 20\n",
    "\n",
    "print(num1 + num2)   # output or result will be float automatically.\n",
    "\n",
    "# 2. Explicit Type Conversion (Manual or by user)\n",
    "age = 24\n",
    "print(age, type(age))\n",
    "\n",
    "str_age = str(age)    # here, int data type is converted to str data type\n",
    "print(str_age, type(str_age))\n",
    "\n",
    "# convert float to int\n",
    "height = 5.6\n",
    "print(height, type(height))\n",
    "\n",
    "int_height = int(height)\n",
    "print(int_height, type(int_height))\n",
    "\n",
    "# convert float to int then again float\n",
    "\n",
    "price = 100.58\n",
    "\n",
    "fix_price = float(int(price))\n",
    "print(fix_price, type(fix_price))\n",
    "\n",
    "\n",
    "### Note : String can't be converted to int or float if it contains non-numeric characters.\n"
   ]
  },
  {
   "cell_type": "markdown",
   "id": "739ac0aa",
   "metadata": {},
   "source": [
    "#### 8. Dynamic Typing (input form user)\n",
    "  \n",
    "  - Python allows the type of variable to change as the program executes."
   ]
  },
  {
   "cell_type": "code",
   "execution_count": 14,
   "id": "e7d83dee",
   "metadata": {},
   "outputs": [
    {
     "name": "stdout",
     "output_type": "stream",
     "text": [
      "Kz <class 'str'>\n",
      "50 <class 'int'>\n",
      "88.88 <class 'float'>\n",
      "True <class 'bool'>\n"
     ]
    }
   ],
   "source": [
    "# Dynamic Typing\n",
    "var = \"Kz\" \n",
    "print(var, type(var)) \n",
    "\n",
    "var = 50     # var type is int(detect in runtime)\n",
    "print(var, type(var))\n",
    "\n",
    "var = 88.88  # var type is float\n",
    "print(var, type(var))\n",
    "\n",
    "var = True   # var type is bool\n",
    "print(var, type(var))\n"
   ]
  },
  {
   "cell_type": "code",
   "execution_count": 17,
   "id": "8ce4f434",
   "metadata": {},
   "outputs": [
    {
     "name": "stdout",
     "output_type": "stream",
     "text": [
      "23 <class 'str'>\n"
     ]
    }
   ],
   "source": [
    "# input from user (default input type is str)\n",
    "age = input(\"Enter your age : \")\n",
    "print(age, type(age))\n",
    "\n"
   ]
  },
  {
   "cell_type": "code",
   "execution_count": 18,
   "id": "438bdc52",
   "metadata": {},
   "outputs": [
    {
     "name": "stdout",
     "output_type": "stream",
     "text": [
      "23 <class 'int'>\n"
     ]
    }
   ],
   "source": [
    "# input from user and explicit type conversion into int\n",
    "age = int(input(\"Enter age: \"))\n",
    "print(age, type(age))"
   ]
  },
  {
   "cell_type": "markdown",
   "id": "0be664b9",
   "metadata": {},
   "source": [
    "### 9. Output and Formatting"
   ]
  },
  {
   "cell_type": "code",
   "execution_count": null,
   "id": "5d20a4c5",
   "metadata": {},
   "outputs": [
    {
     "name": "stdout",
     "output_type": "stream",
     "text": [
      "My name :  Kz Raihan\n",
      "The number are :  10 20\n",
      "Python Java\n"
     ]
    }
   ],
   "source": [
    "# process_01: in general \n",
    "\n",
    "name = \"Kz Raihan\"\n",
    "print(\"My name : \", name)\n",
    "\n",
    "# another way separate by comma\n",
    "num1 = 10\n",
    "num2 = 20\n",
    "\n",
    "print(\"The number are : \", num1, num2)\n",
    "\n",
    "# another way : show the output in single line using two print() function\n",
    "language_01 = \"Python\"\n",
    "language_02 = \"Java\"\n",
    "\n",
    "print(language_01, end = \" \")  # end = \" \" means print in single line\n",
    "print(language_02)   # Python Java\n",
    "\n"
   ]
  },
  {
   "cell_type": "code",
   "execution_count": 28,
   "id": "c3beaf22",
   "metadata": {},
   "outputs": [
    {
     "name": "stdout",
     "output_type": "stream",
     "text": [
      "First name is Kz and last name is Raihan\n"
     ]
    }
   ],
   "source": [
    "# Process_02: use  f-string (most use)\n",
    "first_name = \"Kz\"\n",
    "last_name = \"Raihan\"\n",
    "\n",
    "print(f\"First name is {first_name} and last name is {last_name}\")\n"
   ]
  },
  {
   "cell_type": "code",
   "execution_count": 25,
   "id": "d4657760",
   "metadata": {},
   "outputs": [
    {
     "name": "stdout",
     "output_type": "stream",
     "text": [
      "Country one is Bangladesh and country two is Malaysia\n",
      "Country one is Malaysia and country two is Bangladesh\n",
      "Country one is Bangladesh and country two is Malaysia\n"
     ]
    }
   ],
   "source": [
    "# process_03: .format() function\n",
    "\n",
    "country_1 = \"Bangladesh\"\n",
    "country_2 = \"Malaysia\"\n",
    "\n",
    "# .format()\n",
    "print(\"Country one is {} and country two is {}\".format(country_1, country_2)) # country_1 reference to the first {} and country_2 reference to the second {}\n",
    "\n",
    "\n",
    "print(\"Country one is {1} and country two is {0}\".format(country_1, country_2)) # here we exchange the position of country_1 and country_2\n",
    "\n",
    "\n",
    "print(\"Country one is {c1} and country two is {c2}\".format(c1 = country_1,c2 = country_2)) # country_1 reference to the first {} and country_2 reference to the second {}"
   ]
  },
  {
   "cell_type": "markdown",
   "id": "f0e6e677",
   "metadata": {},
   "source": [
    "### 10. Practical Example \n",
    "  - Create a simple calculates that input two values form user and perform sum, difference, product, division"
   ]
  },
  {
   "cell_type": "code",
   "execution_count": 31,
   "id": "72d3a3e2",
   "metadata": {},
   "outputs": [
    {
     "name": "stdout",
     "output_type": "stream",
     "text": [
      "Sum 60.0 + 30.0 = 90.0\n",
      "Difference 60.0 - 30.0 = 30.0\n",
      "Multiplication 60.0 * 30.0 =  1800.0\n",
      "Division 60.0 / 30.0 =  2.0\n"
     ]
    }
   ],
   "source": [
    "num1 = float(input(\"Enter first number: \"))\n",
    "num2 = float(input(\"Enter second number: \"))\n",
    "\n",
    "sum = num1 + num2\n",
    "diff = num1 - num2\n",
    "mul = num1 * num2\n",
    "div = num1 / num2\n",
    "\n",
    "print(\"Sum {} + {} = {}\".format(num1, num2, sum))\n",
    "print(\"Difference {} - {} = {}\".format(num1, num2, diff))\n",
    "print(f\"Multiplication {num1} * {num2} = \", mul)\n",
    "print(f\"Division {num1} / {num2} = \", div)  "
   ]
  }
 ],
 "metadata": {
  "kernelspec": {
   "display_name": "venv",
   "language": "python",
   "name": "python3"
  },
  "language_info": {
   "codemirror_mode": {
    "name": "ipython",
    "version": 3
   },
   "file_extension": ".py",
   "mimetype": "text/x-python",
   "name": "python",
   "nbconvert_exporter": "python",
   "pygments_lexer": "ipython3",
   "version": "3.12.11"
  }
 },
 "nbformat": 4,
 "nbformat_minor": 5
}
