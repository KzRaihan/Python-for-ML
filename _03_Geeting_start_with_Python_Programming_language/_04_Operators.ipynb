{
 "cells": [
  {
   "cell_type": "markdown",
   "id": "4ebbfe57",
   "metadata": {},
   "source": [
    "### OUTCOMES OF THE OPERATORS\n",
    "\n",
    "  - 1. Introduction of Operators\n",
    "  \n",
    "  - 2. Arithmetic Operators\n",
    "  \n",
    "  - 3. Comparison Operators\n",
    "  \n",
    "  - 4. Logical Operators\n",
    "  \n",
    "  - 5. bitwise Operators\n",
    "  \n",
    "  - 6. Assignment Operators\n",
    "  \n",
    "  - 7. Membership Operators\n",
    "\n",
    "  - 8. Identity Operators\n",
    "  \n",
    "  - 9. Practical Examples"
   ]
  },
  {
   "cell_type": "markdown",
   "id": "c9ce8e9b",
   "metadata": {},
   "source": [
    "### 1. Introduction of Operators\n",
    "-  Represent any action between operand\n",
    "\n",
    "    - operand operator operand\n",
    "\n",
    "    - eg. a + b or 10 - 5 or num1 * num2"
   ]
  },
  {
   "cell_type": "markdown",
   "id": "880f980c",
   "metadata": {},
   "source": [
    "### 2. Arithmetic Operators\n",
    "- Used to perform basic mathematical operations such as \n",
    "  - Addition \n",
    "  - Subtraction\n",
    "  - Multiplication\n",
    "  - Division\n",
    "  - Floor Division\n",
    "  - Modules\n",
    "  - Exponential\n",
    "    "
   ]
  },
  {
   "cell_type": "code",
   "execution_count": 4,
   "id": "70b9e186",
   "metadata": {},
   "outputs": [
    {
     "name": "stdout",
     "output_type": "stream",
     "text": [
      "Addition Result: 80\n"
     ]
    }
   ],
   "source": [
    "# Addition Arithmetic Operator\n",
    "num1 = 50\n",
    "num2 = 30\n",
    "\n",
    "add_result = num1 + num2\n",
    "print(f\"Addition Result: {add_result}\")"
   ]
  },
  {
   "cell_type": "code",
   "execution_count": 5,
   "id": "3a9336b3",
   "metadata": {},
   "outputs": [
    {
     "name": "stdout",
     "output_type": "stream",
     "text": [
      "Subtraction Result: 20\n"
     ]
    }
   ],
   "source": [
    "# Subtraction Arithmetic Operator\n",
    "num1 = 50\n",
    "num2 = 30\n",
    "\n",
    "sub_result = num1 - num2\n",
    "print(f\"Subtraction Result: {sub_result}\")"
   ]
  },
  {
   "cell_type": "code",
   "execution_count": 3,
   "id": "595053b3",
   "metadata": {},
   "outputs": [
    {
     "name": "stdout",
     "output_type": "stream",
     "text": [
      "Multiplication Result: 15\n"
     ]
    }
   ],
   "source": [
    "# Multiplication Arithmetic Operator\n",
    "num1 = 5\n",
    "num2 = 3\n",
    "\n",
    "mul_result = num1 * num2\n",
    "print(f\"Multiplication Result: {mul_result}\")\n"
   ]
  },
  {
   "cell_type": "code",
   "execution_count": 8,
   "id": "15615261",
   "metadata": {},
   "outputs": [
    {
     "name": "stdout",
     "output_type": "stream",
     "text": [
      "Division Result: 1.67\n"
     ]
    }
   ],
   "source": [
    "# Division Arithmetic Operator\n",
    "num1 = 50\n",
    "num2 = 30\n",
    "\n",
    "div_result = num1 / num2\n",
    "print(f\"Division Result: {div_result:.2f}\")\n"
   ]
  },
  {
   "cell_type": "code",
   "execution_count": 1,
   "id": "3c9f4f3c",
   "metadata": {},
   "outputs": [
    {
     "name": "stdout",
     "output_type": "stream",
     "text": [
      "Floor Division Result: 1\n"
     ]
    }
   ],
   "source": [
    "# Floor Division Arithmetic Operator\n",
    "# The floor value of  1.6  is 1.(down value counting)\n",
    "num1 = 5\n",
    "num2 = 3\n",
    "\n",
    "floor_div_result = num1 // num2\n",
    "print(f\"Floor Division Result: {floor_div_result}\")\n"
   ]
  },
  {
   "cell_type": "code",
   "execution_count": 2,
   "id": "2724e0a3",
   "metadata": {},
   "outputs": [
    {
     "name": "stdout",
     "output_type": "stream",
     "text": [
      "Modules Result: 2\n"
     ]
    }
   ],
   "source": [
    "# Modules Arithmetic Operator\n",
    "num1 = 5\n",
    "num2 = 3\n",
    "\n",
    "mod_result = num1 % num2\n",
    "print(f\"Modules Result: {mod_result}\")\n"
   ]
  },
  {
   "cell_type": "code",
   "execution_count": null,
   "id": "d8731c94",
   "metadata": {},
   "outputs": [],
   "source": [
    "# Explain the above code\n",
    "\"\"\" \n",
    "\n",
    "num1 = 50\n",
    "num2 = 30\n",
    "\n",
    "- div_result = 30)50(1 <----This is div_result\n",
    "    -            30\n",
    "    -        ---------\n",
    "    -            20 <---- This is mod_result\n",
    "\n",
    "\"\"\""
   ]
  },
  {
   "cell_type": "code",
   "execution_count": 5,
   "id": "616d533d",
   "metadata": {},
   "outputs": [
    {
     "name": "stdout",
     "output_type": "stream",
     "text": [
      "Exponential Result: 125\n"
     ]
    }
   ],
   "source": [
    "# Exponential Arithmetical Operator\n",
    "num1 = 5\n",
    "num2 = 3\n",
    "\n",
    "exp_result = num1 ** num2\n",
    "print(f\"Exponential Result: {exp_result}\")\n"
   ]
  },
  {
   "cell_type": "markdown",
   "id": "26323bc4",
   "metadata": {},
   "source": [
    "### 3. Comparison Operators\n",
    "- Comparison operators are used to compare two values.\n",
    "- Provide a boolean value\n",
    "\n",
    "\n",
    "#### Why Use Comparison Operators?\n",
    "\n",
    "- To make decisions in a program.\n",
    "\n",
    "- They are mostly used with conditional statements (if, elif, while)."
   ]
  },
  {
   "cell_type": "markdown",
   "id": "fae6999c",
   "metadata": {},
   "source": [
    "### Type of Comparison Operator\n",
    "  - Equal to (==)\n",
    "  - Not Equal to( != )\n",
    "  - Greater than(>)\n",
    "  - Greater than or equal(>=)\n",
    "  - Less than(<)\n",
    "  - Less than or equal(<=)"
   ]
  },
  {
   "cell_type": "code",
   "execution_count": 15,
   "id": "ee4bc2e6",
   "metadata": {},
   "outputs": [
    {
     "name": "stdout",
     "output_type": "stream",
     "text": [
      "Is Equal: True\n"
     ]
    }
   ],
   "source": [
    "# Equal to(==) Comparison Operator\n",
    "num1 = 5\n",
    "num2 = 5\n",
    "\n",
    "is_equal = num1 == num2\n",
    "print(f\"Is Equal: {is_equal}\")\n"
   ]
  },
  {
   "cell_type": "code",
   "execution_count": 16,
   "id": "3b3f8f68",
   "metadata": {},
   "outputs": [
    {
     "name": "stdout",
     "output_type": "stream",
     "text": [
      "Is Not Equal: True\n"
     ]
    }
   ],
   "source": [
    "# Not Equal to( != ) Comparison Operator\n",
    "num1 = 5\n",
    "num2 = 10\n",
    "\n",
    "is_not_equal = num1 != num2\n",
    "print(f\"Is Not Equal: {is_not_equal}\")\n"
   ]
  },
  {
   "cell_type": "code",
   "execution_count": 18,
   "id": "86ae000f",
   "metadata": {},
   "outputs": [
    {
     "name": "stdout",
     "output_type": "stream",
     "text": [
      "Is Greater: True\n"
     ]
    }
   ],
   "source": [
    "# Greater than(>) Comparison Operator\n",
    "num1 = 20\n",
    "num2 = 10\n",
    "\n",
    "is_greater = num1 > num2\n",
    "print(f\"Is Greater: {is_greater}\")\n"
   ]
  },
  {
   "cell_type": "code",
   "execution_count": 19,
   "id": "d4882e51",
   "metadata": {},
   "outputs": [
    {
     "name": "stdout",
     "output_type": "stream",
     "text": [
      "Is Greater or Equal: True\n"
     ]
    }
   ],
   "source": [
    "# Greater than or equal(>=) Comparison Operator\n",
    "num1 = 18\n",
    "num2 = 18\n",
    "\n",
    "is_greater_equal = num1 >= num2\n",
    "print(f\"Is Greater or Equal: {is_greater_equal}\")\n"
   ]
  },
  {
   "cell_type": "code",
   "execution_count": 20,
   "id": "96651055",
   "metadata": {},
   "outputs": [
    {
     "name": "stdout",
     "output_type": "stream",
     "text": [
      "Is Less: False\n"
     ]
    }
   ],
   "source": [
    "# Less than(<) Comparision Operator\n",
    "num1 = 50\n",
    "num2 = 10\n",
    "\n",
    "is_less = num1 < num2\n",
    "print(f\"Is Less: {is_less}\")\n"
   ]
  },
  {
   "cell_type": "code",
   "execution_count": 21,
   "id": "9243a8d7",
   "metadata": {},
   "outputs": [
    {
     "name": "stdout",
     "output_type": "stream",
     "text": [
      "Is Less or Equal: True\n"
     ]
    }
   ],
   "source": [
    "# Less than or equal(<=) Comparison Operator\n",
    "num1 = 10\n",
    "num2 = 20\n",
    "\n",
    "is_less_equal = num1 <= num2\n",
    "print(f\"Is Less or Equal: {is_less_equal}\")\n"
   ]
  },
  {
   "cell_type": "markdown",
   "id": "7ccbfd68",
   "metadata": {},
   "source": [
    "### 4. Logical Operators\n",
    "- Logical operator, used in conditions.\n",
    "- Return a Boolean value(True, False)"
   ]
  },
  {
   "cell_type": "markdown",
   "id": "b68e075f",
   "metadata": {},
   "source": [
    "#### Type of the Logical Operator\n",
    "- AND\n",
    "- OR\n",
    "- NOT"
   ]
  },
  {
   "cell_type": "code",
   "execution_count": null,
   "id": "9aef4036",
   "metadata": {},
   "outputs": [
    {
     "name": "stdout",
     "output_type": "stream",
     "text": [
      "Is True: False\n"
     ]
    }
   ],
   "source": [
    "# AND Logical Operator\n",
    "# Check if both conditions are True then output is True Otherwise False.\n",
    "num1 = 10\n",
    "num2 = 20\n",
    "num3 = 30\n",
    "\n",
    "is_true = (num1 < num2) and (num2 > num3)\n",
    "\n",
    "print(f\"Is True: {is_true}\")\n"
   ]
  },
  {
   "cell_type": "code",
   "execution_count": null,
   "id": "74cebc29",
   "metadata": {},
   "outputs": [
    {
     "name": "stdout",
     "output_type": "stream",
     "text": [
      "20\n"
     ]
    }
   ],
   "source": [
    "print(num1 and num2)  # here, the condition is True and return the last number(which is 20)."
   ]
  },
  {
   "cell_type": "code",
   "execution_count": 23,
   "id": "9b77d613",
   "metadata": {},
   "outputs": [
    {
     "name": "stdout",
     "output_type": "stream",
     "text": [
      "Is True: True\n"
     ]
    }
   ],
   "source": [
    "# OR Logical Operator\n",
    "# Check if at least one condition is True then output is True Otherwise False.\n",
    "num1 = 10\n",
    "num2 = 20\n",
    "num3 = 30\n",
    "\n",
    "is_true = (num1 < num2) or (num2 > num3)\n",
    "\n",
    "print(f\"Is True: {is_true}\")\n"
   ]
  },
  {
   "cell_type": "code",
   "execution_count": null,
   "id": "755de16a",
   "metadata": {},
   "outputs": [
    {
     "name": "stdout",
     "output_type": "stream",
     "text": [
      "Is True: False\n"
     ]
    }
   ],
   "source": [
    "# NOT Logical Operator\n",
    "# Check if the condition is False then output is True and vice versa.\n",
    "num1 = 10\n",
    "num2 = 20\n",
    "\n",
    "is_true = not (num1 < num2) \n",
    "\n",
    "print(f\"Is True: {is_true}\")\n"
   ]
  },
  {
   "cell_type": "code",
   "execution_count": 6,
   "id": "1c469ec6",
   "metadata": {},
   "outputs": [
    {
     "name": "stdout",
     "output_type": "stream",
     "text": [
      "False\n"
     ]
    }
   ],
   "source": [
    "# Another Example of Not Operator\n",
    "num1 = True\n",
    "\n",
    "reverse = not(num1)\n",
    "print(reverse)"
   ]
  },
  {
   "cell_type": "markdown",
   "id": "33fff42b",
   "metadata": {},
   "source": [
    "### 5. Bitwise Operators\n",
    "- Performs operations between two operands."
   ]
  },
  {
   "cell_type": "code",
   "execution_count": 7,
   "id": "262a999b",
   "metadata": {},
   "outputs": [
    {
     "name": "stdout",
     "output_type": "stream",
     "text": [
      "7\n"
     ]
    }
   ],
   "source": [
    "# Example of Bitwise operator\n",
    "\n",
    "a = 5   # binary: 101\n",
    "b = 3   # binary: 011\n",
    "\n",
    "print(a | b)  # 7 (binary: 0111) here perform bitwise OR(addition) operation.\n"
   ]
  },
  {
   "cell_type": "code",
   "execution_count": null,
   "id": "6e0b4de3",
   "metadata": {},
   "outputs": [],
   "source": [
    "# Explain the above program\n",
    "'''  \n",
    "a :      1  0  1    \n",
    "b :      0  1  1  (+)\n",
    "--------------------\n",
    "         1  0  0\n",
    "\n",
    "so, 100 in decimal is 7.\n",
    "\n",
    "\n",
    "Note: \n",
    "Bitwise OR rule\n",
    "\n",
    " 0 + 0 = 0 \n",
    " 0 + 1 = 1 \n",
    " 1 + 0 = 1 \n",
    " 1 + 1 = 1\n",
    "'''"
   ]
  },
  {
   "cell_type": "markdown",
   "id": "12681165",
   "metadata": {},
   "source": [
    "### 6. Assignment Operators\n",
    "- Used to assign values to variables."
   ]
  },
  {
   "cell_type": "markdown",
   "id": "69f46133",
   "metadata": {},
   "source": [
    "#### Types of Assignment operators\n",
    "  - equal ( = )\n",
    "  \n",
    "  - Add and Asign (+=)\n",
    "  \n",
    "  - Sub and Asign (-=)\n",
    "  \n",
    "  - Mul and Asign (*=)\n",
    "  \n",
    "  - Div and Asign (/=)\n",
    "  \n",
    "  - mod and Assign(*=)\n",
    "  \n",
    "  - Exp and Assign (**=)\n",
    "  "
   ]
  },
  {
   "cell_type": "code",
   "execution_count": null,
   "id": "02e57780",
   "metadata": {},
   "outputs": [
    {
     "name": "stdout",
     "output_type": "stream",
     "text": [
      "Num1: 10, Num2: 20\n"
     ]
    }
   ],
   "source": [
    "# equal ( = ) Assignment Operator\n",
    "num1 = 10\n",
    "num2 = 20\n",
    "\n",
    "\n",
    "print(f\"Num1: {num1}, Num2: {num2}\")\n"
   ]
  },
  {
   "cell_type": "code",
   "execution_count": null,
   "id": "4d409f64",
   "metadata": {},
   "outputs": [
    {
     "name": "stdout",
     "output_type": "stream",
     "text": [
      "Num1: 30, Num2: 20\n"
     ]
    }
   ],
   "source": [
    "# Add and Asign (+=) Assignment Operator\n",
    "num1 = 10\n",
    "num2 = 20\n",
    "\n",
    "num1 += num2   \n",
    "\n",
    "print(f\"Num1: {num1}, Num2: {num2}\")\n"
   ]
  },
  {
   "cell_type": "markdown",
   "id": "72a547e3",
   "metadata": {},
   "source": [
    "#### Explain the above code\n",
    "num1 = 10\n",
    "num2 = 20\n",
    "\n",
    "- num1 = num1 + num2\n",
    "-      = 10 + 20\n",
    "-      = 30\n",
    "\n",
    "output: num1 : 30"
   ]
  },
  {
   "cell_type": "code",
   "execution_count": null,
   "id": "2d7ab170",
   "metadata": {},
   "outputs": [
    {
     "name": "stdout",
     "output_type": "stream",
     "text": [
      "Num1: -10, Num2: 20\n"
     ]
    }
   ],
   "source": [
    "# Sub and Asign (-=) Assignment Operator\n",
    "num1 = 10\n",
    "num2 = 20\n",
    "\n",
    "num1 -= num2\n",
    "\n",
    "print(f\"Num1: {num1}, Num2: {num2}\")\n"
   ]
  },
  {
   "cell_type": "markdown",
   "id": "9fb9e456",
   "metadata": {},
   "source": [
    "#### Explain the above code\n",
    "num1 = 10\n",
    "num2 = 20\n",
    "\n",
    "- num1 = num1 - num2\n",
    "-      = 10 - 20\n",
    "-      = -10\n",
    "\n",
    "output: num1 : -10"
   ]
  },
  {
   "cell_type": "code",
   "execution_count": null,
   "id": "022875b5",
   "metadata": {},
   "outputs": [
    {
     "name": "stdout",
     "output_type": "stream",
     "text": [
      "Num1: 200, Num2: 20\n"
     ]
    }
   ],
   "source": [
    "# Mul and Asign (*=) Assignment Operator\n",
    "num1 = 10\n",
    "num2 = 20\n",
    "\n",
    "num1 *= num2  # num1 = num1 * num2\n",
    "\n",
    "print(f\"Num1: {num1}, Num2: {num2}\")\n"
   ]
  },
  {
   "cell_type": "code",
   "execution_count": 35,
   "id": "0d891396",
   "metadata": {},
   "outputs": [
    {
     "name": "stdout",
     "output_type": "stream",
     "text": [
      "Num1: 0.5, Num2: 20\n"
     ]
    }
   ],
   "source": [
    "# Div and Asign (/=) Assignment Operator\n",
    "num1 = 10\n",
    "num2 = 20\n",
    "\n",
    "num1 /= num2  # num1 = num1 / num2\n",
    "\n",
    "print(f\"Num1: {num1}, Num2: {num2}\")\n"
   ]
  },
  {
   "cell_type": "code",
   "execution_count": 36,
   "id": "98bff9fe",
   "metadata": {},
   "outputs": [
    {
     "name": "stdout",
     "output_type": "stream",
     "text": [
      "Num1: 10, Num2: 20\n"
     ]
    }
   ],
   "source": [
    "# Mod and Asign (%=) Assignment Operator\n",
    "num1 = 10\n",
    "num2 = 20\n",
    "\n",
    "num1 %= num2  # num1 = num1 % num2\n",
    "\n",
    "print(f\"Num1: {num1}, Num2: {num2}\")\n"
   ]
  },
  {
   "cell_type": "markdown",
   "id": "968ad46c",
   "metadata": {},
   "source": [
    "### Explain the above code\n",
    "num1 = 10\n",
    "num2 = 20\n",
    "\n",
    "num1 = num % num2\n",
    "     \n",
    "     10 ) 20 ( 1\n",
    "          10\n",
    "    -----------\n",
    "          10 <----- this is the num1(mod) value"
   ]
  },
  {
   "cell_type": "code",
   "execution_count": 42,
   "id": "8a13b0c0",
   "metadata": {},
   "outputs": [
    {
     "name": "stdout",
     "output_type": "stream",
     "text": [
      "Num1: 4 , Num2: 2\n"
     ]
    }
   ],
   "source": [
    "## Exp and Assign (**=) Assignment Operator\n",
    "num1 = 2\n",
    "num2 = 2\n",
    "\n",
    "num1 **= num2  # num1 = num1 ** num2\n",
    "\n",
    "print(f\"Num1: {num1} , Num2: {num2}\")\n"
   ]
  },
  {
   "cell_type": "markdown",
   "id": "da9de73c",
   "metadata": {},
   "source": [
    "### 7. Membership Operators\n",
    "- Used to check whether a value exists in a sequence (list, tuple, string, set, dictionary, etc.) or not.\n",
    "\n",
    "- Return Boolean value (True, False)"
   ]
  },
  {
   "cell_type": "markdown",
   "id": "2ee28797",
   "metadata": {},
   "source": [
    "#### Types of Membership Operator\n",
    "  - in\n",
    "  - not in"
   ]
  },
  {
   "cell_type": "code",
   "execution_count": 9,
   "id": "11b587e3",
   "metadata": {},
   "outputs": [
    {
     "name": "stdout",
     "output_type": "stream",
     "text": [
      "True\n",
      "True\n",
      "False\n"
     ]
    }
   ],
   "source": [
    "# Example of Membership Operators\n",
    "\n",
    "text = \"Python Programming\"\n",
    "\n",
    "print(\"Python\" in text)      # True (in)\n",
    "print(\"Java\" not in text)    # True (not in)\n",
    "\n",
    "print(\"C\" in text)           # False\n"
   ]
  },
  {
   "cell_type": "code",
   "execution_count": null,
   "id": "fba8fcb4",
   "metadata": {},
   "outputs": [],
   "source": [
    "# Membership operators provide boolean values(either True or False)\n",
    "lst = [1, 2, 3, 4, 5]\n",
    "\n",
    "# in memebership\n",
    "print(1 in lst)          # True\n",
    "print(3 in lst)          # True\n",
    "\n",
    "# not in membership\n",
    "print(6 not in lst)      # True\n"
   ]
  },
  {
   "cell_type": "code",
   "execution_count": 45,
   "id": "3fa386dd",
   "metadata": {},
   "outputs": [
    {
     "name": "stdout",
     "output_type": "stream",
     "text": [
      "True\n"
     ]
    }
   ],
   "source": [
    "# Another example\n",
    "my_list = [10, 20, 30, 40, 50]\n",
    "num = 30\n",
    "\n",
    "is_present = num in my_list\n",
    "print(is_present)"
   ]
  },
  {
   "cell_type": "markdown",
   "id": "1a80998d",
   "metadata": {},
   "source": [
    "### 8. Identity Operators\n"
   ]
  },
  {
   "cell_type": "markdown",
   "id": "d929ae0e",
   "metadata": {},
   "source": [
    "\n",
    "- when two variable is allocated the same memory then we use Identity operator.\n",
    "\n",
    "- Python Store Data in memory to optimize way.\n",
    "\n",
    "- Return Boolean value (True or False)."
   ]
  },
  {
   "cell_type": "markdown",
   "id": "b5c5e2d8",
   "metadata": {},
   "source": [
    "#### Types of Identity Operator\n",
    "- is\n",
    "- is not"
   ]
  },
  {
   "cell_type": "code",
   "execution_count": null,
   "id": "44ead816",
   "metadata": {},
   "outputs": [
    {
     "name": "stdout",
     "output_type": "stream",
     "text": [
      "True\n",
      "False\n"
     ]
    }
   ],
   "source": [
    "# Example of Identity Operators\n",
    "\n",
    "num1 = 10\n",
    "\n",
    "num2 = 10\n",
    "\n",
    "print(num1 is num2)  # True means -> num1 and num2 are Allocate same memory location.\n",
    "print(num1 is not num2)  # False\n"
   ]
  },
  {
   "cell_type": "code",
   "execution_count": 10,
   "id": "9b29561a",
   "metadata": {},
   "outputs": [
    {
     "name": "stdout",
     "output_type": "stream",
     "text": [
      "False\n",
      "True\n"
     ]
    }
   ],
   "source": [
    "# Example of Identity Operators\n",
    "\n",
    "num1 = 10\n",
    "\n",
    "num2 = 20\n",
    "\n",
    "print(num1 is num2)  # False because num1 and num2 are allocate different memory location.\n",
    "print(num1 is not num2)  \n"
   ]
  },
  {
   "cell_type": "markdown",
   "id": "ffbda858",
   "metadata": {},
   "source": [
    "### Difference Between Identity Operator and Membership Operator\n",
    "\n",
    "#### Identity Operators\n",
    "\n",
    "- Use To Checks whether two variables point to the same memory location.\n",
    "\n",
    "\n",
    "#### Membership Oprators\n",
    "\n",
    "- Checks if a value exists within a sequence.\n"
   ]
  },
  {
   "cell_type": "code",
   "execution_count": 11,
   "id": "e036a09f",
   "metadata": {},
   "outputs": [
    {
     "name": "stdout",
     "output_type": "stream",
     "text": [
      "True\n",
      "False\n"
     ]
    }
   ],
   "source": [
    "# Example_01: Identity Operator(is, is not)\n",
    "num1 = 5\n",
    "\n",
    "num2 = 5\n",
    "\n",
    "print(num1 is num2)  # True (Both variables point to the same memory location)\n",
    "print(num1 is not num2)  # False.\n"
   ]
  },
  {
   "cell_type": "code",
   "execution_count": null,
   "id": "5845282f",
   "metadata": {},
   "outputs": [
    {
     "name": "stdout",
     "output_type": "stream",
     "text": [
      "True\n",
      "True\n",
      "False\n"
     ]
    }
   ],
   "source": [
    "# Membership Operator(in, not in)\n",
    "\n",
    "text = \"I love my Country\"\n",
    "\n",
    "my_present = \"my\" in text\n",
    "\n",
    "print(my_present)  # True\n",
    "\n",
    "\n",
    "not_mem = \"there\" not in text\n",
    "print(not_mem) # True\n",
    "\n",
    "in_mem = \"love\" not in text\n",
    "print(in_mem) # False\n"
   ]
  },
  {
   "cell_type": "code",
   "execution_count": 4,
   "id": "b3a52259",
   "metadata": {},
   "outputs": [
    {
     "name": "stdout",
     "output_type": "stream",
     "text": [
      "False\n",
      "True\n",
      "False\n",
      "True\n"
     ]
    }
   ],
   "source": [
    "# Example_02:\n",
    "num1 = 10\n",
    "\n",
    "num2 = 5\n",
    "\n",
    "# for identity operator\n",
    "print(num1 is num2)  # False (Different memory locations)\n",
    "print(num1 is not num2)  # True.\n",
    "\n",
    "\n",
    "# for comparison operator\n",
    "print(num1 == num2)  # False (Different values)\n",
    "print(num1 != num2)  # True (because they are not equal)"
   ]
  },
  {
   "cell_type": "markdown",
   "id": "42d8b3e0",
   "metadata": {},
   "source": [
    "### 9. Practical Examples"
   ]
  },
  {
   "cell_type": "code",
   "execution_count": 50,
   "id": "d5611ae0",
   "metadata": {},
   "outputs": [
    {
     "name": "stdout",
     "output_type": "stream",
     "text": [
      "Your Input Numbers: 7.0, 3.0\n",
      "Addition: 10.0\n",
      "Subtraction: 4.0\n",
      "Multiplication: 21.0\n",
      "Division: 2.33\n",
      "Floor Division: 2.0\n",
      "Modulus: 1.0\n",
      "Exponentiation:343.0\n"
     ]
    }
   ],
   "source": [
    "# Simple Calculator\n",
    "\n",
    "num1 = float(input(\"Enter first number: \"))\n",
    "num2 = float(input(\"Enter second number: \"))\n",
    "\n",
    "# calculation\n",
    "\n",
    "add = num1 + num2\n",
    "sub = num1 - num2\n",
    "mul = num1 * num2\n",
    "div = num1 / num2\n",
    "flor_div = num1 // num2\n",
    "mod = num1 % num2\n",
    "exp = num1 ** num2\n",
    "\n",
    "# Print the results\n",
    "print(f\"Your Input Numbers: {num1}, {num2}\")\n",
    "\n",
    "print(\"Addition:\", add)\n",
    "\n",
    "print(\"Subtraction:\", sub)\n",
    "\n",
    "print(\"Multiplication:\", mul)\n",
    "\n",
    "print(f\"Division: {div:.2f}\")\n",
    "\n",
    "print(\"Floor Division:\", flor_div)\n",
    "\n",
    "print(\"Modulus:\", mod)\n",
    "\n",
    "print(\"Exponentiation:{}\".format(exp))\n"
   ]
  }
 ],
 "metadata": {
  "kernelspec": {
   "display_name": "venv",
   "language": "python",
   "name": "python3"
  },
  "language_info": {
   "codemirror_mode": {
    "name": "ipython",
    "version": 3
   },
   "file_extension": ".py",
   "mimetype": "text/x-python",
   "name": "python",
   "nbconvert_exporter": "python",
   "pygments_lexer": "ipython3",
   "version": "3.12.11"
  }
 },
 "nbformat": 4,
 "nbformat_minor": 5
}
