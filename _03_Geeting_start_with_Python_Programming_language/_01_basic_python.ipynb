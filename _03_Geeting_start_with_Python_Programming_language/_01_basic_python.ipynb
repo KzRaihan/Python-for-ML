{
 "cells": [
  {
   "cell_type": "markdown",
   "id": "68c062d5",
   "metadata": {},
   "source": [
    "### Topic: Basic of Python\n",
    "\n",
    "- OUTCOMES:\n",
    "    \n",
    "    - 1. Understanding Python Syntax.\n",
    "    - 2. Single Line Comments and Multiple line commands. \n",
    "    - 3. Basic Python Characteristics."
   ]
  },
  {
   "cell_type": "markdown",
   "id": "f3bbbd99",
   "metadata": {},
   "source": [
    "#### 1. Define of Syntax\n",
    "\n",
    "- Syntax is the correct arrangement of words and symbols in a code.\n",
    "\n",
    "- Python Syntax Rules\n",
    "    - Indentation\n",
    "    - Comments\n",
    "    - Escape Sequences"
   ]
  },
  {
   "cell_type": "code",
   "execution_count": null,
   "id": "375e6481",
   "metadata": {},
   "outputs": [],
   "source": [
    "# 1. Indentation\n",
    "#   - Python uses indentation (spaces or tabs) to define blocks of code.\n",
    "\n",
    "if 10 > 5:\n",
    "    print(\"10 is greater then 5\")\n",
    "\n"
   ]
  },
  {
   "cell_type": "markdown",
   "id": "4e15bdc1",
   "metadata": {},
   "source": [
    "#### 2. Single line comments and multiple line commands"
   ]
  },
  {
   "cell_type": "code",
   "execution_count": 20,
   "id": "f3b456c3",
   "metadata": {},
   "outputs": [
    {
     "name": "stdout",
     "output_type": "stream",
     "text": [
      "Hello, World!\n"
     ]
    }
   ],
   "source": [
    "# - Single line comments\n",
    "# This is a Single line comment.\n",
    "print(\"Hello, World!\")  # only display the this line but the above lines are not display or not show any errors."
   ]
  },
  {
   "cell_type": "code",
   "execution_count": null,
   "id": "d1f97301",
   "metadata": {},
   "outputs": [
    {
     "data": {
      "text/plain": [
       "'\\n Welcome to Python Programming Language\\n this is KzRaihan\\n\\n'"
      ]
     },
     "execution_count": 2,
     "metadata": {},
     "output_type": "execute_result"
    }
   ],
   "source": [
    "# Multiline comments\n",
    "'''\n",
    " Welcome to Python Programming Language\n",
    " this is KzRaihan\n",
    "\n",
    " Note: in jupyter notebook you can use markdown for comments. \n",
    "'''"
   ]
  },
  {
   "cell_type": "markdown",
   "id": "ceba6dfe",
   "metadata": {},
   "source": [
    "#### Escape Sequences\n",
    "- Escape sequences are used to include special characters in strings. \n",
    "  - Common escape sequences: \n",
    "    - \\n : Newline\n",
    "    - \\t : Tab \n",
    "    - \\\\ : Backslash \n",
    "    - \\\": Double quote \n",
    "    - \\': Single quote"
   ]
  },
  {
   "cell_type": "code",
   "execution_count": null,
   "id": "12d39f58",
   "metadata": {},
   "outputs": [
    {
     "name": "stdout",
     "output_type": "stream",
     "text": [
      "My name is KzRaihan. \n",
      "This is python programming language\n"
     ]
    }
   ],
   "source": [
    "# Example of Escape Sequences\n",
    "\n",
    "#  \\n : New line\n",
    "print(\"My name is KzRaihan. \\nThis is python programming language\")"
   ]
  },
  {
   "cell_type": "code",
   "execution_count": 2,
   "id": "5a693992",
   "metadata": {},
   "outputs": [
    {
     "name": "stdout",
     "output_type": "stream",
     "text": [
      "Hello \t Everyone!\n"
     ]
    }
   ],
   "source": [
    "# \\t : Tab\n",
    "\n",
    "print(\"Hello \\t Everyone!\")"
   ]
  },
  {
   "cell_type": "code",
   "execution_count": 3,
   "id": "74e6c7f6",
   "metadata": {},
   "outputs": [
    {
     "name": "stdout",
     "output_type": "stream",
     "text": [
      "Python \\ Ml \\ DL\n"
     ]
    }
   ],
   "source": [
    "# \\\\ : Backslash \n",
    "print(\"Python \\\\ Ml \\\\ DL\")"
   ]
  },
  {
   "cell_type": "code",
   "execution_count": 7,
   "id": "10e3ead0",
   "metadata": {},
   "outputs": [
    {
     "name": "stdout",
     "output_type": "stream",
     "text": [
      "\"Welcome to the pain zone\"\n"
     ]
    }
   ],
   "source": [
    "# \\\": Double quote \n",
    "print(\"\\\"Welcome to the pain zone\\\"\")"
   ]
  },
  {
   "cell_type": "markdown",
   "id": "1989afc5",
   "metadata": {},
   "source": [
    "### 3. Basic Python Characteristics"
   ]
  },
  {
   "cell_type": "markdown",
   "id": "43ab3547",
   "metadata": {},
   "source": [
    "- Python is a case-sensitive language.\n",
    "\n",
    "- Python uses indentation to determine the grouping of statements.\n",
    "\n",
    "- Python support multiple statements on a single line.\n",
    "\n",
    "- Python is a dynamic programming language (detects the data type in runtime)."
   ]
  },
  {
   "cell_type": "code",
   "execution_count": null,
   "id": "6e5c7b1d",
   "metadata": {},
   "outputs": [
    {
     "name": "stdout",
     "output_type": "stream",
     "text": [
      "KzRaihan\n",
      "Kz\n",
      "Raihan\n"
     ]
    }
   ],
   "source": [
    "## Python is Case Sensitive Language.\n",
    "Name = \"KzRaihan\"\n",
    "name = \"Kz\"\n",
    "NAME = \"Raihan\"\n",
    "print(Name)  \n",
    "print(name)\n",
    "print(NAME)\n",
    "\n",
    "# here, Name, name, NAME are different variables."
   ]
  },
  {
   "cell_type": "code",
   "execution_count": 18,
   "id": "df21a271",
   "metadata": {},
   "outputs": [
    {
     "name": "stdout",
     "output_type": "stream",
     "text": [
      "Ten is greater than Five!\n",
      "You are an adult.\n"
     ]
    }
   ],
   "source": [
    "## Python Use Indentation for grouping statements\n",
    "\n",
    "# Indentation :\n",
    "#     -   It is used to define the blocks of code and consistent use of spaces(commonly 4) or a tab.\n",
    "#     -   Don't Need Explicitly braces {}.\n",
    "#     -   Without indentation, code will not execute properly or provide errors.\n",
    " \n",
    "\n",
    "if 10 > 5:\n",
    "    print(\"Ten is greater than Five!\")\n",
    "    \n",
    "age = 24\n",
    "\n",
    "if age > 18:\n",
    "    print(\"You are an adult.\")\n"
   ]
  },
  {
   "cell_type": "code",
   "execution_count": 19,
   "id": "f58d1d1d",
   "metadata": {},
   "outputs": [
    {
     "ename": "IndentationError",
     "evalue": "expected an indented block after 'if' statement on line 3 (415794859.py, line 4)",
     "output_type": "error",
     "traceback": [
      "  \u001b[36mCell\u001b[39m\u001b[36m \u001b[39m\u001b[32mIn[19]\u001b[39m\u001b[32m, line 4\u001b[39m\n\u001b[31m    \u001b[39m\u001b[31mprint(age)   # this will generate IndentationError\u001b[39m\n    ^\n\u001b[31mIndentationError\u001b[39m\u001b[31m:\u001b[39m expected an indented block after 'if' statement on line 3\n"
     ]
    }
   ],
   "source": [
    "## without indentation\n",
    "age = 24\n",
    "if age > 18:\n",
    "print(age)   # this will generate IndentationError"
   ]
  },
  {
   "cell_type": "code",
   "execution_count": null,
   "id": "e8cfed39",
   "metadata": {},
   "outputs": [
    {
     "name": "stdout",
     "output_type": "stream",
     "text": [
      "45\n"
     ]
    }
   ],
   "source": [
    "# line continuation\n",
    "#   - use a backslash(\\) to continue a statement to the next line.\n",
    "\n",
    "total = 1 + 2 + 3 \\\n",
    "        + 4 + 5 + 6 \\\n",
    "        + 7 + 8 + 9\n",
    "print(total)"
   ]
  },
  {
   "cell_type": "code",
   "execution_count": null,
   "id": "2cda7ee9",
   "metadata": {},
   "outputs": [
    {
     "name": "stdout",
     "output_type": "stream",
     "text": [
      "sum :  10\n",
      "5 5 10\n"
     ]
    }
   ],
   "source": [
    "# Multiple statement on a single line\n",
    "\n",
    "a = 5;b=5;c=a+b; print(\"sum : \", c)\n",
    "print(a, b, c)  \n",
    "\n",
    "# age = 24; print(age) if age > 18 else print(\"Underage\")"
   ]
  },
  {
   "cell_type": "code",
   "execution_count": null,
   "id": "cf1072f1",
   "metadata": {},
   "outputs": [
    {
     "name": "stdout",
     "output_type": "stream",
     "text": [
      "10\n",
      "<class 'int'>\n",
      "Kz\n",
      "<class 'str'>\n"
     ]
    }
   ],
   "source": [
    "# Type inference\n",
    "#    - Automatic detection of the data type of a variable by the interpreter(runtime).\n",
    "#    - Eliminates the need for explicit type declaration.\n",
    "\n",
    "var = 10\n",
    "print(var) \n",
    "print(type(var))  # Output: <class 'int'>\n",
    "\n",
    "var = \"Kz\"        # During the runtime the type of var(int) changes to str.\n",
    "print(var)\n",
    "print(type(var))  # Output: <class 'str'>"
   ]
  },
  {
   "cell_type": "code",
   "execution_count": null,
   "id": "e4397b4b",
   "metadata": {},
   "outputs": [
    {
     "name": "stdout",
     "output_type": "stream",
     "text": [
      "Correct Identation\n",
      "This wiil be output\n",
      "Outside of the if statement\n"
     ]
    }
   ],
   "source": [
    "# Code example of Indentation\n",
    "\n",
    "if True:\n",
    "    print(\"Correct Indentation\")\n",
    "\n",
    "    if False:\n",
    "        print(\"This one is output\")\n",
    "\n",
    "    print(\"This one will be output\")\n",
    "\n",
    "print(\"Outside of the if statement\")"
   ]
  },
  {
   "cell_type": "code",
   "execution_count": 21,
   "id": "9ec566a9",
   "metadata": {},
   "outputs": [
    {
     "name": "stdout",
     "output_type": "stream",
     "text": [
      "(2, 3)\n"
     ]
    }
   ],
   "source": [
    "a = 2,3\n",
    "print(a)"
   ]
  }
 ],
 "metadata": {
  "kernelspec": {
   "display_name": "venv",
   "language": "python",
   "name": "python3"
  },
  "language_info": {
   "codemirror_mode": {
    "name": "ipython",
    "version": 3
   },
   "file_extension": ".py",
   "mimetype": "text/x-python",
   "name": "python",
   "nbconvert_exporter": "python",
   "pygments_lexer": "ipython3",
   "version": "3.12.11"
  }
 },
 "nbformat": 4,
 "nbformat_minor": 5
}
