{
 "cells": [
  {
   "cell_type": "markdown",
   "id": "1aaa8274",
   "metadata": {},
   "source": [
    "### Topic: Python Programming Language"
   ]
  },
  {
   "cell_type": "markdown",
   "id": "1ce316fa",
   "metadata": {},
   "source": [
    "#### OUTCOMES:\n",
    "- 1. What is Python and it's features?\n",
    "- 2. Application of Python.\n",
    "- 3. Why we need to learn python?"
   ]
  },
  {
   "cell_type": "markdown",
   "id": "5da07380",
   "metadata": {},
   "source": [
    "#### 1. What is Python and it's features?\n",
    "\n",
    "- Python is an interpreted, object-oriented, high-level programming lanugager with dynamic typed feature."
   ]
  },
  {
   "cell_type": "markdown",
   "id": "73e0b180",
   "metadata": {},
   "source": [
    "#### 2. Application of Python.\n",
    "\n",
    "- Data Analysis.\n",
    "- Data Science\n",
    "- Machine learning and Artificial Intelligence.\n",
    "- Web, Mobile, Desktop Application.\n",
    "- Games and 3-D Application.\n",
    "- etc"
   ]
  },
  {
   "cell_type": "markdown",
   "id": "bfb1e3f1",
   "metadata": {},
   "source": [
    "#### 3. Why we need to learn python.\n",
    "\n",
    "- Beginner Friendly and easy to learn.\n",
    "\n",
    "- To build a career as a Data Scientist and ML engineer.\n",
    "\n",
    "- Write less code but do more.\n"
   ]
  }
 ],
 "metadata": {
  "kernelspec": {
   "display_name": "venv",
   "language": "python",
   "name": "python3"
  },
  "language_info": {
   "name": "python",
   "version": "3.12.11"
  }
 },
 "nbformat": 4,
 "nbformat_minor": 5
}
