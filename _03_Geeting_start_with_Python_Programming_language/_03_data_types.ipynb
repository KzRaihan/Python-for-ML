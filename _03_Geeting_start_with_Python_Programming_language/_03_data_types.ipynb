{
 "cells": [
  {
   "cell_type": "markdown",
   "id": "f78008d6",
   "metadata": {},
   "source": [
    "### OUTCOMES OF THE DATA TYPE\n",
    "\n",
    "  - 1. Definition and Introduction of Data type\n",
    "  - 2. Important of Data type in programming\n",
    "  - 3. Basic Data type\n",
    "        - integer \n",
    "        - floating-point numbers\n",
    "        - strings\n",
    "        - Booleans\n",
    " - 4. Advanced Data Type\n",
    "       - tuple\n",
    "       - list\n",
    "       - set\n",
    "       - dictionaries\n",
    " - 5. Type Conversion\n",
    " - 6. Practical Example"
   ]
  },
  {
   "cell_type": "markdown",
   "id": "4793534d",
   "metadata": {},
   "source": [
    "#### 1. Definition of Data type\n",
    "- Data type refers that what kind of data that a variable can hold.\n",
    "- determines what operations can be performed on that data.\n",
    "\n",
    "#### Introduction of Data type\n",
    "\n",
    "- Data type are a classification of data which tell the compiler or interpreter how the programmer intends to use the data.\n",
    "\n",
    "- They determine the type of operations that can be performed on the data, the values that the data can take and the among of memory needed to store the data.\n",
    "    - int64 → 8 bytes\n",
    "    - float64 → 8 bytes\n",
    "    - boolean → 1 byte\n",
    "    - string → depends on defined length of the string.\n"
   ]
  },
  {
   "cell_type": "markdown",
   "id": "109425f6",
   "metadata": {},
   "source": [
    "#### 2. Importance of Data Type in Programming\n",
    "   \n",
    "- Data Type ensure that data is stored in an efficient way.\n",
    "\n",
    "- They help in Performing correct operations on data.\n",
    "\n",
    "- Proper use of Data Types can prevent errors and bugs in the Program."
   ]
  },
  {
   "cell_type": "markdown",
   "id": "728a9f89",
   "metadata": {},
   "source": [
    "#### 3. Basic Data type"
   ]
  },
  {
   "cell_type": "code",
   "execution_count": null,
   "id": "b518f554",
   "metadata": {},
   "outputs": [
    {
     "name": "stdout",
     "output_type": "stream",
     "text": [
      "24\n",
      "<class 'int'>\n",
      "--------------------\n",
      "\n",
      "5.6\n",
      "<class 'float'>\n",
      "--------------------\n",
      "\n",
      "Kz <class 'str'>\n",
      "--------------------\n",
      "\n",
      "True\n",
      "<class 'bool'>\n",
      "--------------------\n",
      "\n",
      "False\n",
      "<class 'bool'>\n"
     ]
    }
   ],
   "source": [
    "# integer Data Type\n",
    "age = 24\n",
    "print(age)\n",
    "print(type(age))  # <class 'int'>\n",
    "print(\"--------------------\\n\")\n",
    "\n",
    "\n",
    "# float Data Type\n",
    "height = 5.6\n",
    "print(height)\n",
    "print(type(height))  # <class 'float'>\n",
    "print(\"--------------------\\n\")\n",
    "\n",
    "# string Data Type\n",
    "name = \"Kz\"\n",
    "print(name, type(name))  # <class 'str'>    \n",
    "print(\"--------------------\\n\")\n",
    "\n",
    "# boolean Data Type\n",
    "is_true = True\n",
    "print(is_true)\n",
    "print(type(is_true))  # <class 'bool'>\n",
    "print(\"--------------------\\n\")\n",
    "\n",
    "\n",
    "# another boolean data type\n",
    "num1 = 10\n",
    "num2 = 12\n",
    "\n",
    "print(num1 == num2) # False\n",
    "print(type(num1 == num2)) # <class 'bool'>\n"
   ]
  },
  {
   "cell_type": "markdown",
   "id": "4108b1a6",
   "metadata": {},
   "source": [
    "#### 5. Type Conversion"
   ]
  },
  {
   "cell_type": "code",
   "execution_count": null,
   "id": "1f9b6e00",
   "metadata": {},
   "outputs": [
    {
     "ename": "TypeError",
     "evalue": "unsupported operand type(s) for +: 'int' and 'str'",
     "output_type": "error",
     "traceback": [
      "\u001b[31m---------------------------------------------------------------------------\u001b[39m",
      "\u001b[31mTypeError\u001b[39m                                 Traceback (most recent call last)",
      "\u001b[36mCell\u001b[39m\u001b[36m \u001b[39m\u001b[32mIn[6]\u001b[39m\u001b[32m, line 2\u001b[39m\n\u001b[32m      1\u001b[39m \u001b[38;5;66;03m# common error\u001b[39;00m\n\u001b[32m----> \u001b[39m\u001b[32m2\u001b[39m result = \u001b[32;43m10\u001b[39;49m\u001b[43m \u001b[49m\u001b[43m+\u001b[49m\u001b[43m \u001b[49m\u001b[33;43m\"\u001b[39;49m\u001b[33;43m10\u001b[39;49m\u001b[33;43m\"\u001b[39;49m \u001b[38;5;66;03m# int and str can not be added\u001b[39;00m\n\u001b[32m      3\u001b[39m \u001b[38;5;28mprint\u001b[39m(result)\n",
      "\u001b[31mTypeError\u001b[39m: unsupported operand type(s) for +: 'int' and 'str'"
     ]
    }
   ],
   "source": [
    "# common error\n",
    "result = 10 + \"10\" # int and str can not be add/concatenated.\n",
    "print(result)"
   ]
  },
  {
   "cell_type": "code",
   "execution_count": 13,
   "id": "cb7bf7c5",
   "metadata": {},
   "outputs": [
    {
     "name": "stdout",
     "output_type": "stream",
     "text": [
      "20\n",
      "<class 'int'>\n"
     ]
    }
   ],
   "source": [
    "# Solve the above error by using type conversion\n",
    "result = 10 + int(\"10\") # convert str to int\n",
    "print(result) # 20\n",
    "print(type(result))  # <class 'int'>\n"
   ]
  },
  {
   "cell_type": "code",
   "execution_count": null,
   "id": "8846a018",
   "metadata": {},
   "outputs": [
    {
     "ename": "TypeError",
     "evalue": "can only concatenate str (not \"int\") to str",
     "output_type": "error",
     "traceback": [
      "\u001b[31m---------------------------------------------------------------------------\u001b[39m",
      "\u001b[31mTypeError\u001b[39m                                 Traceback (most recent call last)",
      "\u001b[36mCell\u001b[39m\u001b[36m \u001b[39m\u001b[32mIn[10]\u001b[39m\u001b[32m, line 5\u001b[39m\n\u001b[32m      2\u001b[39m str1 = \u001b[33m\"\u001b[39m\u001b[33mKz\u001b[39m\u001b[33m\"\u001b[39m\n\u001b[32m      3\u001b[39m num = \u001b[32m10\u001b[39m\n\u001b[32m----> \u001b[39m\u001b[32m5\u001b[39m \u001b[38;5;28msum\u001b[39m = \u001b[43mstr1\u001b[49m\u001b[43m \u001b[49m\u001b[43m+\u001b[49m\u001b[43m \u001b[49m\u001b[43mnum\u001b[49m \u001b[38;5;66;03m# This is an error because you can't concatenate str and int\u001b[39;00m\n\u001b[32m      7\u001b[39m \u001b[38;5;28mprint\u001b[39m(\u001b[38;5;28msum\u001b[39m)\n",
      "\u001b[31mTypeError\u001b[39m: can only concatenate str (not \"int\") to str"
     ]
    }
   ],
   "source": [
    "# another Example\n",
    "str1 = \"Kz\"\n",
    "num = 10\n",
    "\n",
    "sum = str1 + num # This is an error because you can't concatenate str and int\n",
    "\n",
    "print(sum)"
   ]
  },
  {
   "cell_type": "code",
   "execution_count": null,
   "id": "be2fbe34",
   "metadata": {},
   "outputs": [
    {
     "name": "stdout",
     "output_type": "stream",
     "text": [
      "Kz10\n",
      "<class 'str'>\n"
     ]
    }
   ],
   "source": [
    "# Solve the above error by using type conversion\n",
    "str1 = \"Kz\"\n",
    "num = 10\n",
    "\n",
    "sum = str1 + str(num)  # This is an error because you can't concatenate str and int\n",
    "\n",
    "print(sum)\n",
    "print(type(sum))  # <class 'str'>"
   ]
  },
  {
   "cell_type": "code",
   "execution_count": 2,
   "id": "77037f7c",
   "metadata": {},
   "outputs": [
    {
     "ename": "ValueError",
     "evalue": "invalid literal for int() with base 10: 'Kz'",
     "output_type": "error",
     "traceback": [
      "\u001b[31m---------------------------------------------------------------------------\u001b[39m",
      "\u001b[31mValueError\u001b[39m                                Traceback (most recent call last)",
      "\u001b[36mCell\u001b[39m\u001b[36m \u001b[39m\u001b[32mIn[2]\u001b[39m\u001b[32m, line 6\u001b[39m\n\u001b[32m      3\u001b[39m str1 = \u001b[33m\"\u001b[39m\u001b[33mKz\u001b[39m\u001b[33m\"\u001b[39m\n\u001b[32m      4\u001b[39m num = \u001b[32m10\u001b[39m\n\u001b[32m----> \u001b[39m\u001b[32m6\u001b[39m \u001b[38;5;28msum\u001b[39m = \u001b[38;5;28;43mint\u001b[39;49m\u001b[43m(\u001b[49m\u001b[43mstr1\u001b[49m\u001b[43m)\u001b[49m + num  \n\u001b[32m      8\u001b[39m \u001b[38;5;28mprint\u001b[39m(\u001b[38;5;28msum\u001b[39m)\n\u001b[32m      9\u001b[39m \u001b[38;5;28mprint\u001b[39m(\u001b[38;5;28mtype\u001b[39m(\u001b[38;5;28msum\u001b[39m))  \u001b[38;5;66;03m# <class 'str'>\u001b[39;00m\n",
      "\u001b[31mValueError\u001b[39m: invalid literal for int() with base 10: 'Kz'"
     ]
    }
   ],
   "source": [
    "# we can't convert str to int\n",
    "\n",
    "str1 = \"Kz\"\n",
    "num = 10\n",
    "\n",
    "sum = int(str1) + num  \n",
    "\n",
    "print(sum)\n",
    "print(type(sum))  # <class 'str'>\n"
   ]
  }
 ],
 "metadata": {
  "kernelspec": {
   "display_name": "venv",
   "language": "python",
   "name": "python3"
  },
  "language_info": {
   "codemirror_mode": {
    "name": "ipython",
    "version": 3
   },
   "file_extension": ".py",
   "mimetype": "text/x-python",
   "name": "python",
   "nbconvert_exporter": "python",
   "pygments_lexer": "ipython3",
   "version": "3.12.11"
  }
 },
 "nbformat": 4,
 "nbformat_minor": 5
}
