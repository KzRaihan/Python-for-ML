{
 "cells": [
  {
   "cell_type": "markdown",
   "id": "8326f183",
   "metadata": {},
   "source": [
    "### Anaconda Download and Install\n",
    "\n",
    "Anaconda is a free and open-source distribution of Python (and R) that comes with:\n",
    "\n",
    "-  A package manager (conda).\n",
    "\n",
    "-  Tools for data science & machine learning.\n",
    "\n",
    "-  Support for managing multiple environments."
   ]
  },
  {
   "cell_type": "markdown",
   "id": "356beddd",
   "metadata": {},
   "source": [
    "- Download Anaconda Steps:\n",
    "1. Open your web browser and search for “Download Anaconda for Windows”.\n",
    "\n",
    "2. Click on the official link: anaconda.com/download\n",
    "\n",
    "3. Choose the free download option.\n",
    "\n",
    "4. Click Get Started.\n",
    "\n",
    "5. Sign up (if required) by verifying\n",
    " your email and creating a password.\n",
    "\n",
    "6. Enter your First Name and Last Name.\n",
    "\n",
    "7. Download the installer \n"
   ]
  },
  {
   "cell_type": "markdown",
   "id": "5f5048d3",
   "metadata": {},
   "source": [
    "🔹 Steps to Install Anaconda (Windows)\n",
    "\n",
    "1. Run the Anaconda installer you downloaded.\n",
    "\n",
    "2. Follow the installation -  most steps can be kept as the default.\n",
    "\n",
    "3. During the installation, select the option:\n",
    "\n",
    "✅ Add Anaconda3 to my PATH environment variable (recommended for easier command-line use).\n",
    "\n",
    "4. Continue with the default settings and complete the installation.\n",
    "\n",
    "5. Once installed, verify by opening the command prompt (CMD) and typing:\n",
    "conda --version\n",
    "\n",
    "If Anaconda is installed correctly, it will display the version number"
   ]
  },
  {
   "cell_type": "markdown",
   "id": "c57dba95",
   "metadata": {},
   "source": [
    "### Download and Install Vs code Editor"
   ]
  },
  {
   "cell_type": "markdown",
   "id": "9f477a7f",
   "metadata": {},
   "source": [
    "🔹 Steps to Download & Install Visual Studio Code (Windows)\n",
    "\n",
    "Download VS Code:\n",
    "\n",
    "1. Open your web browser and search for “Download VS Code for Windows”.\n",
    "\n",
    "2. Click on the official link: https://code.visualstudio.com/Download.\n",
    "\n",
    "3. Choose the installer based on your operating system (Windows 32-bit or 64-bit).\n",
    "\n",
    "4. Download the setup file.\n",
    "\n",
    "Install VS Code:\n",
    "\n",
    "1. Run the downloaded installer.\n",
    "\n",
    "2. Follow the installation wizard — most steps can be kept as default.\n",
    "\n",
    "3. Select (tick) all additional options/icons if you want quick access (recommended).\n",
    "\n",
    "4. Complete the installation process.\n",
    "\n",
    "5. Once installed, open VS Code to confirm it runs successfully."
   ]
  },
  {
   "cell_type": "markdown",
   "id": "1e8dd763",
   "metadata": {},
   "source": [
    "- Essential VS code Extension:\n",
    "    - Go to vs code extension bar and search and install\n",
    "        - 1. code runner\n",
    "        - 2. prettier\n",
    "        - 3. Auto close tag\n",
    "        - 4. python\n",
    "        - 5. jupyter notebook(All microsoft)\n",
    "\n",
    "    - for themes\n",
    "         - 6. Material theme\n",
    "         - 7. github theme\n",
    "    \n",
    "- Vs Code Essential Setting: \n",
    "    - Go to setting search bar then search\n",
    "        - zoom (Thick-> Editior:  the Mouse wheel Zoom, Terminal: mouse wheel zoom)\n",
    "        - auto save (afterDealy).\n",
    "        - Run code Terminal(Thick: whether to run code in integrated terminal).\n",
    "        - blink (cursor Blinking: Expand)\n",
    "        - Cursor smooth Caret Animation(on)\n",
    "        - Word Wrap(on)\n",
    "        - braket pair Colorization(Enabled)"
   ]
  },
  {
   "cell_type": "markdown",
   "id": "87abf7d7",
   "metadata": {},
   "source": [
    "### Create New Enviroment(Virtual Python Enviroment)\n",
    "\n",
    "- Go to vs code terminal(base/conda) or Command Prompt(cmd) then commands\n",
    "   - 1. create a new enviroment\n",
    "        -  conda create -n enviroment_name + enter \n",
    "        -  conda create -n venv python=3.12 + enter   \n",
    "        -  conda create -name python_ml python=3.10 + enter\n",
    "    \n",
    "    - Note: All commands mean the same to create a virtual Python environment\n",
    "    - where venv,python_ml = environment names, and python=3.12 is the verson of the python.\n",
    "  \n"
   ]
  },
  {
   "cell_type": "markdown",
   "id": "1106022a",
   "metadata": {},
   "source": [
    "  - 4. To Check active enviroments list\n",
    "        -  conda env list + enter\n",
    "  \n",
    "  - 5. To Activate the created enviroment(python_ml)\n",
    "        - conda activate python_ml + enter\n",
    "\n",
    "  - 6. install python in new enviroment\n",
    "        - conda install python=3.12\n",
    "  \n",
    "  - 7. install a package directly into the current activae env\n",
    "        - pip install numpy + enter (where numpy is a package/Library name)\n",
    "\n",
    "  - 8. Deactivate the current enviroment\n",
    "        - conda deactivate\n",
    "  \n",
    "  - 9. Remove(Delete) an enviroments (firstly go outside of the require enviroment) then\n",
    "       - conda env remove --name python_ml (python_ml is the enviroment name)"
   ]
  },
  {
   "cell_type": "markdown",
   "id": "70f886ea",
   "metadata": {},
   "source": []
  }
 ],
 "metadata": {
  "kernelspec": {
   "display_name": "venv",
   "language": "python",
   "name": "python3"
  },
  "language_info": {
   "name": "python",
   "version": "3.12.11"
  }
 },
 "nbformat": 4,
 "nbformat_minor": 5
}
