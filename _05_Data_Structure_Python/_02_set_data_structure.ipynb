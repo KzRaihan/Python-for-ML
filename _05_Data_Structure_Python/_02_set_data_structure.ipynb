{
 "cells": [
  {
   "cell_type": "markdown",
   "id": "f4e018c8",
   "metadata": {},
   "source": [
    "## Topic: Set Data Structure in Python"
   ]
  },
  {
   "cell_type": "markdown",
   "id": "b2f183d9",
   "metadata": {},
   "source": [
    "### OUTCOMES\n",
    "\n",
    "- 1. Introduction of Sets\n",
    "\n",
    "- 2. Creating sets\n",
    "\n",
    "- 3. sets Method\n",
    "\n",
    "- 4. Membership test \n",
    "\n",
    "- 5. Mathematical Operation\n",
    "\n",
    "- 6. Practical Example"
   ]
  },
  {
   "cell_type": "markdown",
   "id": "b8bd7643",
   "metadata": {},
   "source": [
    "#### 1. Introduction of sets\n",
    "\n",
    "- set are build in data structure in python.\n",
    "\n",
    "- used to store a collection of unique items in an unordered format.\n",
    "\n",
    "- Each Element in the set must be unique and immutable (Not changeable/modify)."
   ]
  },
  {
   "cell_type": "markdown",
   "id": "d0190660",
   "metadata": {},
   "source": [
    "### 2. Creating sets"
   ]
  },
  {
   "cell_type": "code",
   "execution_count": null,
   "id": "fcff1d81",
   "metadata": {},
   "outputs": [
    {
     "name": "stdout",
     "output_type": "stream",
     "text": [
      "set()\n",
      "<class 'set'>\n"
     ]
    }
   ],
   "source": [
    "# Create an empty sets\n",
    "\n",
    "empty_set = set()\n",
    "\n",
    "print(empty_set)\n",
    "\n",
    "print(type(empty_set))  # < class 'ste' >\n"
   ]
  },
  {
   "cell_type": "code",
   "execution_count": null,
   "id": "d864a862",
   "metadata": {},
   "outputs": [],
   "source": [
    "# syntax of set\n",
    "''' \n",
    "set_name = {value1, value2, ......}    #  curly braces\n",
    "\n",
    "'''"
   ]
  },
  {
   "cell_type": "code",
   "execution_count": 2,
   "id": "789e618d",
   "metadata": {},
   "outputs": [
    {
     "name": "stdout",
     "output_type": "stream",
     "text": [
      "{1, 2, 3, 4, 5, 6, 7, 8}\n",
      "<class 'set'>\n"
     ]
    }
   ],
   "source": [
    "# Example_01: Create set\n",
    "\n",
    "my_set = {1,2,3,4,5,6,7,8}\n",
    "\n",
    "print(my_set)\n",
    "\n",
    "print(type(my_set))"
   ]
  },
  {
   "cell_type": "code",
   "execution_count": null,
   "id": "5209f52f",
   "metadata": {},
   "outputs": [
    {
     "name": "stdout",
     "output_type": "stream",
     "text": [
      "{24, True, 'Kz', 5.6}\n",
      "<class 'set'>\n"
     ]
    }
   ],
   "source": [
    "# Example_02: Create set for different data type\n",
    "\n",
    "mixed_set = {\"Kz\", 24, 5.6, True}\n",
    "\n",
    "print(mixed_set)\n",
    "\n",
    "\n",
    "print(type(mixed_set))"
   ]
  },
  {
   "cell_type": "code",
   "execution_count": null,
   "id": "5f424224",
   "metadata": {},
   "outputs": [
    {
     "ename": "TypeError",
     "evalue": "unhashable type: 'list'",
     "output_type": "error",
     "traceback": [
      "\u001b[31m---------------------------------------------------------------------------\u001b[39m",
      "\u001b[31mTypeError\u001b[39m                                 Traceback (most recent call last)",
      "\u001b[36mCell\u001b[39m\u001b[36m \u001b[39m\u001b[32mIn[5]\u001b[39m\u001b[32m, line 1\u001b[39m\n\u001b[32m----> \u001b[39m\u001b[32m1\u001b[39m diff_data = {[\u001b[32m1\u001b[39m, \u001b[32m2\u001b[39m,\u001b[32m3\u001b[39m,\u001b[32m4\u001b[39m], \u001b[33m\"\u001b[39m\u001b[33mPython\u001b[39m\u001b[33m\"\u001b[39m, \u001b[32m99.66\u001b[39m}\n\u001b[32m      3\u001b[39m \u001b[38;5;28mprint\u001b[39m(diff_data)\n",
      "\u001b[31mTypeError\u001b[39m: unhashable type: 'list'"
     ]
    }
   ],
   "source": [
    "# Example_03:Create set for different data structure\n",
    "\n",
    "diff_data = {[1, 2,3,4], \"Python\", 99.66}\n",
    "\n",
    "print(diff_data)\n",
    "\n",
    "### Note: Sets can't store mutable data type values like (list, dic)"
   ]
  },
  {
   "cell_type": "code",
   "execution_count": null,
   "id": "d6c6e368",
   "metadata": {},
   "outputs": [
    {
     "name": "stdout",
     "output_type": "stream",
     "text": [
      "{70, 40, 10, 80, 50, 20, 60, 30}\n"
     ]
    }
   ],
   "source": [
    "# Example_04: Try to Create set for duplicate value\n",
    "\n",
    "my_set = {10, 20, 30, 20, 10, 40, 50, 60, 70, 60, 80}\n",
    "\n",
    "print(my_set)\n",
    "\n",
    "# Note: ignore the duplicate value's and print unorder format."
   ]
  },
  {
   "cell_type": "markdown",
   "id": "182d1cda",
   "metadata": {},
   "source": [
    "### 3. sets Method"
   ]
  },
  {
   "cell_type": "markdown",
   "id": "f09ffeaf",
   "metadata": {},
   "source": [
    "##### i. set.add(element) \n",
    "\n",
    "- add a element in the set\n"
   ]
  },
  {
   "cell_type": "code",
   "execution_count": null,
   "id": "9ff6b08d",
   "metadata": {},
   "outputs": [
    {
     "name": "stdout",
     "output_type": "stream",
     "text": [
      "{100, 70, 40, 10, 80, 50, 20, 60, 30}\n"
     ]
    }
   ],
   "source": [
    "# Example_01: set.add(element)\n",
    "\n",
    "my_set = {10, 20, 30, 40, 50, 60, 70, 80}\n",
    "\n",
    "my_set.add(100)\n",
    "\n",
    "print(my_set)  # Store in unorder format"
   ]
  },
  {
   "cell_type": "code",
   "execution_count": null,
   "id": "c77fcd00",
   "metadata": {},
   "outputs": [
    {
     "name": "stdout",
     "output_type": "stream",
     "text": [
      "{100, 70, 40, 10, 80, 50, 20, 60, 30}\n"
     ]
    }
   ],
   "source": [
    "# Example_02: set.add(element)\n",
    "# try to add duplicate value\n",
    "\n",
    "my_set.add(10)\n",
    "\n",
    "print(my_set)  # here , ignore the duplicate value \n"
   ]
  },
  {
   "cell_type": "markdown",
   "id": "d7ad22dc",
   "metadata": {},
   "source": [
    "##### ii. set.remove(element) \n",
    "\n",
    "- remove the specific element in the set.\n"
   ]
  },
  {
   "cell_type": "code",
   "execution_count": 15,
   "id": "2b688cde",
   "metadata": {},
   "outputs": [
    {
     "name": "stdout",
     "output_type": "stream",
     "text": [
      "{100, 70, 10, 80, 50, 20, 60, 30}\n"
     ]
    }
   ],
   "source": [
    "# To see set\n",
    "print(my_set)"
   ]
  },
  {
   "cell_type": "code",
   "execution_count": null,
   "id": "6031a214",
   "metadata": {},
   "outputs": [],
   "source": [
    "# Example_01: set.remove(element)\n",
    "\n",
    "my_set.remove(40)\n",
    "\n",
    "print(my_set)"
   ]
  },
  {
   "cell_type": "code",
   "execution_count": null,
   "id": "7364ef4f",
   "metadata": {},
   "outputs": [
    {
     "ename": "KeyError",
     "evalue": "40",
     "output_type": "error",
     "traceback": [
      "\u001b[31m---------------------------------------------------------------------------\u001b[39m",
      "\u001b[31mKeyError\u001b[39m                                  Traceback (most recent call last)",
      "\u001b[36mCell\u001b[39m\u001b[36m \u001b[39m\u001b[32mIn[17]\u001b[39m\u001b[32m, line 4\u001b[39m\n\u001b[32m      1\u001b[39m \u001b[38;5;66;03m# Example_02: set.remove(element)\u001b[39;00m\n\u001b[32m      2\u001b[39m \u001b[38;5;66;03m# When element is not present inside the set\u001b[39;00m\n\u001b[32m----> \u001b[39m\u001b[32m4\u001b[39m \u001b[43mmy_set\u001b[49m\u001b[43m.\u001b[49m\u001b[43mremove\u001b[49m\u001b[43m(\u001b[49m\u001b[32;43m40\u001b[39;49m\u001b[43m)\u001b[49m\n\u001b[32m      6\u001b[39m \u001b[38;5;28mprint\u001b[39m(my_set)\n",
      "\u001b[31mKeyError\u001b[39m: 40"
     ]
    }
   ],
   "source": [
    "# Example_02: set.remove(element)\n",
    "# When element is not present inside the set\n",
    "\n",
    "my_set.remove(40)\n",
    "\n",
    "print(my_set)\n",
    "\n",
    "# Note : if we try to remove a elements that is not inside the set then it's generate error(KeyError)"
   ]
  },
  {
   "cell_type": "markdown",
   "id": "72580b93",
   "metadata": {},
   "source": [
    "##### iii. set.discard(element) \n",
    "\n",
    "- remove the specific element in the set if it is a member. if not memeber then is not generate error(keyError)\n"
   ]
  },
  {
   "cell_type": "code",
   "execution_count": null,
   "id": "a5ed06d3",
   "metadata": {},
   "outputs": [
    {
     "name": "stdout",
     "output_type": "stream",
     "text": [
      "{100, 70, 10, 80, 50, 20, 60, 30}\n"
     ]
    }
   ],
   "source": [
    "# To see the set\n",
    "print(my_set)"
   ]
  },
  {
   "cell_type": "code",
   "execution_count": null,
   "id": "27cfba37",
   "metadata": {},
   "outputs": [
    {
     "name": "stdout",
     "output_type": "stream",
     "text": [
      "{100, 10, 80, 50, 20, 60, 30}\n"
     ]
    }
   ],
   "source": [
    "# Example_01: set.discard(element)\n",
    "# When element is memeber in set\n",
    "\n",
    "my_set.discard(70)\n",
    "\n",
    "print(my_set)"
   ]
  },
  {
   "cell_type": "code",
   "execution_count": null,
   "id": "169b8735",
   "metadata": {},
   "outputs": [
    {
     "name": "stdout",
     "output_type": "stream",
     "text": [
      "{10, 80, 50, 20, 60, 30}\n"
     ]
    }
   ],
   "source": [
    "# Example_02: set.discard(element)\n",
    "\n",
    "# if the element is not memeber\n",
    "\n",
    "my_set.discard(100)\n",
    "\n",
    "print(my_set)\n",
    "\n",
    "# here, discared() method is not generated error."
   ]
  },
  {
   "cell_type": "markdown",
   "id": "3dbd83fc",
   "metadata": {},
   "source": [
    "##### iv. set.pop() \n",
    "\n",
    "- remove and return the random element in the list."
   ]
  },
  {
   "cell_type": "code",
   "execution_count": 23,
   "id": "79f06699",
   "metadata": {},
   "outputs": [
    {
     "name": "stdout",
     "output_type": "stream",
     "text": [
      "10\n",
      "{80, 50, 20, 60, 30}\n"
     ]
    }
   ],
   "source": [
    "# Example_01: set.pop()\n",
    "\n",
    "remove_element = my_set.pop()\n",
    "\n",
    "print(remove_element)\n",
    "\n",
    "print(my_set)"
   ]
  },
  {
   "cell_type": "markdown",
   "id": "86546f17",
   "metadata": {},
   "source": [
    "##### v. set.clear()\n",
    "\n",
    "- Remove all elements in the set"
   ]
  },
  {
   "cell_type": "code",
   "execution_count": 25,
   "id": "ec26df51",
   "metadata": {},
   "outputs": [
    {
     "name": "stdout",
     "output_type": "stream",
     "text": [
      "set()\n"
     ]
    }
   ],
   "source": [
    "# Example_01: set.clear()\n",
    "\n",
    "my_set.clear()\n",
    "\n",
    "print(my_set)"
   ]
  },
  {
   "cell_type": "markdown",
   "id": "abe9fe5e",
   "metadata": {},
   "source": [
    "### 4. Membership test \n",
    "- To check the element is memeber or not in sets.\n",
    "\n",
    "- Return a boolean value (True/False)."
   ]
  },
  {
   "cell_type": "code",
   "execution_count": 30,
   "id": "2aa4f0d6",
   "metadata": {},
   "outputs": [
    {
     "name": "stdout",
     "output_type": "stream",
     "text": [
      "True\n",
      "True\n",
      "False\n",
      "False\n",
      "True\n"
     ]
    }
   ],
   "source": [
    "# Example_01: Memebership test\n",
    "\n",
    "set_my = {10, 20, 30, 40, 50, 60, 70, 80, 90, 100}\n",
    "\n",
    "print(10 in set_my)  # True\n",
    "\n",
    "print(100 in set_my) # True\n",
    "\n",
    "print(11 in set_my) # False\n",
    "\n",
    "print(101 in set_my) # False\n",
    "\n",
    "print(80 in set_my)  # True\n",
    "\n"
   ]
  },
  {
   "cell_type": "markdown",
   "id": "fc50a05f",
   "metadata": {},
   "source": [
    "## 5. Mathematical Operation\n",
    "\n",
    "- union operation.\n",
    "\n",
    "- intersection operation.\n",
    "\n",
    "- difference operation.\n",
    "\n",
    "- Symmetric difference operation."
   ]
  },
  {
   "cell_type": "code",
   "execution_count": null,
   "id": "16830661",
   "metadata": {},
   "outputs": [
    {
     "name": "stdout",
     "output_type": "stream",
     "text": [
      "Set 1:  {50, 20, 40, 10, 60, 30}\n",
      "Set 2:  {80, 50, 70, 40, 90, 60}\n",
      "union:  {70, 40, 10, 80, 50, 20, 90, 60, 30}\n"
     ]
    }
   ],
   "source": [
    "# Example: union Operation\n",
    "\n",
    "# - Combine all sets elements without duplicate elements.\n",
    "\n",
    "set_1 = {10, 20, 30, 40, 50, 60}\n",
    "\n",
    "set_2 = {40, 50, 60, 70, 80, 90}\n",
    "\n",
    "union_set = set_1.union(set_2)\n",
    "\n",
    "print(\"Set 1: \", set_1)\n",
    "\n",
    "print(\"Set 2: \", set_2)\n",
    "\n",
    "print(\"union: \", union_set)\n",
    "\n"
   ]
  },
  {
   "cell_type": "code",
   "execution_count": null,
   "id": "218a6cff",
   "metadata": {},
   "outputs": [],
   "source": [
    "''' \n",
    "set_1 = {10, 20, 30, 40, 50, 60}\n",
    "\n",
    "set_2 = {40, 50, 60, 70, 80, 90}\n",
    "\n",
    "\n",
    "here, \n",
    "\n",
    "Total unique element = 10, 20, 30, 40, 50, 60, 70, 80, 90\n",
    "\n",
    "common element = 40, 50, 60\n",
    "\n",
    "set_1 unique element = {10, 20, 30}\n",
    "\n",
    "set_2 unique element = {70, 80, 90}\n",
    "\n",
    "'''"
   ]
  },
  {
   "cell_type": "code",
   "execution_count": 35,
   "id": "d26bc9c2",
   "metadata": {},
   "outputs": [
    {
     "name": "stdout",
     "output_type": "stream",
     "text": [
      "{40, 50, 60}\n"
     ]
    }
   ],
   "source": [
    "# Example: intersection Operation\n",
    "\n",
    "# - combines and return only common elements.\n",
    "\n",
    "set_1 = {10, 20, 30, 40, 50, 60}\n",
    "\n",
    "set_2 = {40, 50, 60, 70, 80, 90}\n",
    "\n",
    "intersection_set = set_1.intersection(set_2)\n",
    "\n",
    "print(intersection_set)"
   ]
  },
  {
   "cell_type": "code",
   "execution_count": 37,
   "id": "63a0bed2",
   "metadata": {},
   "outputs": [
    {
     "name": "stdout",
     "output_type": "stream",
     "text": [
      "{40, 50, 60}\n",
      "{80, 50, 70, 40, 90, 60}\n"
     ]
    }
   ],
   "source": [
    "# Example : intersection_update()\n",
    "# pick all common elements in first and second sets and store into first set.\n",
    "\n",
    "set_1 = {10, 20, 30, 40, 50, 60}\n",
    "\n",
    "set_2 = {40, 50, 60, 70, 80, 90}\n",
    "\n",
    "set_1.intersection_update(set_2)\n",
    "\n",
    "print(set_1)\n",
    "\n",
    "print(set_2)\n"
   ]
  },
  {
   "cell_type": "code",
   "execution_count": 38,
   "id": "d489f411",
   "metadata": {},
   "outputs": [
    {
     "name": "stdout",
     "output_type": "stream",
     "text": [
      "{40, 50, 60}\n",
      "{50, 20, 40, 10, 60, 30}\n"
     ]
    }
   ],
   "source": [
    "# Another Example : intersection_update()\n",
    "\n",
    "\n",
    "set_1 = {10, 20, 30, 40, 50, 60}\n",
    "\n",
    "set_2 = {40, 50, 60, 70, 80, 90}\n",
    "\n",
    "set_2.intersection_update(set_1)\n",
    "\n",
    "print(set_2)\n",
    "\n",
    "print(set_1)"
   ]
  },
  {
   "cell_type": "code",
   "execution_count": null,
   "id": "aec387c2",
   "metadata": {},
   "outputs": [],
   "source": [
    "''' \n",
    "set_1 = {10, 20, 30, 40, 50, 60}\n",
    "\n",
    "set_2 = {40, 50, 60, 70, 80, 90}\n",
    "\n",
    "\n",
    "here, \n",
    "\n",
    "all unique element = 10, 20, 30, 40, 50, 60, 70, 80, 90\n",
    "\n",
    "intersection element = 40, 50, 60\n",
    "\n",
    "set_01 non-intersection element = 10, 20, 30  \n",
    "\n",
    "set_02 non-intersection element = 70, 80, 90\n",
    "\n",
    "'''"
   ]
  },
  {
   "cell_type": "code",
   "execution_count": null,
   "id": "8fb8d3a3",
   "metadata": {},
   "outputs": [
    {
     "name": "stdout",
     "output_type": "stream",
     "text": [
      "{10, 20, 30}\n",
      "{80, 90, 70}\n"
     ]
    }
   ],
   "source": [
    "# Example : difference operator\n",
    "\n",
    "# Removing the intersection elements or store only non-common elements\n",
    "\n",
    "# if set_01 is first then removing all intersection elements of the set_01 and store only non-intersection elements\n",
    "\n",
    "\n",
    "set_1 = {10, 20, 30, 40, 50, 60}\n",
    "\n",
    "set_2 = {40, 50, 60, 70, 80, 90}\n",
    "\n",
    "set1_set2 = set_1.difference(set_2)  # store only non-intersection elements\n",
    "\n",
    "set2_set1 = set_2.difference(set_1)  # remove intersection elments\n",
    "\n",
    "print(set1_set2)\n",
    "\n",
    "print(set2_set1)\n"
   ]
  },
  {
   "cell_type": "code",
   "execution_count": 46,
   "id": "031fb14a",
   "metadata": {},
   "outputs": [
    {
     "name": "stdout",
     "output_type": "stream",
     "text": [
      "{50, 20, 40, 10, 60, 30}\n",
      "{80, 50, 70, 40, 90, 60}\n"
     ]
    }
   ],
   "source": [
    "## Note : But main sets are unchanged.\n",
    "\n",
    "print(set_1)\n",
    "\n",
    "print(set_2)"
   ]
  },
  {
   "cell_type": "code",
   "execution_count": 1,
   "id": "e7c427c0",
   "metadata": {},
   "outputs": [
    {
     "name": "stdout",
     "output_type": "stream",
     "text": [
      "{70, 10, 80, 20, 90, 30}\n"
     ]
    }
   ],
   "source": [
    "# Example : symmetric differnce\n",
    "\n",
    "# Remove the intersection elements and store both sets non-intersection elements\n",
    "\n",
    "set_1 = {10, 20, 30, 40, 50, 60}\n",
    "\n",
    "set_2 = {40, 50, 60, 70, 80, 90}\n",
    "\n",
    "sym_diff = set_1.symmetric_difference(set_2)\n",
    "\n",
    "print(sym_diff)  # only show the unique elements of both sets"
   ]
  },
  {
   "cell_type": "markdown",
   "id": "e5f8d55b",
   "metadata": {},
   "source": [
    "### 6. Practical Example"
   ]
  },
  {
   "cell_type": "code",
   "execution_count": 50,
   "id": "d4c9dad6",
   "metadata": {},
   "outputs": [
    {
     "name": "stdout",
     "output_type": "stream",
     "text": [
      "{1, 2, 3, 5, 6, 7, 8, 9, 10}\n"
     ]
    }
   ],
   "source": [
    "# Example_01: Given that an list\n",
    "# [1,2,3,1,5,6,2,3,9,10,5,5,6,7,8,5] print all the unique elements in this list\n",
    "\n",
    "# slove\n",
    "\n",
    "lst = [1,2,3,1,5,6,2,3,9,10,5,5,6,7,8,5]\n",
    "\n",
    "unique_element = set(lst)\n",
    "\n",
    "print(unique_element)\n"
   ]
  },
  {
   "cell_type": "code",
   "execution_count": null,
   "id": "111e463a",
   "metadata": {},
   "outputs": [
    {
     "name": "stdout",
     "output_type": "stream",
     "text": [
      "{'it', 'and', 'is', 'country', 'a', 'Bangladesh', 'beautiful', 'very', 'country,', 'small'}\n",
      "10 Unique Element in the text\n"
     ]
    }
   ],
   "source": [
    "## Example_02: Counting unique words in text\n",
    "# text = \"Bangladesh is a very small country, and it is a beautiful country\"\n",
    "\n",
    "# solve\n",
    "\n",
    "text = \"Bangladesh is a very small country, and it is a beautiful country\"\n",
    "\n",
    "words = text.split()  # split the text by spaces.\n",
    "\n",
    "count_unique = set(words)\n",
    "\n",
    "total_unique_element = len(count_unique)\n",
    "\n",
    "print(count_unique)\n",
    "\n",
    "print(total_unique_element, \"Unique Element in the text\")\n",
    "\n",
    "# total tex lenght = 12\n",
    "# here doplicate elements = 'is', 'a' "
   ]
  }
 ],
 "metadata": {
  "kernelspec": {
   "display_name": "venv",
   "language": "python",
   "name": "python3"
  },
  "language_info": {
   "codemirror_mode": {
    "name": "ipython",
    "version": 3
   },
   "file_extension": ".py",
   "mimetype": "text/x-python",
   "name": "python",
   "nbconvert_exporter": "python",
   "pygments_lexer": "ipython3",
   "version": "3.12.11"
  }
 },
 "nbformat": 4,
 "nbformat_minor": 5
}
