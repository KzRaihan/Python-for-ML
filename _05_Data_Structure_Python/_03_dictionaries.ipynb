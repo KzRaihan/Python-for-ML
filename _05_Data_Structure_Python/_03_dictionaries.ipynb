{
 "cells": [
  {
   "cell_type": "markdown",
   "id": "fbdafa2e",
   "metadata": {},
   "source": [
    "### Topic: Dictionaries in Python"
   ]
  },
  {
   "cell_type": "markdown",
   "id": "6aee71c8",
   "metadata": {},
   "source": [
    "### OUTCOMES\n",
    "\n",
    "- 1. Introduction of Dictionaries\n",
    "\n",
    "- 2. Creating Dictionaries\n",
    "\n",
    "- 3. Accessing Dictionaries Elements\n",
    "\n",
    "- 4. Modifying Dictionaries Elements\n",
    "\n",
    "- 5. Dictionaries Methods\n",
    "\n",
    "- 6. Iterating Over Dictionary\n",
    "\n",
    "- 7. Nested Dictionaries\n",
    "\n",
    "- 8. Dictionaries Comprehensions\n",
    "\n",
    "- 9. Practical Examples"
   ]
  },
  {
   "cell_type": "markdown",
   "id": "92e7fd80",
   "metadata": {},
   "source": [
    "### 1. Introduction of Dictionaries\n",
    "\n",
    "- Dictionaries are unordered , mutable collections of items that store data in key-value pairs.\n",
    "\n",
    "- key:\n",
    "  - Key must be unique and immutable (eg. int, float, str, tuple)\n",
    "\n",
    "- value:\n",
    "  - Values can be any type."
   ]
  },
  {
   "cell_type": "code",
   "execution_count": null,
   "id": "164f5f5a",
   "metadata": {},
   "outputs": [],
   "source": [
    "# Syntax of Dictionaries\n",
    "\n",
    "''' \n",
    " dictionary_name = {         #  curly braces\n",
    "\n",
    "       \"Key1\"  : value1,\n",
    "\n",
    "       \"Key2\"  : value2,\n",
    "        ...............\n",
    "        ...............\n",
    "        ................ \n",
    " }\n",
    "\n",
    "'''"
   ]
  },
  {
   "cell_type": "markdown",
   "id": "9de7f629",
   "metadata": {},
   "source": [
    "### 2. Creating Dictionaries"
   ]
  },
  {
   "cell_type": "code",
   "execution_count": 3,
   "id": "a970f640",
   "metadata": {},
   "outputs": [
    {
     "name": "stdout",
     "output_type": "stream",
     "text": [
      "{}\n",
      "<class 'dict'>\n",
      "second way to create null or empty dictionary\n",
      "{}\n",
      "<class 'dict'>\n"
     ]
    }
   ],
   "source": [
    "# Create Empty or null Dictionary\n",
    "\n",
    "# firs way:\n",
    "empty_dic = {}\n",
    "\n",
    "print(empty_dic)\n",
    "\n",
    "print(type(empty_dic))\n",
    "\n",
    "\n",
    "print(\"second way to create null or empty dictionary\")\n",
    "# Second way:\n",
    "\n",
    "null_dic = dict()\n",
    "\n",
    "print(null_dic)\n",
    "\n",
    "print(type(null_dic))"
   ]
  },
  {
   "cell_type": "code",
   "execution_count": 121,
   "id": "ec194a09",
   "metadata": {},
   "outputs": [
    {
     "name": "stdout",
     "output_type": "stream",
     "text": [
      "{'name': 'KzRaihan', 'age': 24, 'cgpa': 3.85, 'is_student': True}\n",
      "<class 'dict'>\n"
     ]
    }
   ],
   "source": [
    "# Example_01: Creating dictionary\n",
    "\n",
    "student = {\n",
    "\n",
    "    \"name\": \"KzRaihan\",\n",
    "\n",
    "    \"age\" : 24,\n",
    "\n",
    "    \"cgpa\" : 3.85,\n",
    "\n",
    "    \"is_student\": True,\n",
    "}\n",
    "\n",
    "print(student)\n",
    "\n",
    "print(type(student))"
   ]
  },
  {
   "cell_type": "code",
   "execution_count": null,
   "id": "cb172d4f",
   "metadata": {},
   "outputs": [
    {
     "name": "stdout",
     "output_type": "stream",
     "text": [
      "{'name': 'KzRaihan', 10: 'Year', 3.14: 'PI value', 'is_adult': True, <class 'tuple'>: (10, 20, 30, 40), 'marks': [60, 70, 80, 90]}\n"
     ]
    }
   ],
   "source": [
    "# Example_02: Creating dictionary for different key data type\n",
    "\n",
    "student = {\n",
    "\n",
    "    \"name\": \"KzRaihan\",\n",
    "    \n",
    "    10  : \"Year\",\n",
    "    \n",
    "    3.14 : \"PI value\",\n",
    "\n",
    "    \"is_adult\" : True,\n",
    "\n",
    "    tuple : (10, 20, 30, 40),\n",
    "\n",
    "    \"marks\": [60, 70, 80, 90]\n",
    "\n",
    "}\n",
    "\n",
    "print(student)\n"
   ]
  },
  {
   "cell_type": "code",
   "execution_count": 124,
   "id": "d09cd9a6",
   "metadata": {},
   "outputs": [
    {
     "ename": "TypeError",
     "evalue": "unhashable type: 'list'",
     "output_type": "error",
     "traceback": [
      "\u001b[31m---------------------------------------------------------------------------\u001b[39m",
      "\u001b[31mTypeError\u001b[39m                                 Traceback (most recent call last)",
      "\u001b[36mCell\u001b[39m\u001b[36m \u001b[39m\u001b[32mIn[124]\u001b[39m\u001b[32m, line 3\u001b[39m\n\u001b[32m      1\u001b[39m \u001b[38;5;66;03m# Example_03: Creating dictionary for different types of key values.\u001b[39;00m\n\u001b[32m----> \u001b[39m\u001b[32m3\u001b[39m student1 = {\n\u001b[32m      4\u001b[39m \n\u001b[32m      5\u001b[39m     \u001b[33m\"\u001b[39m\u001b[33mname\u001b[39m\u001b[33m\"\u001b[39m: \u001b[33m\"\u001b[39m\u001b[33mKzRaihan\u001b[39m\u001b[33m\"\u001b[39m,\n\u001b[32m      6\u001b[39m \n\u001b[32m      7\u001b[39m     \u001b[32m10\u001b[39m  : \u001b[33m\"\u001b[39m\u001b[33mYear\u001b[39m\u001b[33m\"\u001b[39m,\n\u001b[32m      8\u001b[39m \n\u001b[32m      9\u001b[39m     \u001b[32m3.14\u001b[39m : \u001b[33m\"\u001b[39m\u001b[33mPI value\u001b[39m\u001b[33m\"\u001b[39m,\n\u001b[32m     10\u001b[39m \n\u001b[32m     11\u001b[39m     \u001b[33m\"\u001b[39m\u001b[33mis_adult\u001b[39m\u001b[33m\"\u001b[39m : \u001b[38;5;28;01mTrue\u001b[39;00m,\n\u001b[32m     12\u001b[39m \n\u001b[32m     13\u001b[39m     \u001b[38;5;28;01mFalse\u001b[39;00m : \u001b[32m0\u001b[39m,\n\u001b[32m     14\u001b[39m \n\u001b[32m     15\u001b[39m     (\u001b[32m10\u001b[39m,\u001b[32m20\u001b[39m,\u001b[32m30\u001b[39m) : (\u001b[32m10\u001b[39m, \u001b[32m20\u001b[39m, \u001b[32m30\u001b[39m, \u001b[32m40\u001b[39m),\n\u001b[32m     16\u001b[39m \n\u001b[32m     17\u001b[39m     [\u001b[32m60\u001b[39m, \u001b[32m70\u001b[39m] : [\u001b[32m60\u001b[39m, \u001b[32m70\u001b[39m, \u001b[32m80\u001b[39m, \u001b[32m90\u001b[39m]  \u001b[38;5;66;03m# here, is generate errors\u001b[39;00m\n\u001b[32m     18\u001b[39m \n\u001b[32m     19\u001b[39m }\n\u001b[32m     21\u001b[39m \u001b[38;5;28mprint\u001b[39m(student1)\n\u001b[32m     23\u001b[39m \u001b[38;5;66;03m## Note : Key must be immutable  and value can any type\u001b[39;00m\n\u001b[32m     24\u001b[39m \u001b[38;5;66;03m# most of time key types are string.\u001b[39;00m\n",
      "\u001b[31mTypeError\u001b[39m: unhashable type: 'list'"
     ]
    }
   ],
   "source": [
    "# Example_03: Creating dictionary for different types of key values.\n",
    "\n",
    "student1 = {\n",
    "\n",
    "    \"name\": \"KzRaihan\",\n",
    "    \n",
    "    10  : \"Year\",\n",
    "    \n",
    "    3.14 : \"PI value\",\n",
    "\n",
    "    \"is_adult\" : True,\n",
    "\n",
    "    False : 0,\n",
    "\n",
    "    (10,20,30) : (10, 20, 30, 40),\n",
    "\n",
    "    [60, 70] : [60, 70, 80, 90]  # here, is generate errors\n",
    "\n",
    "}\n",
    "\n",
    "print(student1)\n",
    "\n",
    "## Note : Key must be immutable  and value can any type\n",
    "# most of time key types are string."
   ]
  },
  {
   "cell_type": "code",
   "execution_count": 129,
   "id": "663a5e73",
   "metadata": {},
   "outputs": [
    {
     "name": "stdout",
     "output_type": "stream",
     "text": [
      "{'name': 'Raihan', 'age': 24, 'Height': 5.6, 'cpga': 3.85, 'marks': [85, 90, 95], 'is_adult': True}\n"
     ]
    }
   ],
   "source": [
    "# Example_04: Creating Actual dictionary \n",
    "\n",
    "dic_student = {\n",
    "\n",
    "    \"name\" : \"Raihan\",\n",
    "\n",
    "    \"age\"  : 24,\n",
    "\n",
    "    \"Height\": 5.6,\n",
    "\n",
    "    \"cpga\" : 3.85,\n",
    "\n",
    "    \"marks\" : [85, 90, 95],\n",
    "\n",
    "    \"is_adult\" : True,\n",
    "\n",
    "    # \"name\"  : \"KzRaihan\"  # key value must be unique otherwise it's update only value.\n",
    "\n",
    "}\n",
    "\n",
    "print(dic_student)\n",
    "\n",
    "# Note: if we assign duplicate key then first key value is update by the 2nd assigned key value."
   ]
  },
  {
   "cell_type": "markdown",
   "id": "343f916d",
   "metadata": {},
   "source": [
    "### 3. Accessing Dictionaries Elements"
   ]
  },
  {
   "cell_type": "code",
   "execution_count": 130,
   "id": "ecca5eef",
   "metadata": {},
   "outputs": [
    {
     "name": "stdout",
     "output_type": "stream",
     "text": [
      "{'name': 'Raihan', 'age': 24, 'Height': 5.6, 'cpga': 3.85, 'marks': [85, 90, 95], 'is_adult': True}\n",
      "[85, 90, 95]\n",
      "Raihan\n",
      "24\n"
     ]
    }
   ],
   "source": [
    "# Example_01: Accessing dictionary elements by using key\n",
    "\n",
    "print(dic_student)\n",
    "\n",
    "marks_value = dic_student[\"marks\"] # marks = key\n",
    "\n",
    "print(marks_value)\n",
    "\n",
    "\n",
    "# another way\n",
    "\n",
    "print(dic_student[\"name\"])   # here name is the key of dic_student dictionary\n",
    "\n",
    "print(dic_student[\"age\"])\n",
    "\n"
   ]
  },
  {
   "cell_type": "code",
   "execution_count": null,
   "id": "ee685f28",
   "metadata": {},
   "outputs": [
    {
     "ename": "KeyError",
     "evalue": "'last_name'",
     "output_type": "error",
     "traceback": [
      "\u001b[31m---------------------------------------------------------------------------\u001b[39m",
      "\u001b[31mKeyError\u001b[39m                                  Traceback (most recent call last)",
      "\u001b[36mCell\u001b[39m\u001b[36m \u001b[39m\u001b[32mIn[23]\u001b[39m\u001b[32m, line 5\u001b[39m\n\u001b[32m      1\u001b[39m \u001b[38;5;66;03m# Example_02: Accessing dictionary elements by using key\u001b[39;00m\n\u001b[32m      2\u001b[39m \n\u001b[32m      3\u001b[39m \u001b[38;5;66;03m# if the key is not present then it's display error(KeyEroor)\u001b[39;00m\n\u001b[32m----> \u001b[39m\u001b[32m5\u001b[39m \u001b[38;5;28mprint\u001b[39m(\u001b[43mdic_student\u001b[49m\u001b[43m[\u001b[49m\u001b[33;43m\"\u001b[39;49m\u001b[33;43mlast_name\u001b[39;49m\u001b[33;43m\"\u001b[39;49m\u001b[43m]\u001b[49m)  \u001b[38;5;66;03m# last_name is not the key of dic_student\u001b[39;00m\n",
      "\u001b[31mKeyError\u001b[39m: 'last_name'"
     ]
    }
   ],
   "source": [
    "# Example_02: Accessing dictionary elements by using key\n",
    "\n",
    "# if the key is not present then it's display error(KeyError)\n",
    "\n",
    "print(dic_student[\"last_name\"])  # last_name is not the key of dic_student\n"
   ]
  },
  {
   "cell_type": "markdown",
   "id": "101944a6",
   "metadata": {},
   "source": [
    "### 4. Modifying Dictionaries Elements\n",
    "\n",
    "- Dictionary are mutable, so we can add, update and delete the elements"
   ]
  },
  {
   "cell_type": "code",
   "execution_count": 131,
   "id": "3db96225",
   "metadata": {},
   "outputs": [
    {
     "name": "stdout",
     "output_type": "stream",
     "text": [
      "{'name': 'Raihan', 'age': 24, 'Height': 5.6, 'cpga': 3.85, 'marks': [85, 90, 95], 'is_adult': True}\n",
      "{'name': 'Raihan', 'age': 24, 'Height': 5.6, 'cpga': 3.85, 'marks': [85, 90, 95], 'is_adult': True, 'gender': 'Male'}\n"
     ]
    }
   ],
   "source": [
    "# Example_01: Modifying Dictionaries Elements\n",
    "\n",
    "print(dic_student)\n",
    "\n",
    "# add an element \n",
    "dic_student[\"gender\"] = \"Male\"\n",
    "\n",
    "print(dic_student)\n",
    "\n",
    "# Note: when we add sometimes to the dic then the key must be unique."
   ]
  },
  {
   "cell_type": "code",
   "execution_count": 132,
   "id": "d453120c",
   "metadata": {},
   "outputs": [
    {
     "name": "stdout",
     "output_type": "stream",
     "text": [
      "{'name': 'Raihan', 'age': 25, 'Height': 5.6, 'cpga': 3.85, 'marks': [85, 90, 95], 'is_adult': True, 'gender': 'Male'}\n"
     ]
    }
   ],
   "source": [
    "# Example_02: Modifying Dictionaries Elements\n",
    "\n",
    "# update an element \n",
    "dic_student[\"age\"] = 25\n",
    "\n",
    "print(dic_student)\n"
   ]
  },
  {
   "cell_type": "code",
   "execution_count": 133,
   "id": "3c189b4e",
   "metadata": {},
   "outputs": [
    {
     "name": "stdout",
     "output_type": "stream",
     "text": [
      "{'name': 'Raihan', 'age': 25, 'Height': 5.6, 'cpga': 3.85, 'is_adult': True, 'gender': 'Male'}\n"
     ]
    }
   ],
   "source": [
    "# Example_03: Modifying Dictionaries Elements\n",
    "\n",
    "# delete an element\n",
    "\n",
    "del dic_student[\"marks\"]\n",
    "\n",
    "print(dic_student)\n"
   ]
  },
  {
   "cell_type": "code",
   "execution_count": null,
   "id": "ba11c6c0",
   "metadata": {},
   "outputs": [
    {
     "ename": "KeyError",
     "evalue": "'first_name'",
     "output_type": "error",
     "traceback": [
      "\u001b[31m---------------------------------------------------------------------------\u001b[39m",
      "\u001b[31mKeyError\u001b[39m                                  Traceback (most recent call last)",
      "\u001b[36mCell\u001b[39m\u001b[36m \u001b[39m\u001b[32mIn[28]\u001b[39m\u001b[32m, line 1\u001b[39m\n\u001b[32m----> \u001b[39m\u001b[32m1\u001b[39m \u001b[38;5;28;01mdel\u001b[39;00m \u001b[43mdic_student\u001b[49m\u001b[43m[\u001b[49m\u001b[33;43m\"\u001b[39;49m\u001b[33;43mfirst_name\u001b[39;49m\u001b[33;43m\"\u001b[39;49m\u001b[43m]\u001b[49m\n",
      "\u001b[31mKeyError\u001b[39m: 'first_name'"
     ]
    }
   ],
   "source": [
    "# when we try to delete items that is not inside the dictionary then it's will generate errors(KeyError)\n",
    "del dic_student[\"first_name\"]"
   ]
  },
  {
   "cell_type": "markdown",
   "id": "cf1d1f40",
   "metadata": {},
   "source": [
    "### 5. Dictionaries Methods"
   ]
  },
  {
   "cell_type": "code",
   "execution_count": 134,
   "id": "37f30d97",
   "metadata": {},
   "outputs": [
    {
     "name": "stdout",
     "output_type": "stream",
     "text": [
      "{'name': 'Raihan', 'age': 25, 'Height': 5.6, 'cpga': 3.85, 'is_adult': True, 'gender': 'Male'}\n",
      " dict_keys(['name', 'age', 'Height', 'cpga', 'is_adult', 'gender'])\n"
     ]
    }
   ],
   "source": [
    "# Example_01: Dictionaries Methods\n",
    "\n",
    "# 1st Method: dic.keys() \n",
    "# Return all the keys that available inside the dictionary.\n",
    "\n",
    "print(dic_student)\n",
    "\n",
    "keys = dic_student.keys()\n",
    "\n",
    "print(f\" {keys}\")"
   ]
  },
  {
   "cell_type": "code",
   "execution_count": null,
   "id": "74a6413c",
   "metadata": {},
   "outputs": [
    {
     "name": "stdout",
     "output_type": "stream",
     "text": [
      "{'name': 'KzRaihan', 'age': 25, 'Height': 5.6, 'cpga': 3.85, 'is_adult': True, 'gender': 'Male'}\n",
      "dict_values(['KzRaihan', 25, 5.6, 3.85, True, 'Male'])\n"
     ]
    }
   ],
   "source": [
    "# Example_02: Dictionaries Methods\n",
    "\n",
    "# 2nd Method: dic.values() \n",
    "# Return all the key that available inside the dictionary.\n",
    "\n",
    "print(dic_student)\n",
    "\n",
    "values = dic_student.values()\n",
    "\n",
    "print(values)"
   ]
  },
  {
   "cell_type": "code",
   "execution_count": 39,
   "id": "29311ece",
   "metadata": {},
   "outputs": [
    {
     "name": "stdout",
     "output_type": "stream",
     "text": [
      "dict_items([('name', 'KzRaihan'), ('age', 25), ('Height', 5.6), ('cpga', 3.85), ('is_adult', True), ('gender', 'Male')])\n",
      "{'name': 'KzRaihan', 'age': 25, 'Height': 5.6, 'cpga': 3.85, 'is_adult': True, 'gender': 'Male'}\n"
     ]
    }
   ],
   "source": [
    "# Example_03: Dictionaries Methods\n",
    "\n",
    "# 3th Method: dic.items() \n",
    "# Return all the key-value pair that available inside the dictionary.\n",
    "\n",
    "items = dic_student.items()\n",
    "\n",
    "print(items)\n",
    "\n",
    "print(dic_student)"
   ]
  },
  {
   "cell_type": "code",
   "execution_count": 136,
   "id": "38a26416",
   "metadata": {},
   "outputs": [
    {
     "name": "stdout",
     "output_type": "stream",
     "text": [
      "Raihan\n",
      "25\n"
     ]
    }
   ],
   "source": [
    "# Example_04: Dictionaries Methods\n",
    "\n",
    "# 4th Method: dic.get() \n",
    "# Return all value of the key that inside the dictionary.\n",
    "\n",
    "value = dic_student.get(\"name\")\n",
    "print(value)\n",
    "\n",
    "print(dic_student.get(\"age\"))\n",
    "\n",
    "\n",
    "\n"
   ]
  },
  {
   "cell_type": "markdown",
   "id": "0a2d1f38",
   "metadata": {},
   "source": [
    "#### What is the differnce between dic[\"key\"] and dic.get(\"key\")\n",
    "\n",
    "-  dic[\"key\"]\n",
    "   - when use this format then if the key is not present in the dictionary then it's will generate erros\n",
    "   \n",
    "   - For that, the interpreter can't go to the below code.\n",
    "\n",
    "\n",
    "- dic.get(\"key\")\n",
    "   \n",
    "   - When use this method then if the key is not present in the dic then it's will not generate error.(keyError).\n",
    "\n",
    "   - If the key is not present then it's return defalut value (Null) and it's default vlaue we can modify.\n",
    "\n",
    "   - for that, the interpreter go to the below code"
   ]
  },
  {
   "cell_type": "code",
   "execution_count": null,
   "id": "2c187c59",
   "metadata": {},
   "outputs": [
    {
     "name": "stdout",
     "output_type": "stream",
     "text": [
      "{'name': 'KzRaihan', 'age': 25, 'Height': 5.6, 'cpga': 3.85, 'is_adult': True, 'gender': 'Male'}\n"
     ]
    },
    {
     "ename": "KeyError",
     "evalue": "'last_name'",
     "output_type": "error",
     "traceback": [
      "\u001b[31m---------------------------------------------------------------------------\u001b[39m",
      "\u001b[31mKeyError\u001b[39m                                  Traceback (most recent call last)",
      "\u001b[36mCell\u001b[39m\u001b[36m \u001b[39m\u001b[32mIn[45]\u001b[39m\u001b[32m, line 5\u001b[39m\n\u001b[32m      1\u001b[39m \u001b[38;5;66;03m# 1st try to access value which is not prsent\u001b[39;00m\n\u001b[32m      3\u001b[39m \u001b[38;5;28mprint\u001b[39m(dic_student)\n\u001b[32m----> \u001b[39m\u001b[32m5\u001b[39m absent_value = \u001b[43mdic_student\u001b[49m\u001b[43m[\u001b[49m\u001b[33;43m\"\u001b[39;49m\u001b[33;43mlast_name\u001b[39;49m\u001b[33;43m\"\u001b[39;49m\u001b[43m]\u001b[49m\n\u001b[32m      7\u001b[39m \u001b[38;5;28mprint\u001b[39m(absent_value)\n",
      "\u001b[31mKeyError\u001b[39m: 'last_name'"
     ]
    }
   ],
   "source": [
    "# 1st try to access value which is not prsent\n",
    "\n",
    "print(dic_student)\n",
    "\n",
    "absent_value = dic_student[\"last_name\"]\n",
    "\n",
    "print(absent_value)\n",
    "\n",
    "\n",
    "# hence,  below we are doing very useful work "
   ]
  },
  {
   "cell_type": "code",
   "execution_count": 140,
   "id": "ffc6ceb4",
   "metadata": {},
   "outputs": [
    {
     "name": "stdout",
     "output_type": "stream",
     "text": [
      "None\n",
      "{'name': 'Raihan', 'age': 25, 'Height': 5.6, 'cpga': 3.85, 'is_adult': True, 'gender': 'Male'}\n"
     ]
    }
   ],
   "source": [
    "# Example_05: Dictionaries Methods\n",
    "\n",
    "# 4th Method: dic.get() \n",
    "# for absent key\n",
    "\n",
    "value = dic_student.get(\"last_name\")\n",
    "\n",
    "print(value)\n",
    "\n",
    "print(dic_student)"
   ]
  },
  {
   "cell_type": "code",
   "execution_count": 139,
   "id": "436cd2a8",
   "metadata": {},
   "outputs": [
    {
     "name": "stdout",
     "output_type": "stream",
     "text": [
      "25\n"
     ]
    }
   ],
   "source": [
    "# we can modify the defalut (None) value\n",
    "\n",
    "value = dic_student.get(\"age\", \"NOT Available\")\n",
    "\n",
    "print(value)\n"
   ]
  },
  {
   "cell_type": "code",
   "execution_count": 143,
   "id": "5837965f",
   "metadata": {},
   "outputs": [
    {
     "name": "stdout",
     "output_type": "stream",
     "text": [
      "{'name': 'Raihan', 'age': 26, 'Height': 5.6, 'cpga': 3.85, 'is_adult': True, 'gender': 'Male'}\n",
      "{'name': 'Raihan', 'age': 26, 'Height': 5.6, 'cpga': 3.85, 'is_adult': True, 'gender': 'Male'}\n"
     ]
    }
   ],
   "source": [
    "# Example_06: Dictionaries Methods\n",
    "\n",
    "# 5th Method: dic.copy() \n",
    "# Shallow copy (copy all the elements that inside the dictionary).\n",
    "\n",
    "\n",
    "# first in genearl wayt to copy dictionary items\n",
    "\n",
    "dic_copy = dic_student\n",
    "\n",
    "print(dic_copy)\n",
    "\n",
    "print(dic_student)\n"
   ]
  },
  {
   "cell_type": "code",
   "execution_count": 144,
   "id": "0259f9a8",
   "metadata": {},
   "outputs": [
    {
     "name": "stdout",
     "output_type": "stream",
     "text": [
      "{'name': 'Raihan', 'age': 26, 'Height': 5.6, 'cpga': 3.85, 'is_adult': True, 'gender': 'Male'}\n",
      "{'name': 'Raihan', 'age': 26, 'Height': 5.6, 'cpga': 3.85, 'is_adult': True, 'gender': 'Male'}\n"
     ]
    }
   ],
   "source": [
    "# Problem arise : if we update the mian/copy dictionary then it's also update the copy/main dictionary\n",
    "\n",
    "dic_student[\"age\"] = 26\n",
    "\n",
    "print(dic_student)\n",
    "\n",
    "print(dic_copy)   # here also change the value "
   ]
  },
  {
   "cell_type": "code",
   "execution_count": 146,
   "id": "d8bc4733",
   "metadata": {},
   "outputs": [
    {
     "name": "stdout",
     "output_type": "stream",
     "text": [
      "{'name': 'KzRaihan', 'age': 26, 'Height': 5.6, 'cpga': 3.85, 'is_adult': True, 'gender': 'Male'}\n",
      "{'name': 'KzRaihan', 'age': 26, 'Height': 5.6, 'cpga': 3.85, 'is_adult': True, 'gender': 'Male'}\n"
     ]
    }
   ],
   "source": [
    "dic_student[\"name\"] = \"KzRaihan\"\n",
    "print(dic_student)\n",
    "print(dic_copy)"
   ]
  },
  {
   "cell_type": "code",
   "execution_count": 147,
   "id": "a8a98c47",
   "metadata": {},
   "outputs": [
    {
     "name": "stdout",
     "output_type": "stream",
     "text": [
      "{'name': 'KzRaihan', 'age': 26, 'Height': 5.6, 'cpga': 3.85, 'is_adult': True, 'gender': 'Male'}\n",
      "{'name': 'KzRaihan', 'age': 26, 'Height': 5.6, 'cpga': 3.85, 'is_adult': True, 'gender': 'Male'}\n"
     ]
    }
   ],
   "source": [
    "# Solve this problem using shallow copy or dic.copy() method.\n",
    "\n",
    "# Apply shllow copy\n",
    "\n",
    "shallow_copy = dic_student.copy()\n",
    "\n",
    "print(shallow_copy)\n",
    "print(dic_student)"
   ]
  },
  {
   "cell_type": "code",
   "execution_count": 148,
   "id": "839d223c",
   "metadata": {},
   "outputs": [
    {
     "name": "stdout",
     "output_type": "stream",
     "text": [
      "{'name': 'Kz', 'age': 26, 'Height': 5.6, 'cpga': 3.85, 'is_adult': True, 'gender': 'Male'}\n"
     ]
    }
   ],
   "source": [
    "# modify the main dictionary\n",
    "dic_student[\"name\"] = \"Kz\"\n",
    "\n",
    "print(dic_student)\n",
    "\n"
   ]
  },
  {
   "cell_type": "code",
   "execution_count": 150,
   "id": "7aba21b0",
   "metadata": {},
   "outputs": [
    {
     "name": "stdout",
     "output_type": "stream",
     "text": [
      "{'name': 'KzRaihan', 'age': 26, 'Height': 5.6, 'cpga': 3.85, 'is_adult': True, 'gender': 'Male'}\n"
     ]
    }
   ],
   "source": [
    "# print the shallow copy\n",
    "\n",
    "print(shallow_copy)  # here, is no change \n",
    "\n",
    "# Note : Shallow copy provides different memory location whnever we change one variable(dic) then it's not impact the other(variable, dic)"
   ]
  },
  {
   "cell_type": "code",
   "execution_count": 152,
   "id": "1bc034d0",
   "metadata": {},
   "outputs": [
    {
     "name": "stdout",
     "output_type": "stream",
     "text": [
      "{'name': 'Kz', 'age': 26, 'Height': 5.6, 'cpga': 3.85, 'is_adult': True, 'gender': 'Male'}\n",
      "{'name': 'Kz', 'age': 26, 'Height': 5.6, 'cpga': 3.85, 'is_adult': True, 'gender': 'Male'}\n",
      "{'name': 'KzRaihan', 'age': 26, 'Height': 5.6, 'cpga': 3.85, 'is_adult': True, 'gender': 'Male'}\n"
     ]
    }
   ],
   "source": [
    "print(dic_student)\n",
    "\n",
    "print(dic_copy)\n",
    "\n",
    "print(shallow_copy)"
   ]
  },
  {
   "cell_type": "code",
   "execution_count": 153,
   "id": "efad4657",
   "metadata": {},
   "outputs": [
    {
     "name": "stdout",
     "output_type": "stream",
     "text": [
      "{'name': 'Kamruzzaman', 'age': 26, 'Height': 5.6, 'cpga': 3.85, 'is_adult': True, 'gender': 'Male'}\n"
     ]
    }
   ],
   "source": [
    "dic_copy[\"name\"] = \"Kamruzzaman\" # here, one change to impact another\n",
    "\n",
    "print(dic_copy)"
   ]
  },
  {
   "cell_type": "code",
   "execution_count": 155,
   "id": "a6006bf0",
   "metadata": {},
   "outputs": [
    {
     "name": "stdout",
     "output_type": "stream",
     "text": [
      "{'name': 'Kamruzzaman', 'age': 26, 'Height': 5.6, 'cpga': 3.85, 'is_adult': True, 'gender': 'Male'}\n",
      "{'name': 'KzRaihan', 'age': 26, 'Height': 5.6, 'cpga': 3.85, 'is_adult': True, 'gender': 'Male'}\n"
     ]
    }
   ],
   "source": [
    "print(dic_student)\n",
    "\n",
    "print(shallow_copy)"
   ]
  },
  {
   "cell_type": "code",
   "execution_count": 156,
   "id": "162f7330",
   "metadata": {},
   "outputs": [
    {
     "name": "stdout",
     "output_type": "stream",
     "text": [
      "{'name': 'Kamruzzaman', 'age': 26, 'Height': 5.6, 'cpga': 3.85, 'is_adult': True, 'gender': 'Male'}\n",
      "{'name': 'Kamruzzaman', 'age': 30, 'Height': 5.6, 'cpga': 3.85, 'is_adult': True, 'gender': 'Male'}\n"
     ]
    }
   ],
   "source": [
    "# Example_07: Dictionaries Methods\n",
    "\n",
    "# 6th Method: dic.update(dic) \n",
    "# update the dictionary or insert the specific items to the dictionary\n",
    "\n",
    "\n",
    "# first in genearl way to copy dictionary items\n",
    "\n",
    "# update an element \n",
    "\n",
    "print(dic_student)\n",
    "\n",
    "dic_student[\"age\"] = 30\n",
    "\n",
    "print(dic_student)\n"
   ]
  },
  {
   "cell_type": "code",
   "execution_count": 157,
   "id": "1435f263",
   "metadata": {},
   "outputs": [
    {
     "name": "stdout",
     "output_type": "stream",
     "text": [
      "{'name': 'Kamruzzaman', 'age': 30, 'Height': 5.6, 'cpga': 3.85, 'is_adult': True, 'gender': 'Male', 'last_name': 'Raihan'}\n"
     ]
    }
   ],
   "source": [
    "# using dic.update(dic)\n",
    "\n",
    "# 1st way insert the element\n",
    "\n",
    "dic_student.update({\"last_name\": \"Raihan\"})\n",
    "\n",
    "print(dic_student)\n",
    "\n"
   ]
  },
  {
   "cell_type": "code",
   "execution_count": 161,
   "id": "0eaebcaf",
   "metadata": {},
   "outputs": [
    {
     "name": "stdout",
     "output_type": "stream",
     "text": [
      "{'Address': 'Dhaka', 'Email ': 'kamruzzamanraihan@gmail.com'}\n",
      "{'name': 'Kamruzzaman', 'age': 32, 'Height': 5.6, 'cpga': 3.85, 'is_adult': True, 'gender': 'Male', 'last_name': 'Raihan', 'Address': 'Dhaka', 'Email ': 'kamruzzamanraihan@gmail.com'}\n"
     ]
    }
   ],
   "source": [
    "# 2nd way to add another dictionary\n",
    "\n",
    "new_info = {\n",
    "    \"Address\": \"Dhaka\",\n",
    "    \"Email \" : \"kamruzzamanraihan@gmail.com\"\n",
    "    }\n",
    "\n",
    "\n",
    "dic_student.update(new_info)\n",
    "\n",
    "print(new_info)\n",
    "\n",
    "print(dic_student)\n",
    "\n",
    "#### Note : if the key is duplicate then only value is update but key is not add or update."
   ]
  },
  {
   "cell_type": "markdown",
   "id": "a82e7270",
   "metadata": {},
   "source": [
    "### 6. Iterating Over Dictionary\n",
    "\n",
    "- we can use to loop to iteration."
   ]
  },
  {
   "cell_type": "code",
   "execution_count": 84,
   "id": "e826a8bf",
   "metadata": {},
   "outputs": [
    {
     "name": "stdout",
     "output_type": "stream",
     "text": [
      "name\n",
      "age\n",
      "Height\n",
      "cpga\n",
      "is_adult\n",
      "gender\n",
      "last_name\n",
      "Address\n",
      "Email \n"
     ]
    }
   ],
   "source": [
    "# Example_01: Iteration over keys\n",
    "\n",
    "for keys in dic_student.keys():\n",
    "    print(keys)\n"
   ]
  },
  {
   "cell_type": "code",
   "execution_count": null,
   "id": "741f0e38",
   "metadata": {},
   "outputs": [
    {
     "name": "stdout",
     "output_type": "stream",
     "text": [
      "Kamruzzaman\n",
      "30\n",
      "5.6\n",
      "3.85\n",
      "True\n",
      "Male\n",
      "Raihan\n",
      "Dhaka\n",
      "kamruzzamanraihan@gmail.com\n"
     ]
    }
   ],
   "source": [
    "# Example_02: Iteration over values\n",
    "\n",
    "for values in dic_student.values():\n",
    "    print(values)\n"
   ]
  },
  {
   "cell_type": "code",
   "execution_count": 89,
   "id": "e1e2459a",
   "metadata": {},
   "outputs": [
    {
     "name": "stdout",
     "output_type": "stream",
     "text": [
      "keys : name and values : Kamruzzaman\n",
      "keys : age and values : 30\n",
      "keys : Height and values : 5.6\n",
      "keys : cpga and values : 3.85\n",
      "keys : is_adult and values : True\n",
      "keys : gender and values : Male\n",
      "keys : last_name and values : Raihan\n",
      "keys : Address and values : Dhaka\n",
      "keys : Email  and values : kamruzzamanraihan@gmail.com\n"
     ]
    }
   ],
   "source": [
    "# Example_03: Iteration over key-value pairs\n",
    "\n",
    "for keys, values in dic_student.items():\n",
    "    print(f\"keys : {keys} and values : {values}\")\n"
   ]
  },
  {
   "cell_type": "markdown",
   "id": "d0440484",
   "metadata": {},
   "source": [
    "### 7. Nested Dictionaries\n",
    "\n",
    "- Dictionary inside another dictionaries"
   ]
  },
  {
   "cell_type": "code",
   "execution_count": null,
   "id": "90cb76bc",
   "metadata": {},
   "outputs": [],
   "source": [
    "# Syntax of Nested Dictionaries\n",
    "\n",
    "''' \n",
    "outter_dic ={\n",
    "\n",
    "    # outter dic body (have key and value pairs)\n",
    "\n",
    "    inner_dic : {\n",
    "        \n",
    "        # bdy of inner dic (which contain key and value pairs)\n",
    "     \n",
    "    \n",
    "    }, # end of inner dic\n",
    "\n",
    "\n",
    "# outter dic body\n",
    "\n",
    "} # end of outter dic\n",
    "\n",
    "'''"
   ]
  },
  {
   "cell_type": "code",
   "execution_count": 110,
   "id": "64a70854",
   "metadata": {},
   "outputs": [
    {
     "name": "stdout",
     "output_type": "stream",
     "text": [
      "{'Info': 'CSE Student', 'student1': {'name': 'Kz', 'sesemester': 4, 'course': 'Python'}, 'student2': {'name': 'Raihan', 'semester': 3, 'course': 'Java'}, 'course_free': 2999.9}\n",
      "CSE Student\n",
      "{'name': 'Kz', 'sesemester': 4, 'course': 'Python'}\n",
      "{'name': 'Raihan', 'semester': 3, 'course': 'Java'}\n",
      "Kz\n"
     ]
    }
   ],
   "source": [
    "university = {     # university = outter dictionary\n",
    "\n",
    "    \"Info\" : \"CSE Student\", \n",
    "\n",
    "    \"student1\" : {         # student1 = inner dictionary\n",
    "        \"name\" : \"Kz\", \n",
    "        \"sesemester\"  : 4,\n",
    "        \"course\": \"Python\"\n",
    "    },\n",
    "\n",
    "    \"student2\": {           # student2 = inner dictionary\n",
    "        \"name\" : \"Raihan\", \n",
    "        \"semester\": 3,\n",
    "        \"course\" : \"Java\"\n",
    "    },\n",
    "\n",
    "\n",
    "    \"course_free\" : 2999.90\n",
    "\n",
    "}\n",
    "\n",
    "print(university)\n",
    "\n",
    "print(university[\"Info\"])\n",
    "\n",
    "print(university[\"student1\"]) # only print the student1 inner dictionary key-value paris\n",
    "\n",
    "print(university[\"student2\"]) # only print the student2 inner dictionary key-value paris\n",
    "\n",
    "print(university[\"student1\"][\"name\"]) # print the student1 name key value"
   ]
  },
  {
   "cell_type": "code",
   "execution_count": 111,
   "id": "d47eabb9",
   "metadata": {},
   "outputs": [
    {
     "name": "stdout",
     "output_type": "stream",
     "text": [
      "Info, CSE Student\n",
      "student1, {'name': 'Kz', 'sesemester': 4, 'course': 'Python'}\n",
      "student2, {'name': 'Raihan', 'semester': 3, 'course': 'Java'}\n",
      "course_free, 2999.9\n"
     ]
    }
   ],
   "source": [
    "# Iteration over nested dictionary\n",
    "\n",
    "for studetn_name, student_info in university.items():\n",
    "    print(f\"{studetn_name}, {student_info}\")"
   ]
  },
  {
   "cell_type": "code",
   "execution_count": null,
   "id": "5280dbdb",
   "metadata": {},
   "outputs": [
    {
     "name": "stdout",
     "output_type": "stream",
     "text": [
      "name and Kz\n",
      "sesemester and 4\n",
      "course and Python\n"
     ]
    }
   ],
   "source": [
    "# print only inner(student1) items\n",
    "\n",
    "for id, val in university[\"student1\"].items():\n",
    "    print(f\"{id} and {val}\")   # here, only print the student1 all items"
   ]
  },
  {
   "cell_type": "code",
   "execution_count": 114,
   "id": "5d1a3272",
   "metadata": {},
   "outputs": [
    {
     "name": "stdout",
     "output_type": "stream",
     "text": [
      "name\n",
      "semester\n",
      "course\n"
     ]
    }
   ],
   "source": [
    "# print only inner(student2) keys\n",
    "for val in university[\"student2\"].keys():\n",
    "    print(f\"{val}\")   # here, only print the student1 keys"
   ]
  },
  {
   "cell_type": "markdown",
   "id": "7b4a6313",
   "metadata": {},
   "source": [
    "### 8. Dictionaries Comprehensions"
   ]
  },
  {
   "cell_type": "code",
   "execution_count": null,
   "id": "0f9d08b2",
   "metadata": {},
   "outputs": [],
   "source": [
    "# Basic syntax of dictionary comprehension\n",
    "\"\"\" \n",
    " {expression for items in sequence} \n",
    "\n",
    "\"\"\""
   ]
  },
  {
   "cell_type": "code",
   "execution_count": 115,
   "id": "c783036b",
   "metadata": {},
   "outputs": [
    {
     "name": "stdout",
     "output_type": "stream",
     "text": [
      "{1: 1, 2: 4, 3: 9, 4: 16, 5: 25, 6: 36, 7: 49, 8: 64, 9: 81, 10: 100}\n"
     ]
    }
   ],
   "source": [
    "# Example_01: dictionary comprehension\n",
    "squares = {item: item**2 for item in range(1,11)}\n",
    "\n",
    "print(squares)"
   ]
  },
  {
   "cell_type": "code",
   "execution_count": null,
   "id": "fc3220ae",
   "metadata": {},
   "outputs": [],
   "source": [
    "# syntax of dictionary comprehension with conditional statement\n",
    "\"\"\" \n",
    " {expression for items in sequence if condition}\n",
    "\n",
    "\"\"\""
   ]
  },
  {
   "cell_type": "code",
   "execution_count": null,
   "id": "d58df1b2",
   "metadata": {},
   "outputs": [
    {
     "name": "stdout",
     "output_type": "stream",
     "text": [
      "{2: 4, 4: 16, 6: 36, 8: 64, 10: 100, 12: 144, 14: 196}\n"
     ]
    }
   ],
   "source": [
    "# Example_02 : dictionary comprehension\n",
    "# print square of even number from 1 to 15\n",
    "\n",
    "even_num = {item: item**2 for item in range(1,16) if item%2 == 0}\n",
    "\n",
    "print(even_num)"
   ]
  },
  {
   "cell_type": "markdown",
   "id": "505cef8f",
   "metadata": {},
   "source": [
    "### 9. Practical Examples"
   ]
  },
  {
   "cell_type": "code",
   "execution_count": 120,
   "id": "0d7c927c",
   "metadata": {},
   "outputs": [
    {
     "name": "stdout",
     "output_type": "stream",
     "text": [
      "{1: 1, 2: 2, 3: 3, 4: 4}\n"
     ]
    }
   ],
   "source": [
    "# use a dictionary to count the freqency of element in given list.\n",
    "\n",
    "# [1,2,2,3,3,3,4,4,4,4]\n",
    "\n",
    "lst = [1,2,2,3,3,3,4,4,4,4]\n",
    "\n",
    "frequency = {}\n",
    "\n",
    "for num in lst:\n",
    "    if num in frequency:\n",
    "        frequency[num] += 1\n",
    "    else:\n",
    "        frequency[num] = 1\n",
    "\n",
    "print(frequency)\n"
   ]
  },
  {
   "cell_type": "code",
   "execution_count": null,
   "id": "dde4e8f5",
   "metadata": {},
   "outputs": [],
   "source": [
    "## Explaination of above problem\n",
    "\n",
    "''' \n",
    "here, \n",
    "  frequency = Null dictionary\n",
    "\n",
    "  lst = [1,2,2,3,3,3,4,4,4,4]\n",
    "\n",
    "iteration_01:\n",
    "    for num in lst:   # check and take to num variable \n",
    "    num = 1\n",
    "\n",
    "    if num in frequency:  # here, frequecny = empty\n",
    "      \n",
    "        - 1 in Null (False)\n",
    "    \n",
    "    go to else cds\n",
    "\n",
    "    else:\n",
    "    frequency{num} = 1\n",
    "    frequency{1} = 1\n",
    "\n",
    "after 1st iteration :\n",
    "frequency{1: 1}\n",
    "        \n",
    "lst = [2,2,3,3,3,4,4,4,4]\n",
    "\n",
    "iteration_02:\n",
    "    for num in lst:   # check and take to num variable \n",
    "    num = 2\n",
    "\n",
    "    if num in frequency:  # here, frequecny = {1}\n",
    "      \n",
    "        - 2 in 1 (False)\n",
    "    \n",
    "    go to else cds\n",
    "\n",
    "    else:\n",
    "    frequency{num} = 1\n",
    "    frequency{2} = 1\n",
    "        \n",
    "frequency{\n",
    "    1: 1,\n",
    "    2 : 1,\n",
    " \n",
    "}\n",
    "\n",
    "\n",
    "lst = [2,3,3,3,4,4,4,4]\n",
    "\n",
    "iteration_03:\n",
    "    for num in lst:   # check and take to num variable \n",
    "    num = 2\n",
    "\n",
    "    if num in frequency:  # here, frequecny = {1,2}\n",
    "      \n",
    "        - 2 in 2 (True)\n",
    "            - frequency[num] += 1\n",
    "            - frequency[2] + = 1\n",
    "            - frequency[2] = 1 + 1\n",
    "                           = 2\n",
    "    \n",
    "frequency{\n",
    "    1: 1,\n",
    "    2 : 2,\n",
    " \n",
    "}\n",
    "\n",
    "lst = [3,3,3,4,4,4,4]\n",
    "\n",
    "iteration_04:\n",
    "    for num in lst:   # check and take to num variable \n",
    "    num = 3\n",
    "\n",
    "    if num in frequency:  # here, frequecny = {1,2,3} value of freqeucny\n",
    "      \n",
    "        - 3 in {1,2,3} (True)\n",
    "            - frequency[num] += 1\n",
    "            - frequency[3] + = 1\n",
    "            - frequency[3] = 0 + 1\n",
    "                           = 1\n",
    "    \n",
    "frequency{\n",
    "    1: 1,\n",
    "    2 : 2,\n",
    "    3 : 1,\n",
    " \n",
    "}\n",
    "\n",
    "\n",
    "lst = [3,3,4,4,4,4]\n",
    "\n",
    "iteration_04:\n",
    "    for num in lst:   # check and take to num variable \n",
    "    num = 3\n",
    "\n",
    "    if num in frequency:  # here, frequecny = {1,2,3} value of freqeucny\n",
    "      \n",
    "        - 3 in {1,2,3} (True)\n",
    "            - frequency[num] += 1\n",
    "            - frequency[3] + = 1\n",
    "            - frequency[3] = 1 + 1\n",
    "                           = 2\n",
    "    \n",
    "frequency{\n",
    "    1: 1,\n",
    "    2 : 2,\n",
    "    3 : 2,\n",
    " \n",
    "}\n",
    "\n",
    "lst = [3,4,4,4,4]\n",
    "\n",
    "iteration_05:\n",
    "    for num in lst:   # check and take to num variable \n",
    "    num = 3\n",
    "\n",
    "    if num in frequency:  # here, frequecny = {1,2,3} value of freqeucny\n",
    "      \n",
    "        - 3 in {1,2,3} (True)\n",
    "            - frequency[num] += 1\n",
    "            - frequency[3] + = 1\n",
    "            - frequency[3] = 2 + 1\n",
    "                           = 3\n",
    "    \n",
    "frequency{\n",
    "    1: 1,\n",
    "    2 : 2,\n",
    "    3 : 3,\n",
    " \n",
    "}\n",
    "\n",
    "and so on.....\n",
    "\n",
    "\n",
    "'''"
   ]
  }
 ],
 "metadata": {
  "kernelspec": {
   "display_name": "venv",
   "language": "python",
   "name": "python3"
  },
  "language_info": {
   "codemirror_mode": {
    "name": "ipython",
    "version": 3
   },
   "file_extension": ".py",
   "mimetype": "text/x-python",
   "name": "python",
   "nbconvert_exporter": "python",
   "pygments_lexer": "ipython3",
   "version": "3.12.11"
  }
 },
 "nbformat": 4,
 "nbformat_minor": 5
}
