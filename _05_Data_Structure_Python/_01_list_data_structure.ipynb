{
 "cells": [
  {
   "cell_type": "markdown",
   "id": "3dbc845b",
   "metadata": {},
   "source": [
    "### Topic: List Data Structure"
   ]
  },
  {
   "cell_type": "markdown",
   "id": "45d27f28",
   "metadata": {},
   "source": [
    "#### OUTCOMES\n",
    "\n",
    "- 1. Introduction to list.\n",
    "\n",
    "- 2. Creating lists.\n",
    "\n",
    "- 3. Accessing and Modify list Items\n",
    "    - Indexing\n",
    "    - Slicing \n",
    "\n",
    "- 4. Lists Method.\n",
    "\n",
    "- 5. Iteration over lists.\n",
    "\n",
    "- 6. List Comprehensions.\n",
    "\n",
    "- 7. Nested lists List Comprehensions.\n",
    "\n",
    "- 8. Practical Example."
   ]
  },
  {
   "cell_type": "markdown",
   "id": "d87469cb",
   "metadata": {},
   "source": [
    "### 1. Introduction to list\n",
    "\n",
    "- A build in data Structure that store elements of different types (int, float, str, bool etc)..\n",
    "\n",
    "- list are ordered, mutable collection of items.\n"
   ]
  },
  {
   "cell_type": "markdown",
   "id": "1b798f25",
   "metadata": {},
   "source": [
    "### 2. Creating lists"
   ]
  },
  {
   "cell_type": "code",
   "execution_count": null,
   "id": "15d6d5e2",
   "metadata": {},
   "outputs": [],
   "source": [
    "# Syntax of list\n",
    "\n",
    "\"\"\"\n",
    "list_name = [item1, item2, item3,....]   # square brackets\n",
    "\n",
    "\"\"\""
   ]
  },
  {
   "cell_type": "code",
   "execution_count": null,
   "id": "e2ac794f",
   "metadata": {},
   "outputs": [
    {
     "name": "stdout",
     "output_type": "stream",
     "text": [
      "<class 'list'>\n"
     ]
    }
   ],
   "source": [
    "# Example_01: creating an empty\n",
    "lst = [ ]  \n",
    "\n",
    "print(type(lst))   # < class 'list >"
   ]
  },
  {
   "cell_type": "code",
   "execution_count": 8,
   "id": "ee2dde34",
   "metadata": {},
   "outputs": [
    {
     "name": "stdout",
     "output_type": "stream",
     "text": [
      "['Kz', 'Ra', 'Rz', 'Az']\n",
      "<class 'list'>\n",
      "<class 'str'>\n"
     ]
    }
   ],
   "source": [
    "# Example_02: creating string list\n",
    "\n",
    "name = ['Kz', 'Ra', 'Rz', 'Az']\n",
    "\n",
    "print(name)\n",
    "\n",
    "print(type(name))     # < class 'list' >\n",
    "\n",
    "print(type(name[0]))   # < class 'str' >"
   ]
  },
  {
   "cell_type": "code",
   "execution_count": 10,
   "id": "4134e712",
   "metadata": {},
   "outputs": [
    {
     "name": "stdout",
     "output_type": "stream",
     "text": [
      "[97.07, 88.89, 95.55, 90.99]\n",
      "<class 'list'>\n"
     ]
    }
   ],
   "source": [
    "# Example_03: creating flaot list\n",
    "\n",
    "marks = [97.07, 88.89, 95.55, 90.99]\n",
    "\n",
    "print(marks)\n",
    "\n",
    "print(type(marks))"
   ]
  },
  {
   "cell_type": "code",
   "execution_count": 12,
   "id": "32d87955",
   "metadata": {},
   "outputs": [
    {
     "name": "stdout",
     "output_type": "stream",
     "text": [
      "['Kz', 24, 5.6, True, 'Python']\n",
      "<class 'list'>\n"
     ]
    }
   ],
   "source": [
    "# Example_04: creating Mixed list\n",
    "\n",
    "mixted_lst = [\"Kz\", 24, 5.6, True, \"Python\"]\n",
    "\n",
    "print(mixted_lst)\n",
    "\n",
    "print(type(mixted_lst))\n"
   ]
  },
  {
   "cell_type": "markdown",
   "id": "7e860634",
   "metadata": {},
   "source": [
    "### 3. Accessing and Modify list Items"
   ]
  },
  {
   "cell_type": "markdown",
   "id": "d35ad551",
   "metadata": {},
   "source": [
    "- 3.1 :  Accessing and Modify list Items by using indexing\n",
    "   "
   ]
  },
  {
   "cell_type": "code",
   "execution_count": null,
   "id": "f3d2f815",
   "metadata": {},
   "outputs": [],
   "source": [
    "#### Accessing list item using index\n",
    "\n",
    "\"\"\"\n",
    "mixted_lst = [\"Kz\", 24, 5.6, True, \"Python\"]\n",
    "\n",
    "According to the  list, the corresponding created idx's\n",
    "\n",
    "\n",
    "-----------------------------------\n",
    "|\"Kz\" |  24 |5.6 | True | Python |\n",
    " ----------------------------------\n",
    "| 0    | 1   | 2  | 3    | 4     |  <---- this is positive idxing format.\n",
    "  -----------------------------------\n",
    "\n",
    "\"\"\""
   ]
  },
  {
   "cell_type": "code",
   "execution_count": null,
   "id": "ecabcafd",
   "metadata": {},
   "outputs": [
    {
     "name": "stdout",
     "output_type": "stream",
     "text": [
      "Kz\n"
     ]
    }
   ],
   "source": [
    "# Accessing list using positive idx\n",
    "\n",
    "lst = [\"Kz\", 24, 5.6, True, \"Python\"]\n",
    "\n",
    "first_item = lst[0]\n",
    "\n",
    "print(first_item)\n"
   ]
  },
  {
   "cell_type": "code",
   "execution_count": 15,
   "id": "1bc59ba1",
   "metadata": {},
   "outputs": [
    {
     "name": "stdout",
     "output_type": "stream",
     "text": [
      "Python\n"
     ]
    }
   ],
   "source": [
    "# another way\n",
    "print(lst[4])"
   ]
  },
  {
   "cell_type": "code",
   "execution_count": null,
   "id": "ee556d21",
   "metadata": {},
   "outputs": [],
   "source": [
    "#### # Accessing list using negative idx\n",
    "\n",
    "\"\"\"\n",
    "mixted_lst = [\"Kz\", 24, 5.6, True, \"Python\"]\n",
    "\n",
    "According to the  list, the corresponding created negative idx's\n",
    "- negative idx start with end of the list\n",
    "\n",
    "\n",
    "-----------------------------------\n",
    "|\"Kz\" |  24 | 5.6 | True | Python |\n",
    " ----------------------------------\n",
    "| -5  | -4  |- 3  | -2   | -1     |  <---- this is negative idxing format.\n",
    "  -----------------------------------\n",
    "\n",
    "\"\"\""
   ]
  },
  {
   "cell_type": "code",
   "execution_count": null,
   "id": "b06f279e",
   "metadata": {},
   "outputs": [
    {
     "name": "stdout",
     "output_type": "stream",
     "text": [
      "Python\n",
      "Kz\n",
      "5.6\n"
     ]
    }
   ],
   "source": [
    "#### # Accessing list using negative idx\n",
    "\n",
    "lst = [\"Kz\", 24, 5.6, True, \"Python\"]\n",
    "\n",
    "print(lst[-1])\n",
    "\n",
    "print(lst[-5])\n",
    "\n",
    "print(lst[-3])\n"
   ]
  },
  {
   "cell_type": "markdown",
   "id": "ed120274",
   "metadata": {},
   "source": [
    "- Modify list Items by using indexing"
   ]
  },
  {
   "cell_type": "code",
   "execution_count": null,
   "id": "3091fb87",
   "metadata": {},
   "outputs": [],
   "source": [
    "'''\n",
    " ----------------------------------\n",
    "| 0    | 1   | 2  | 3    | 4     |  <---- this is positive idxing.\n",
    "-----------------------------------\n",
    "|\"Kz\" |  24 | 5.6 | True | Python |\n",
    " ----------------------------------\n",
    "| -5  | -4  |- 3  | -2   | -1     |  <---- this is negative idxing.\n",
    "  -----------------------------------\n",
    "\n",
    "'''"
   ]
  },
  {
   "cell_type": "code",
   "execution_count": 22,
   "id": "edfa36f7",
   "metadata": {},
   "outputs": [
    {
     "name": "stdout",
     "output_type": "stream",
     "text": [
      "['Ra', 24, 6.2, True, 'Python']\n"
     ]
    }
   ],
   "source": [
    "# Modify list items using  positive idx\n",
    "\n",
    "lst = [\"Kz\", 24, 5.6, True, \"Python\"]\n",
    "\n",
    "lst[0] = \"Ra\"\n",
    "lst[2] = 6.2\n",
    "\n",
    "print(lst)"
   ]
  },
  {
   "cell_type": "code",
   "execution_count": 25,
   "id": "fa995e4a",
   "metadata": {},
   "outputs": [
    {
     "name": "stdout",
     "output_type": "stream",
     "text": [
      "['Kz', 20, 5.6, True, 'C']\n"
     ]
    }
   ],
   "source": [
    "# Modify list items using  Negative idx\n",
    "\n",
    "lst = [\"Kz\", 24, 5.6, True, \"Python\"]\n",
    "\n",
    "lst[-1] = \"C\"\n",
    "lst[-4] = 20\n",
    "\n",
    "print(lst)"
   ]
  },
  {
   "cell_type": "markdown",
   "id": "4dead44e",
   "metadata": {},
   "source": [
    "- 3.2 :  Accessing and Modify list Items by using Slicing\n"
   ]
  },
  {
   "cell_type": "code",
   "execution_count": 29,
   "id": "258581e6",
   "metadata": {},
   "outputs": [
    {
     "ename": "TypeError",
     "evalue": "list indices must be integers or slices, not tuple",
     "output_type": "error",
     "traceback": [
      "\u001b[31m---------------------------------------------------------------------------\u001b[39m",
      "\u001b[31mTypeError\u001b[39m                                 Traceback (most recent call last)",
      "\u001b[36mCell\u001b[39m\u001b[36m \u001b[39m\u001b[32mIn[29]\u001b[39m\u001b[32m, line 5\u001b[39m\n\u001b[32m      2\u001b[39m lst = [\u001b[33m\"\u001b[39m\u001b[33mKz\u001b[39m\u001b[33m\"\u001b[39m, \u001b[32m24\u001b[39m, \u001b[32m5.6\u001b[39m, \u001b[38;5;28;01mTrue\u001b[39;00m, \u001b[33m\"\u001b[39m\u001b[33mPython\u001b[39m\u001b[33m\"\u001b[39m]\n\u001b[32m      4\u001b[39m \u001b[38;5;66;03m# access multiple items is prosible using idx\u001b[39;00m\n\u001b[32m----> \u001b[39m\u001b[32m5\u001b[39m \u001b[38;5;28mprint\u001b[39m(\u001b[43mlst\u001b[49m\u001b[43m[\u001b[49m\u001b[32;43m1\u001b[39;49m\u001b[43m,\u001b[49m\u001b[32;43m2\u001b[39;49m\u001b[43m]\u001b[49m)\n",
      "\u001b[31mTypeError\u001b[39m: list indices must be integers or slices, not tuple"
     ]
    }
   ],
   "source": [
    "### Create Indexing problem\n",
    "lst = [\"Kz\", 24, 5.6, True, \"Python\"]\n",
    "\n",
    "# access multiple items is prosible using idx\n",
    "print(lst[1,2])\n",
    "\n"
   ]
  },
  {
   "cell_type": "code",
   "execution_count": 30,
   "id": "dfb8ab79",
   "metadata": {},
   "outputs": [
    {
     "ename": "TypeError",
     "evalue": "list indices must be integers or slices, not tuple",
     "output_type": "error",
     "traceback": [
      "\u001b[31m---------------------------------------------------------------------------\u001b[39m",
      "\u001b[31mTypeError\u001b[39m                                 Traceback (most recent call last)",
      "\u001b[36mCell\u001b[39m\u001b[36m \u001b[39m\u001b[32mIn[30]\u001b[39m\u001b[32m, line 3\u001b[39m\n\u001b[32m      1\u001b[39m \u001b[38;5;66;03m# modify multiple items is prosible using idx\u001b[39;00m\n\u001b[32m----> \u001b[39m\u001b[32m3\u001b[39m \u001b[43mlst\u001b[49m\u001b[43m[\u001b[49m\u001b[32;43m1\u001b[39;49m\u001b[43m,\u001b[49m\u001b[32;43m2\u001b[39;49m\u001b[43m]\u001b[49m = \u001b[33m\"\u001b[39m\u001b[33mRA\u001b[39m\u001b[33m\"\u001b[39m, \u001b[32m34\u001b[39m\n\u001b[32m      4\u001b[39m \u001b[38;5;28mprint\u001b[39m(lst)\n",
      "\u001b[31mTypeError\u001b[39m: list indices must be integers or slices, not tuple"
     ]
    }
   ],
   "source": [
    "# modify multiple items is prosible using idx\n",
    "\n",
    "lst[1,2] = \"RA\", 34\n",
    "print(lst)\n"
   ]
  },
  {
   "cell_type": "markdown",
   "id": "e193ce7a",
   "metadata": {},
   "source": [
    "##### Slicing\n",
    "- Acess and modify multiple list items.\n",
    "\n",
    "- Extract sublist of the list using the colon (:) operator."
   ]
  },
  {
   "cell_type": "code",
   "execution_count": null,
   "id": "3fc48a22",
   "metadata": {},
   "outputs": [],
   "source": [
    "# Syntax of slicing\n",
    "\"\"\"\n",
    "list_name = [start_idx : stop_idx: step_size]\n",
    "\n",
    "- start_idx = 0 (By Default). and it's inclusive.\n",
    "\n",
    "- stop_idx = up to the last items (length of the list) (By Default) and it's not inclusive (Exclusive).\n",
    "\n",
    "- step_size = 1 (By Default)\n",
    "\n",
    "\n",
    "\"\"\""
   ]
  },
  {
   "cell_type": "code",
   "execution_count": null,
   "id": "3af6e4d4",
   "metadata": {},
   "outputs": [],
   "source": [
    "'''\n",
    " ----------------------------------\n",
    "| 0    | 1   | 2  | 3    | 4     |  <---- this is positive idxing.\n",
    "-----------------------------------\n",
    "|\"Kz\" |  24 | 5.6 | True | Python |\n",
    " ----------------------------------\n",
    "\n",
    "'''"
   ]
  },
  {
   "cell_type": "code",
   "execution_count": 34,
   "id": "363aadba",
   "metadata": {},
   "outputs": [
    {
     "name": "stdout",
     "output_type": "stream",
     "text": [
      "['Kz', 24, 5.6]\n",
      "<class 'list'>\n"
     ]
    }
   ],
   "source": [
    "# Example_01: Access items using slicing\n",
    "\n",
    "lst = [\"Kz\", 24, 5.6, True, \"Python\"]\n",
    "\n",
    "first_to_third = lst[0:3:1]  # from 0 idx to 3-1 (3 is not include) idx all item is print.\n",
    "print(first_to_third)\n",
    "\n",
    "print(type(first_to_third)) # sublist"
   ]
  },
  {
   "cell_type": "code",
   "execution_count": null,
   "id": "f2c3e93a",
   "metadata": {},
   "outputs": [
    {
     "name": "stdout",
     "output_type": "stream",
     "text": [
      "[24, 5.6, True, 'Python']\n",
      "['Kz', 24, 5.6, True, 'Python']\n",
      "['Kz', 24, 5.6, True, 'Python']\n"
     ]
    }
   ],
   "source": [
    "# Example_02: Access items using slicing\n",
    "\n",
    "lst = [\"Kz\", 24, 5.6, True, \"Python\"]\n",
    "\n",
    "print(lst[1:])\n",
    "\n",
    "print(lst[:])  # all items print according to slicing default value that's automatically work.\n",
    "\n",
    "print(lst[::]) # same concept \n",
    "\n",
    "\n"
   ]
  },
  {
   "cell_type": "code",
   "execution_count": null,
   "id": "e3d53b99",
   "metadata": {},
   "outputs": [],
   "source": [
    "'''\n",
    " --------------------------------------------------\n",
    "| 0 |   1 |  2 |  3 |  4 | 5 | 6  | 7  | 8  | 9  |  <---- this is positive idxing.\n",
    "--------------------------------------------------\n",
    "|10 |  20 | 30 | 40 | 50 | 60 | 70| 80 | 90 | 100|  # items of the list (nums)\n",
    " ------------------------------------------------\n",
    "\n",
    "'''"
   ]
  },
  {
   "cell_type": "code",
   "execution_count": 44,
   "id": "42702878",
   "metadata": {},
   "outputs": [
    {
     "name": "stdout",
     "output_type": "stream",
     "text": [
      "[20, 40, 60, 80, 100]\n",
      "[10, 40, 70]\n",
      "[60, 80, 100]\n",
      "[20, 30, 40, 50, 60, 70, 80, 90, 100]\n"
     ]
    }
   ],
   "source": [
    "# Example_03: Access items using slicing\n",
    "\n",
    "nums = [10, 20, 30, 40, 50, 60, 70, 80, 90, 100]\n",
    "\n",
    "print(nums[1: : 2])\n",
    "\n",
    "print(nums[:8:3])\n",
    "\n",
    "print(nums[5::2])\n",
    "\n",
    "print(nums[1:10:])  \n",
    "\n"
   ]
  },
  {
   "cell_type": "code",
   "execution_count": 46,
   "id": "70f82517",
   "metadata": {},
   "outputs": [
    {
     "name": "stdout",
     "output_type": "stream",
     "text": [
      "[100, 90]\n",
      "[80, 60, 40]\n"
     ]
    }
   ],
   "source": [
    "# Example_04: Access items using slicing nevative idx\n",
    "\n",
    "print(nums[-1:-3:-1])\n",
    "\n",
    "print(nums[-3:-9:-2])\n"
   ]
  },
  {
   "cell_type": "code",
   "execution_count": null,
   "id": "925e131c",
   "metadata": {},
   "outputs": [],
   "source": [
    "'''\n",
    " --------------------------------------------------\n",
    "| 0 |   1 |  2 |  3 |  4 | 5 | 6  | 7  | 8  | 9  |  <---- this is positive idxing.\n",
    "--------------------------------------------------\n",
    "|10 |  20 | 30 | 40 | 50 | 60 | 70| 80 | 90 | 100|  # items of the list (nums)\n",
    " ------------------------------------------------\n",
    "\n",
    "'''"
   ]
  },
  {
   "cell_type": "code",
   "execution_count": 50,
   "id": "3d71d4b4",
   "metadata": {},
   "outputs": [
    {
     "name": "stdout",
     "output_type": "stream",
     "text": [
      "[500, 600, 700, 800, 900, 60, 70, 80, 90, 100]\n"
     ]
    }
   ],
   "source": [
    "# modify multiple list items using slicing\n",
    "\n",
    "nums = [10, 20, 30, 40, 50, 60, 70, 80, 90, 100]\n",
    "\n",
    "nums[0:5] = [500, 600, 700, 800, 900]\n",
    "\n",
    "print(nums)"
   ]
  },
  {
   "cell_type": "markdown",
   "id": "eba64280",
   "metadata": {},
   "source": [
    "### 4. Lists Method."
   ]
  },
  {
   "cell_type": "code",
   "execution_count": 58,
   "id": "2ef677a1",
   "metadata": {},
   "outputs": [
    {
     "name": "stdout",
     "output_type": "stream",
     "text": [
      "['Apple', 'Mango', 'banana', 'cherry', 'kiwi', 'Orange']\n"
     ]
    }
   ],
   "source": [
    "# 1st_method: append(item)\n",
    "# Add an item to the end of the list.\n",
    "\n",
    "fruits = ['Apple', 'Mango', 'banana', 'cherry', 'kiwi']\n",
    "\n",
    "fruits.append('Orange')\n",
    "\n",
    "print(fruits)"
   ]
  },
  {
   "cell_type": "code",
   "execution_count": 59,
   "id": "b5306d2c",
   "metadata": {},
   "outputs": [
    {
     "name": "stdout",
     "output_type": "stream",
     "text": [
      "['Apple', 'Mango', 'Jackfruit', 'banana', 'cherry', 'kiwi', 'Orange']\n"
     ]
    }
   ],
   "source": [
    "# 2nd Method: insert(idx, item): Insert the item according to the idx.\n",
    "\n",
    "fruits.insert(2, \"Jackfruit\")\n",
    "\n",
    "print(fruits)"
   ]
  },
  {
   "cell_type": "code",
   "execution_count": null,
   "id": "cccddab2",
   "metadata": {},
   "outputs": [
    {
     "name": "stdout",
     "output_type": "stream",
     "text": [
      "['Apple', 'Mango', 'Jackfruit', 'banana', 'cherry', 'kiwi', 'Orange', 'Litchi', 'Watermelon']\n"
     ]
    }
   ],
   "source": [
    "# 3th method : extend([item1, item2, item3]) \n",
    "\n",
    "# Add multiple items at the end of the list\n",
    "fruits.extend([\"Litchi\", \"Watermelon\"])\n",
    "\n",
    "print(fruits)"
   ]
  },
  {
   "cell_type": "code",
   "execution_count": null,
   "id": "e70b03d1",
   "metadata": {},
   "outputs": [
    {
     "name": "stdout",
     "output_type": "stream",
     "text": [
      "1\n"
     ]
    }
   ],
   "source": [
    "# 4th Method: index(item): Return the idx of the item occurrence\n",
    "\n",
    "print(fruits.index(\"Mango\"))\n"
   ]
  },
  {
   "cell_type": "code",
   "execution_count": 55,
   "id": "f7726218",
   "metadata": {},
   "outputs": [
    {
     "data": {
      "text/plain": [
       "'Mango'"
      ]
     },
     "execution_count": 55,
     "metadata": {},
     "output_type": "execute_result"
    }
   ],
   "source": [
    "fruits[1]"
   ]
  },
  {
   "cell_type": "code",
   "execution_count": null,
   "id": "e4bef643",
   "metadata": {},
   "outputs": [
    {
     "ename": "ValueError",
     "evalue": "'Lemon' is not in list",
     "output_type": "error",
     "traceback": [
      "\u001b[31m---------------------------------------------------------------------------\u001b[39m",
      "\u001b[31mValueError\u001b[39m                                Traceback (most recent call last)",
      "\u001b[36mCell\u001b[39m\u001b[36m \u001b[39m\u001b[32mIn[56]\u001b[39m\u001b[32m, line 1\u001b[39m\n\u001b[32m----> \u001b[39m\u001b[32m1\u001b[39m \u001b[38;5;28mprint\u001b[39m(\u001b[43mfruits\u001b[49m\u001b[43m.\u001b[49m\u001b[43mindex\u001b[49m\u001b[43m(\u001b[49m\u001b[33;43m\"\u001b[39;49m\u001b[33;43mLemon\u001b[39;49m\u001b[33;43m\"\u001b[39;49m\u001b[43m)\u001b[49m)\n",
      "\u001b[31mValueError\u001b[39m: 'Lemon' is not in list"
     ]
    }
   ],
   "source": [
    "# if the item is not present then it will generated error\n",
    "print(fruits.index(\"Lemon\"))"
   ]
  },
  {
   "cell_type": "code",
   "execution_count": 64,
   "id": "75d22034",
   "metadata": {},
   "outputs": [
    {
     "name": "stdout",
     "output_type": "stream",
     "text": [
      "['Apple', 'Mango', 'Mango', 'Mango', 'Jackfruit', 'banana', 'cherry', 'kiwi', 'Orange', 'Litchi', 'Watermelon']\n"
     ]
    }
   ],
   "source": [
    "## insert item\n",
    "fruits.insert(2, \"Mango\")\n",
    "\n",
    "print(fruits)"
   ]
  },
  {
   "cell_type": "code",
   "execution_count": 65,
   "id": "ac22d0cc",
   "metadata": {},
   "outputs": [
    {
     "name": "stdout",
     "output_type": "stream",
     "text": [
      "3\n"
     ]
    }
   ],
   "source": [
    "# 5th Method : count(\"item\") \n",
    "\n",
    "# counting the item that inside the list\n",
    "\n",
    "mango_count = fruits.count(\"Mango\")\n",
    "\n",
    "print(mango_count)\n",
    "\n"
   ]
  },
  {
   "cell_type": "code",
   "execution_count": null,
   "id": "0cb1f806",
   "metadata": {},
   "outputs": [
    {
     "name": "stdout",
     "output_type": "stream",
     "text": [
      "['Apple', 'Mango', 'Mango', 'Jackfruit', 'banana', 'cherry', 'kiwi', 'Orange', 'Litchi', 'Watermelon']\n"
     ]
    }
   ],
   "source": [
    "# 6th Method : remove(\"item\") \n",
    "\n",
    "# Remove the item inside the list of first occurance.\n",
    "\n",
    "fruits.remove(\"Mango\")\n",
    "\n",
    "print(fruits)\n"
   ]
  },
  {
   "cell_type": "code",
   "execution_count": 68,
   "id": "9edde5b7",
   "metadata": {},
   "outputs": [
    {
     "name": "stdout",
     "output_type": "stream",
     "text": [
      "2\n"
     ]
    }
   ],
   "source": [
    "mango_count = fruits.count(\"Mango\")\n",
    "\n",
    "print(mango_count)"
   ]
  },
  {
   "cell_type": "code",
   "execution_count": 70,
   "id": "f5bcfd79",
   "metadata": {},
   "outputs": [
    {
     "name": "stdout",
     "output_type": "stream",
     "text": [
      "['Apple', 'Mango', 'Mango', 'Jackfruit', 'banana', 'cherry', 'kiwi', 'Orange']\n"
     ]
    }
   ],
   "source": [
    "# 7th Method : pop() \n",
    "\n",
    "# Remove and Return the last item inside the list.\n",
    "\n",
    "last_item = fruits.pop()\n",
    "\n",
    "print(fruits)\n"
   ]
  },
  {
   "cell_type": "code",
   "execution_count": null,
   "id": "4ce89250",
   "metadata": {},
   "outputs": [
    {
     "data": {
      "text/plain": [
       "'Litchi'"
      ]
     },
     "execution_count": 71,
     "metadata": {},
     "output_type": "execute_result"
    }
   ],
   "source": [
    "last_item  # Return the last item"
   ]
  },
  {
   "cell_type": "code",
   "execution_count": 72,
   "id": "7f4de18f",
   "metadata": {},
   "outputs": [
    {
     "name": "stdout",
     "output_type": "stream",
     "text": [
      "['Apple', 'Jackfruit', 'Mango', 'Mango', 'Orange', 'banana', 'cherry', 'kiwi']\n"
     ]
    }
   ],
   "source": [
    "# 8th Method : sort() \n",
    "\n",
    "# sort the list in ascending order.\n",
    "\n",
    "fruits.sort()\n",
    "\n",
    "print(fruits)\n"
   ]
  },
  {
   "cell_type": "code",
   "execution_count": 107,
   "id": "16218ec9",
   "metadata": {},
   "outputs": [],
   "source": [
    "fruits = ['Apple', 'Mango', 'banana', 'cherry', 'kiwi']\n"
   ]
  },
  {
   "cell_type": "code",
   "execution_count": 108,
   "id": "5d5d2606",
   "metadata": {},
   "outputs": [
    {
     "name": "stdout",
     "output_type": "stream",
     "text": [
      "['kiwi', 'cherry', 'banana', 'Mango', 'Apple']\n"
     ]
    }
   ],
   "source": [
    "# 9th Method : reverse() \n",
    "\n",
    "# reverse the list.\n",
    "\n",
    "fruits.reverse()\n",
    "\n",
    "print(fruits)\n"
   ]
  },
  {
   "cell_type": "code",
   "execution_count": 109,
   "id": "cbeb8bf3",
   "metadata": {},
   "outputs": [
    {
     "name": "stdout",
     "output_type": "stream",
     "text": [
      "['kiwi', 'cherry', 'banana', 'Mango', 'Apple']\n"
     ]
    }
   ],
   "source": [
    "# 10th Method : copy()\n",
    "\n",
    "# copy all list items\n",
    "ban_fruits = fruits.copy()\n",
    "\n",
    "print(ban_fruits)"
   ]
  },
  {
   "cell_type": "code",
   "execution_count": 110,
   "id": "f9157827",
   "metadata": {},
   "outputs": [
    {
     "name": "stdout",
     "output_type": "stream",
     "text": [
      "[]\n"
     ]
    }
   ],
   "source": [
    "# 11th Method : clear() \n",
    "\n",
    "# Remove all items from the list.\n",
    "\n",
    "fruits.clear()\n",
    "\n",
    "print(fruits)\n"
   ]
  },
  {
   "cell_type": "markdown",
   "id": "9a4e0cc3",
   "metadata": {},
   "source": [
    "### 5. Iteration over lists."
   ]
  },
  {
   "cell_type": "code",
   "execution_count": 77,
   "id": "efd34f6d",
   "metadata": {},
   "outputs": [
    {
     "name": "stdout",
     "output_type": "stream",
     "text": [
      "10\n",
      "20\n",
      "30\n",
      "40\n",
      "50\n",
      "60\n",
      "70\n",
      "80\n",
      "90\n",
      "100\n"
     ]
    }
   ],
   "source": [
    "nums = [10, 20, 30, 40, 50, 60, 70, 80, 90, 100]\n",
    "\n",
    "for item in nums:\n",
    "    print(item)\n"
   ]
  },
  {
   "cell_type": "code",
   "execution_count": 82,
   "id": "079f22b7",
   "metadata": {},
   "outputs": [
    {
     "name": "stdout",
     "output_type": "stream",
     "text": [
      "0 10\n",
      "1 20\n",
      "2 30\n",
      "3 40\n",
      "4 50\n",
      "5 60\n",
      "6 70\n",
      "7 80\n",
      "8 90\n",
      "9 100\n"
     ]
    }
   ],
   "source": [
    "# Iteration with idx\n",
    "nums = [10, 20, 30, 40, 50, 60, 70, 80, 90, 100]\n",
    "\n",
    "for idx, item in enumerate(nums):\n",
    "    print(idx, item)"
   ]
  },
  {
   "cell_type": "markdown",
   "id": "e321fc2a",
   "metadata": {},
   "source": [
    "### 6. List Comprehensions.\n",
    "- format that allow the concise creation of collections.\n",
    "\n",
    "- provide a more readable and concise way to create collections compared to traditional loops."
   ]
  },
  {
   "cell_type": "code",
   "execution_count": null,
   "id": "04c57d44",
   "metadata": {},
   "outputs": [],
   "source": [
    "# Synatax of List comprehension\n",
    "\n",
    "'''\n",
    "# 1. Basic Syntax\n",
    "[ expression  for item in iterable ]\n",
    "\n",
    "# 2. With Conditional logic \n",
    "\n",
    "[ expression for item iterable  if condition ]\n",
    "\n",
    "\n",
    "here, expression = output\n",
    "\n",
    "'''"
   ]
  },
  {
   "cell_type": "code",
   "execution_count": null,
   "id": "b75e4e7b",
   "metadata": {},
   "outputs": [
    {
     "name": "stdout",
     "output_type": "stream",
     "text": [
      "[0, 1, 2, 3, 4, 5, 6, 7, 8, 9]\n"
     ]
    }
   ],
   "source": [
    "# Example_01 : List comprehension with Basic Syntax\n",
    "\n",
    "# Traditional way\n",
    "lst = []\n",
    "\n",
    "for i in range(10):\n",
    "    lst.append(i)\n",
    "\n",
    "print(lst)"
   ]
  },
  {
   "cell_type": "code",
   "execution_count": 85,
   "id": "eebd2f30",
   "metadata": {},
   "outputs": [
    {
     "name": "stdout",
     "output_type": "stream",
     "text": [
      "[0, 1, 2, 3, 4, 5, 6, 7, 8, 9, 10, 11, 12, 13, 14]\n"
     ]
    }
   ],
   "source": [
    "# apply List comprehension\n",
    "\n",
    "lst = [i for i in range(15)]\n",
    "\n",
    "print(lst)"
   ]
  },
  {
   "cell_type": "code",
   "execution_count": 2,
   "id": "11563f13",
   "metadata": {},
   "outputs": [
    {
     "name": "stdout",
     "output_type": "stream",
     "text": [
      "[1, 4, 9, 16, 25, 36, 49, 64, 81]\n"
     ]
    }
   ],
   "source": [
    "# Example_02 : List comprehension with Basic Syntax\n",
    "\n",
    "# Traditional way\n",
    "squal_num = []\n",
    "\n",
    "for item in range(1,10):\n",
    "    squal_num.append(item**2)\n",
    "\n",
    "print(squal_num)\n",
    "\n"
   ]
  },
  {
   "cell_type": "code",
   "execution_count": 88,
   "id": "019bee06",
   "metadata": {},
   "outputs": [
    {
     "name": "stdout",
     "output_type": "stream",
     "text": [
      "[1, 4, 9, 16, 25, 36, 49, 64, 81]\n"
     ]
    }
   ],
   "source": [
    "# Apply list comprehension\n",
    "\n",
    "lst_squal = [item * item for item in range(1,10)]\n",
    "\n",
    "print(lst_squal)"
   ]
  },
  {
   "cell_type": "code",
   "execution_count": 3,
   "id": "1bbf1c86",
   "metadata": {},
   "outputs": [
    {
     "name": "stdout",
     "output_type": "stream",
     "text": [
      "[1, 4, 9, 16, 25, 36, 49, 64, 81]\n"
     ]
    }
   ],
   "source": [
    "# only using print() function\n",
    "print([item ** 2 for item in range(1,10)])"
   ]
  },
  {
   "cell_type": "code",
   "execution_count": null,
   "id": "98e6a9a1",
   "metadata": {},
   "outputs": [
    {
     "name": "stdout",
     "output_type": "stream",
     "text": [
      "[2, 4, 6, 8, 10, 12, 14, 16, 18]\n"
     ]
    }
   ],
   "source": [
    "# 2. list comprehension With Conditional logic\n",
    "\n",
    "# print only even number(1-20) using traditional way\n",
    "\n",
    "even_lst = []\n",
    "\n",
    "for item in range(1,20):\n",
    "    if item%2 == 0:\n",
    "       even_lst.append(item)\n",
    "    \n",
    "print(even_lst)\n"
   ]
  },
  {
   "cell_type": "code",
   "execution_count": 93,
   "id": "63ba5414",
   "metadata": {},
   "outputs": [
    {
     "name": "stdout",
     "output_type": "stream",
     "text": [
      "[2, 4, 6, 8, 10, 12, 14, 16, 18]\n"
     ]
    }
   ],
   "source": [
    "# Apply print only even number(1-20) using list comprehension\n",
    "\n",
    "lst_even = [item for item in range(1,20)  if item%2==0]\n",
    "\n",
    "print(lst_even)"
   ]
  },
  {
   "cell_type": "code",
   "execution_count": 100,
   "id": "90560e30",
   "metadata": {},
   "outputs": [
    {
     "name": "stdout",
     "output_type": "stream",
     "text": [
      "[2, 4, 6, 8, 10, 12, 14, 16, 18]\n",
      "[1, 3, 5, 7, 9, 11, 13, 15, 17, 19]\n"
     ]
    }
   ],
   "source": [
    "# 3. list comprehension With Conditional logic\n",
    "\n",
    "evn_lst = []\n",
    "\n",
    "od_lst = []\n",
    "\n",
    "[evn_lst.append(item) if item%2 == 0 else od_lst.append(item) for item in range(1,20) ]\n",
    "\n",
    "print(evn_lst)\n",
    "print(od_lst)\n",
    "\n"
   ]
  },
  {
   "cell_type": "markdown",
   "id": "ae0c75f5",
   "metadata": {},
   "source": [
    "### 7. Nested lists List Comprehensions."
   ]
  },
  {
   "cell_type": "code",
   "execution_count": null,
   "id": "65aad27e",
   "metadata": {},
   "outputs": [],
   "source": [
    "'''\n",
    "Syntax: \n",
    " [[expression] for item1 in sequnce1 for item2 in seqence2 ]\n",
    "\n",
    "\n",
    "'''"
   ]
  },
  {
   "cell_type": "code",
   "execution_count": 103,
   "id": "f768430e",
   "metadata": {},
   "outputs": [
    {
     "name": "stdout",
     "output_type": "stream",
     "text": [
      "[[1, 'a'], [1, 'b'], [1, 'c'], [1, 'd'], [2, 'a'], [2, 'b'], [2, 'c'], [2, 'd'], [3, 'a'], [3, 'b'], [3, 'c'], [3, 'd'], [4, 'a'], [4, 'b'], [4, 'c'], [4, 'd'], [5, 'a'], [5, 'b'], [5, 'c'], [5, 'd']]\n"
     ]
    }
   ],
   "source": [
    "lst_1 = [1,2,3, 4,5]\n",
    "\n",
    "lst_2 = ['a', 'b', 'c', 'd']\n",
    "\n",
    "pair = [[item1,item2] for item1 in lst_1 for item2 in lst_2]\n",
    "\n",
    "print(pair)"
   ]
  },
  {
   "cell_type": "markdown",
   "id": "4250a19a",
   "metadata": {},
   "source": [
    "### 8. Practical Example."
   ]
  },
  {
   "cell_type": "code",
   "execution_count": null,
   "id": "a8befb5a",
   "metadata": {},
   "outputs": [
    {
     "name": "stdout",
     "output_type": "stream",
     "text": [
      "['The Wild Robot', 'Devdas', 'Bahubali 2', 'Parineeta']\n"
     ]
    }
   ],
   "source": [
    "# Eg_01: WAP to ask the user to enter names their 4 favorite movies and store them in list.\n",
    "# The Wild Robot,  devdas, bahubali 2, Parineeta \n",
    "\n",
    "fv_movies = []\n",
    "\n",
    "for movies in range(4):\n",
    "    \n",
    "    movies = input(\"Enter your 4 fv movie: \")\n",
    "    fv_movies.append(movies)\n",
    "\n",
    "print(fv_movies)"
   ]
  },
  {
   "cell_type": "code",
   "execution_count": null,
   "id": "940e4e5e",
   "metadata": {},
   "outputs": [],
   "source": [
    "# Eg_02: WAP to check if a list contains a palindrome of elements"
   ]
  },
  {
   "cell_type": "code",
   "execution_count": 132,
   "id": "0373145c",
   "metadata": {},
   "outputs": [
    {
     "name": "stdout",
     "output_type": "stream",
     "text": [
      "3\n"
     ]
    }
   ],
   "source": [
    "# Eg_03: WAP to count the number of students with the 'A' grade in the following list\n",
    "# [\"C\", \"D\", \"A\", \"A\", \"B\" \"B\", \"A\"]\n",
    "\n",
    "grade = [\"C\", \"D\", \"A\", \"A\", \"B\", \"A\",  \"B\"]\n",
    "\n",
    "a_grade = grade.count(\"A\")\n",
    "\n",
    "print(a_grade)"
   ]
  },
  {
   "cell_type": "code",
   "execution_count": 133,
   "id": "ea584737",
   "metadata": {},
   "outputs": [
    {
     "name": "stdout",
     "output_type": "stream",
     "text": [
      "['A', 'A', 'A', 'B', 'B', 'C', 'D']\n"
     ]
    }
   ],
   "source": [
    "# Eg_04: Sort them from \"A\" to \"D\"\n",
    "\n",
    "grade.sort()\n",
    "print(grade)\n"
   ]
  },
  {
   "cell_type": "code",
   "execution_count": null,
   "id": "b2165037",
   "metadata": {},
   "outputs": [],
   "source": [
    "# Eg_05: WAP to to store severn fruits in a list by the user input."
   ]
  },
  {
   "cell_type": "code",
   "execution_count": 144,
   "id": "28ff6256",
   "metadata": {},
   "outputs": [
    {
     "name": "stdout",
     "output_type": "stream",
     "text": [
      "[1, 2, 3, 4, 5, 6, 7, 8, 9, 10, 11, 12, 13, 14, 15, 16, 17, 18, 19, 20, 21, 22, 23, 24, 25, 26, 27, 28, 29, 30, 31, 32, 33, 34, 35, 36, 37, 38, 39, 40, 41, 42, 43, 44, 45, 46, 47, 48, 49, 50]\n",
      "Sum of first 50 numbers: 1275\n"
     ]
    }
   ],
   "source": [
    "# Eg_06: WAP to sum a list 50 numbers\n",
    "\n",
    "lst = []\n",
    "sum = 0\n",
    "\n",
    "for item in range(1,51):\n",
    "    lst.append(item)\n",
    "    sum += item\n",
    "\n",
    "print(lst)\n",
    "print(f\"Sum of first 50 numbers: {sum}\")"
   ]
  }
 ],
 "metadata": {
  "kernelspec": {
   "display_name": "venv",
   "language": "python",
   "name": "python3"
  },
  "language_info": {
   "codemirror_mode": {
    "name": "ipython",
    "version": 3
   },
   "file_extension": ".py",
   "mimetype": "text/x-python",
   "name": "python",
   "nbconvert_exporter": "python",
   "pygments_lexer": "ipython3",
   "version": "3.12.11"
  }
 },
 "nbformat": 4,
 "nbformat_minor": 5
}
