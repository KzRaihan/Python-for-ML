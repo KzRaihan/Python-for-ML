{
 "cells": [
  {
   "cell_type": "markdown",
   "id": "64cd3c70",
   "metadata": {},
   "source": [
    "### Topic: List Practices"
   ]
  },
  {
   "cell_type": "markdown",
   "id": "cc9bbc8f",
   "metadata": {},
   "source": [
    "#### Practice_01: Manage A To do list.\n",
    "\n",
    "- Create a To do list to keep track of tasks."
   ]
  },
  {
   "cell_type": "code",
   "execution_count": null,
   "id": "6fa79630",
   "metadata": {},
   "outputs": [
    {
     "name": "stdout",
     "output_type": "stream",
     "text": [
      "My To do list: \n",
      "- Buy Groceries\n",
      "- Clean the house\n",
      "- Utility Bills\n",
      "\n",
      "New Task in my to do list: \n",
      "- Scheduling Meething\n",
      "- Go to a Run\n",
      "\n",
      "After add New task in my To do list: \n",
      "-Buy Groceries\n",
      "-Clean the house\n",
      "-Utility Bills\n",
      "-Scheduling Meething\n",
      "-Go to a Run\n",
      "\n",
      "Completed Tasks are: \n",
      "- Clean the house\n",
      "- Go to a Run\n",
      "\n",
      "Alarm Me for Important task\n",
      "Don't forget to pay the Utility Bills\n",
      "\n",
      "To Do list remaining...\n",
      "- Buy Groceries\n",
      "- Utility Bills\n",
      "- Scheduling Meething\n"
     ]
    }
   ],
   "source": [
    "# Sove_01: Practice\n",
    "\n",
    "# create a to do list of my task or  Initial to-do list\n",
    "to_do_list = [\"Buy Groceries\", \"Clean the house\", \"Utility Bills\"]\n",
    "\n",
    "# Display my primary to do list\n",
    "\n",
    "print(f\"My To do list: \")\n",
    "for lst in to_do_list:\n",
    "    print(f\"- {lst}\") \n",
    "\n",
    "# Adding some tasks\n",
    "\n",
    "to_do_list.append(\"Scheduling Meething\")\n",
    "to_do_list.append(\"Go to a Run\")\n",
    "\n",
    "# Display which task are added\n",
    "\n",
    "print(f\"\\nNew Task in my to do list: \")\n",
    "print(f\"- {to_do_list[-2]}\")\n",
    "print(f\"- {to_do_list[-1]}\")\n",
    "\n",
    "# After added new task then my to do list\n",
    "print(\"\\nAfter add New task in my To do list: \")\n",
    "for all_task in to_do_list:\n",
    "    print(f\"-{all_task}\")\n",
    "\n",
    "# Removing a completed task\n",
    "\n",
    "remove_task = [\"Clean the house\",\"Go to a Run\"]\n",
    "\n",
    "\n",
    "# Removing tasks and add compled task\n",
    "\n",
    "comple_task = []\n",
    "\n",
    "for tasks in remove_task:\n",
    "    if tasks in to_do_list:\n",
    "        to_do_list.remove(tasks)\n",
    "        comple_task.append(tasks)\n",
    "    \n",
    "\n",
    "print(\"\\nCompleted Tasks are: \")\n",
    "\n",
    "for item in comple_task:\n",
    "    print(f\"- {item}\")\n",
    "\n",
    " \n",
    "# Checking if a task is in the list.\n",
    "print(\"\\nAlarm Me for Important task\")\n",
    "if \"Utility Bills\" in to_do_list:\n",
    "    print(\"Don't forget to pay the Utility Bills\")\n",
    "\n",
    "# Display remaining to do list\n",
    "\n",
    "print(\"\\nTo Do list remaining...\")\n",
    "\n",
    "for task in to_do_list:\n",
    "    print(f\"- {task}\")\n"
   ]
  },
  {
   "cell_type": "markdown",
   "id": "5ef6cfea",
   "metadata": {},
   "source": [
    "#### Practice_02: Organizing Student Grades\n",
    "\n",
    "- Create a list to store and calculate average grades for students."
   ]
  },
  {
   "cell_type": "code",
   "execution_count": null,
   "id": "fcc651e5",
   "metadata": {},
   "outputs": [
    {
     "name": "stdout",
     "output_type": "stream",
     "text": [
      "Grades are: [85, 90, 97, 89, 93, 92, 96, 95]\n",
      "Average grade: 92.12\n",
      "The Highest Grade: 97\n",
      "The Highest Grade: 85\n"
     ]
    }
   ],
   "source": [
    "# solve- Practice_02\n",
    "# initialize the student grades\n",
    "grades = [85, 90, 97,89,93,92,96]\n",
    "\n",
    "# Adding a new grades\n",
    "grades.append(95)\n",
    "\n",
    "# Display all grades\n",
    "print(f\"Grades are: {grades}\")\n",
    "\n",
    "# calculate the average grade\n",
    "\n",
    "avg_grade = sum(grades)/len(grades)\n",
    "\n",
    "# dispaly the average grade\n",
    "\n",
    "print(f\"Average grade: {avg_grade:.2f}\")\n",
    "\n",
    "# finding the highest and lowest grades\n",
    "\n",
    "max_grade = max(grades)\n",
    "\n",
    "min_grade = min(grades)\n",
    "\n",
    "\n",
    "print(f\"The Highest Grade: {max_grade}\")\n",
    "print(f\"The Highest Grade: {min_grade}\")\n"
   ]
  },
  {
   "cell_type": "markdown",
   "id": "17e6107c",
   "metadata": {},
   "source": [
    "#### Practice_03: Managing An Inventory\n",
    "\n",
    "- Use a list ot manage inventory items in a store."
   ]
  },
  {
   "cell_type": "code",
   "execution_count": null,
   "id": "529eee24",
   "metadata": {},
   "outputs": [
    {
     "name": "stdout",
     "output_type": "stream",
     "text": [
      "\n",
      "All inventory: \n",
      "- Apple\n",
      "- Bananas\n",
      "- Strawberries\n",
      "- Oranges\n",
      "- Grapes\n",
      "Oranges are in stock\n",
      "\n",
      "-Apple\n",
      "-Bananas\n",
      "-Strawberries\n",
      "-Oranges\n"
     ]
    }
   ],
   "source": [
    "# solve- Practice_02\n",
    "\n",
    "# initialize the Inventory\n",
    "\n",
    "inventory = [\"Apple\", \"Bananas\", \"Oranges\", \"Grapes\"]\n",
    "\n",
    "# Adding a new item\n",
    "\n",
    "inventory.insert(2,\"Strawberries\") # insert into 2-idx\n",
    "\n",
    "# display all inventory \n",
    "\n",
    "print(f\"\\nAll inventory: \")\n",
    "for item in inventory:\n",
    "    print(f\"- {item}\")\n",
    "\n",
    "# Remove an item that is out of stock\n",
    "print(\"\\nRemoving item in the stock:\")\n",
    "\n",
    "stock_out = inventory.pop()\n",
    "\n",
    "# checking if an item is in stock\n",
    "\n",
    "item = \"Oranges\"\n",
    "\n",
    "if item in inventory:\n",
    "    print(f\"{item} are in stock\")\n",
    "else:\n",
    "    print(f\"{item} are out of stock\")\n",
    "\n",
    "# display remaing items\n",
    "for item in inventory:\n",
    "    print(f\"-{item}\")\n"
   ]
  },
  {
   "cell_type": "code",
   "execution_count": null,
   "id": "db10bdc4",
   "metadata": {},
   "outputs": [],
   "source": []
  },
  {
   "cell_type": "code",
   "execution_count": null,
   "id": "8adf3376",
   "metadata": {},
   "outputs": [],
   "source": []
  }
 ],
 "metadata": {
  "kernelspec": {
   "display_name": "venv",
   "language": "python",
   "name": "python3"
  },
  "language_info": {
   "codemirror_mode": {
    "name": "ipython",
    "version": 3
   },
   "file_extension": ".py",
   "mimetype": "text/x-python",
   "name": "python",
   "nbconvert_exporter": "python",
   "pygments_lexer": "ipython3",
   "version": "3.12.11"
  }
 },
 "nbformat": 4,
 "nbformat_minor": 5
}
